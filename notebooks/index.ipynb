{
 "cells": [
  {
   "cell_type": "markdown",
   "metadata": {},
   "source": [
    "# Welcome to `maxrf4u` \n",
    "\n",
    "> Are you also struggling to make sense of your noisy and too-big-for-memory XRF spectral image data? "
   ]
  },
  {
   "cell_type": "markdown",
   "metadata": {},
   "source": [
    "Macro X-Ray Florescence (MA-XRF) scanning of cultural heritage objects is becoming a standard technique that is increasingly applied to paper based artworks. Unfortunately, the visualization and interpretation of MA-XRF data is technically challenging. That is why I have started to develop the open source python package `maxrf4u` to help you with your data analysis. \n",
    "\n",
    "If you are interested you can follow my ideas under construction here and already try out the Jupyter notebooks in this repository. My goal is to make the package available for installation soon. "
   ]
  }
 ],
 "metadata": {
  "kernelspec": {
   "display_name": "Python 3",
   "language": "python",
   "name": "python3"
  }
 },
 "nbformat": 4,
 "nbformat_minor": 2
}
