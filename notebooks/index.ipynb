{
 "cells": [
  {
   "cell_type": "markdown",
   "metadata": {},
   "source": [
    "# Welcome to maxrf4u\n",
    "\n",
    "> Also struggling to make sense of your noisy and too-big-for-memory MA-XRF spectral image data? "
   ]
  },
  {
   "cell_type": "markdown",
   "metadata": {},
   "source": [
    "Macro X-Ray Fluorescence (MA-XRF) scanning of cultural heritage objects is becoming a standard technique that is increasingly applied also to paper based artworks. Unfortunately, the visualization and interpretation of MA-XRF data is technically challenging and therefore obstructing interdisciplinary cooperation. That is why I have started to develop the open source python package `maxrf4u` to help you and me with our data analysis.  \n",
    "\n",
    "This package is developed out in the open. If you are interested you can follow my ideas under construction in this documentation and already try out the Jupyter [notebooks](https://github.com/fligt/maxrf4u/tree/main/notebooks) in this repository. Although this is **a-work-in-progress**, the package available for installation from the python package index: \n",
    "\n",
    "[![](https://badge.fury.io/py/maxrf4u.svg)](https://pypi.org/project/maxrf4u/)\n",
    "\n",
    "Frank Ligterink \n",
    "\n",
    "See [link](https://fligt.github.io/maxrf4u/) to documentation. "
   ]
  },
  {
   "cell_type": "code",
   "execution_count": null,
   "metadata": {},
   "outputs": [],
   "source": []
  }
 ],
 "metadata": {
  "kernelspec": {
   "display_name": "python3",
   "language": "python",
   "name": "python3"
  }
 },
 "nbformat": 4,
 "nbformat_minor": 4
}
