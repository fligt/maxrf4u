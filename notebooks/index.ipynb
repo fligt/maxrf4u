{
 "cells": [
  {
   "cell_type": "markdown",
   "metadata": {},
   "source": [
    "# Welcome to maxrf4u\n",
    "\n",
    "> Also struggling to make sense of your noisy and too-big-for-memory MA-XRF spectral image data? "
   ]
  },
  {
   "cell_type": "markdown",
   "metadata": {},
   "source": [
    "Macro X-Ray Fluorescence (MA-XRF) scanning of cultural heritage objects is becoming a standard technique that is increasingly applied to paper based artworks. Unfortunately, the visualization and interpretation of MA-XRF data is technically challenging. That is why I have started to develop the open source python package `maxrf4u` to help you with your data analysis. \n",
    "\n",
    "If you are interested you can follow my ideas under construction here and already try out the Jupyter notebooks in this repository. My goal is to make the package available for installation soon. \n",
    "\n",
    "See [link](https://fligt.github.io/maxrf4u/) to documentation. "
   ]
  }
 ],
 "metadata": {
  "kernelspec": {
   "display_name": "Python 3",
   "language": "python",
   "name": "python3"
  }
 },
 "nbformat": 4,
 "nbformat_minor": 2
}
