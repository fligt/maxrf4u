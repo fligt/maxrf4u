{
 "cells": [
  {
   "cell_type": "code",
   "execution_count": null,
   "metadata": {},
   "outputs": [],
   "source": [
    "#default_exp fingerprints"
   ]
  },
  {
   "cell_type": "markdown",
   "metadata": {},
   "source": [
    "# Fingerprints \n",
    "\n",
    "> From element maps to media maps "
   ]
  },
  {
   "cell_type": "code",
   "execution_count": null,
   "metadata": {},
   "outputs": [],
   "source": [
    "#hide \n",
    "%load_ext autoreload\n",
    "%autoreload 2 \n",
    "%matplotlib notebook"
   ]
  },
  {
   "cell_type": "code",
   "execution_count": null,
   "metadata": {},
   "outputs": [],
   "source": [
    "# hide \n",
    "import os \n",
    "os.chdir('/home/frank/Work/Projecten/DoRe/viz/raw_nmf')"
   ]
  },
  {
   "cell_type": "code",
   "execution_count": null,
   "metadata": {},
   "outputs": [],
   "source": [
    "#hide \n",
    "import numpy as np \n",
    "import matplotlib.pyplot as plt \n",
    "import skimage.exposure as ske\n",
    "\n",
    "from maxrf4u import DataStack"
   ]
  },
  {
   "cell_type": "code",
   "execution_count": null,
   "metadata": {},
   "outputs": [],
   "source": [
    "#hide \n",
    "ds = DataStack('RP-T-1898-A-3689.datastack') \n",
    "extent = ds.read('imvis_extent')\n",
    "imvis = ds.read('imvis_reg_highres')\n",
    "\n",
    "x_keVs = ds.read('maxrf_energies') \n",
    "y_max = ds.read('maxrf_maxspectrum')\n",
    "y_sum = ds.read('maxrf_sumspectrum') \n",
    "\n",
    "hotmax_pixels = ds.read('hotmax_pixels')\n",
    "hotmax_spectra = ds.read('hotmax_spectra')\n",
    "hotmax_baselines = ds.read('hotmax_baselines')\n",
    "\n",
    "peak_idxs = hotmax_pixels[:,2]"
   ]
  },
  {
   "cell_type": "markdown",
   "metadata": {},
   "source": [
    "**Need to elaborate on this later...**"
   ]
  },
  {
   "cell_type": "markdown",
   "metadata": {},
   "source": [
    "From my perspective element maps are nice as such. However the ultimate question is: Why do we find which elements where? What do we learn about the materials used by the artist? Paper, ink, paint?  "
   ]
  },
  {
   "cell_type": "markdown",
   "metadata": {},
   "source": [
    "Let's see what happens if we apply NMF again, this time without imposing any information on the components. Let's plot the element maps that we will now use as an input to create our ultimate media maps. "
   ]
  },
  {
   "cell_type": "code",
   "execution_count": null,
   "metadata": {},
   "outputs": [],
   "source": [
    "import sklearn.decomposition as skd \n",
    "from maxrf4u import multi_plot"
   ]
  },
  {
   "cell_type": "code",
   "execution_count": null,
   "metadata": {},
   "outputs": [],
   "source": [
    "elements = ds.read('nmf_elements') \n",
    "element_maps = ds.read('nmf_elementmaps')\n",
    "\n",
    "element_maps_histeq = [ske.equalize_hist(m) for m in element_maps]"
   ]
  },
  {
   "cell_type": "code",
   "execution_count": null,
   "metadata": {},
   "outputs": [
    {
     "data": {
      "text/html": [
       "..",
       "<img src=\"./images/_80_fingerprints_14a43a8396.png\">"
      ]
     },
     "execution_count": null,
     "metadata": {},
     "output_type": "execute_result"
    }
   ],
   "source": [
    "fig, axs = multi_plot(*element_maps_histeq,titles=elements)\n",
    "fig.suptitle('Element maps (histogram equalized)')\n",
    "plt.tight_layout()"
   ]
  },
  {
   "cell_type": "markdown",
   "metadata": {},
   "source": [
    "## Histogram and false color image exploration "
   ]
  },
  {
   "cell_type": "markdown",
   "metadata": {},
   "source": [
    "Let's normalize our element maps right from the start. "
   ]
  },
  {
   "cell_type": "code",
   "execution_count": null,
   "metadata": {},
   "outputs": [],
   "source": [
    "elements = ds.read('nmf_elements') \n",
    "element_maps = ds.read('nmf_elementmaps')"
   ]
  },
  {
   "cell_type": "code",
   "execution_count": null,
   "metadata": {},
   "outputs": [],
   "source": [
    "element_stack = element_maps.transpose([1, 2, 0])\n",
    "h, w, d = element_stack.shape\n",
    "\n",
    "map_maxima = np.max(element_stack.reshape([h * w, d]), axis=0)\n",
    "element_stack = element_stack / map_maxima[None, None, :]"
   ]
  },
  {
   "cell_type": "code",
   "execution_count": null,
   "metadata": {},
   "outputs": [
    {
     "data": {
      "text/html": [
       "..",
       "<img src=\"./images/_80_fingerprints_1d9cf7342b.png\">"
      ]
     },
     "execution_count": null,
     "metadata": {},
     "output_type": "execute_result"
    }
   ],
   "source": [
    "multi_plot(*element_stack.transpose([2, 0, 1]), titles=elements);"
   ]
  },
  {
   "cell_type": "markdown",
   "metadata": {},
   "source": [
    "## Automatic NMF? "
   ]
  },
  {
   "cell_type": "markdown",
   "metadata": {},
   "source": [
    "**Not working yet...**"
   ]
  },
  {
   "cell_type": "markdown",
   "metadata": {},
   "source": [
    "For further experimentation let's first try a part of the drawing. "
   ]
  },
  {
   "cell_type": "code",
   "execution_count": null,
   "metadata": {},
   "outputs": [],
   "source": [
    "element_stack = element_maps[:, 700:1000, 700:1000].transpose([1, 2, 0])\n",
    "\n",
    "h, w, d = element_stack.shape\n",
    "\n",
    "# flatten into list \n",
    "X = element_stack.reshape([h * w, d])"
   ]
  },
  {
   "cell_type": "code",
   "execution_count": null,
   "metadata": {},
   "outputs": [],
   "source": [
    "n_components = 9\n",
    "H, W, n_iter = skd.non_negative_factorization(X, n_components=n_components, init='nndsvda', max_iter=1000)"
   ]
  },
  {
   "cell_type": "code",
   "execution_count": null,
   "metadata": {},
   "outputs": [
    {
     "data": {
      "text/html": [
       "..",
       "<img src=\"./images/_80_fingerprints_571b79ef33.png\">"
      ]
     },
     "execution_count": null,
     "metadata": {},
     "output_type": "execute_result"
    }
   ],
   "source": [
    "fig, ax = plt.subplots(figsize=[9, 5])\n",
    "ax.imshow(W)\n",
    "ax.set_xticks(range(len(elements)), labels=elements);"
   ]
  },
  {
   "cell_type": "code",
   "execution_count": null,
   "metadata": {},
   "outputs": [
    {
     "data": {
      "text/html": [
       "..",
       "<img src=\"./images/_80_fingerprints_7dbf860770.png\">"
      ]
     },
     "execution_count": null,
     "metadata": {},
     "output_type": "execute_result"
    }
   ],
   "source": [
    "H_img = H.reshape([h, w, n_components]).transpose([2, 0, 1])\n",
    "\n",
    "H_img_histeq = [ske.equalize_hist(m) for m in H_img]\n",
    "\n",
    "titles = [f'{elements[i]}+' for i in np.argmax(W, axis=1)]\n",
    "\n",
    "fig, axs = multi_plot(*H_img_histeq, titles=titles)\n",
    "fig.suptitle('Auto fingerprint? That would have been too easy.');\n",
    "plt.tight_layout()\n"
   ]
  },
  {
   "cell_type": "markdown",
   "metadata": {},
   "source": [
    "This little experiment with the NMF algorithm shows that calcium, iron, potassium and sulfur in the ink are not automatically combined into a single map. Would have been too easy. "
   ]
  },
  {
   "cell_type": "markdown",
   "metadata": {},
   "source": [
    "Ok, so we need to take a closer look into: 1) providing component information, or 2) alternative algorithms, such as UMAP?"
   ]
  },
  {
   "cell_type": "markdown",
   "metadata": {},
   "source": [
    "## Hypersphere normalization "
   ]
  },
  {
   "cell_type": "markdown",
   "metadata": {},
   "source": [
    "**Not working yet...**"
   ]
  },
  {
   "cell_type": "markdown",
   "metadata": {},
   "source": [
    "My expectation is that our spectral image is actually quite linear with respect to concentration of a given material. This would imply that we can eliminate the effect of concentration by projecting onto an (eleven dimensional) hypersphere. So, let's try that..."
   ]
  },
  {
   "cell_type": "code",
   "execution_count": null,
   "metadata": {},
   "outputs": [],
   "source": [
    "element_stack = element_maps.transpose([1, 2, 0])\n",
    "\n",
    "h, w, d = element_stack.shape"
   ]
  },
  {
   "cell_type": "markdown",
   "metadata": {},
   "source": [
    "First we need to pre-normalize the individual element maps. "
   ]
  },
  {
   "cell_type": "code",
   "execution_count": null,
   "metadata": {},
   "outputs": [],
   "source": [
    "max_intensities = np.max(element_stack.reshape(h*w, d), axis=0)"
   ]
  },
  {
   "cell_type": "code",
   "execution_count": null,
   "metadata": {},
   "outputs": [],
   "source": [
    "element_stack_prenorm = element_stack / max_intensities[None, None, :]"
   ]
  },
  {
   "cell_type": "markdown",
   "metadata": {},
   "source": [
    "Now I need the hypersphere norm for each vector.  "
   ]
  },
  {
   "cell_type": "code",
   "execution_count": null,
   "metadata": {},
   "outputs": [],
   "source": [
    "hnorms = np.sqrt(np.sum(element_stack_prenorm * element_stack_prenorm, axis=2))[:,:, None]"
   ]
  },
  {
   "cell_type": "code",
   "execution_count": null,
   "metadata": {},
   "outputs": [],
   "source": [
    "element_stack_norm = element_stack / hnorms \n",
    "element_maps_norm = element_stack_norm.transpose([2, 0, 1])"
   ]
  },
  {
   "cell_type": "code",
   "execution_count": null,
   "metadata": {},
   "outputs": [
    {
     "data": {
      "text/plain": [
       "(11, 1692, 1592)"
      ]
     },
     "execution_count": null,
     "metadata": {},
     "output_type": "execute_result"
    }
   ],
   "source": [
    "element_maps_norm.shape"
   ]
  },
  {
   "cell_type": "code",
   "execution_count": null,
   "metadata": {},
   "outputs": [
    {
     "data": {
      "text/html": [
       "..",
       "<img src=\"./images/_80_fingerprints_5de0d0e6e3.png\">"
      ]
     },
     "execution_count": null,
     "metadata": {},
     "output_type": "execute_result"
    }
   ],
   "source": [
    "multi_plot(*element_maps_norm, titles=elements);"
   ]
  }
 ],
 "metadata": {
  "kernelspec": {
   "display_name": "python3",
   "language": "python",
   "name": "python3"
  }
 },
 "nbformat": 4,
 "nbformat_minor": 2
}
