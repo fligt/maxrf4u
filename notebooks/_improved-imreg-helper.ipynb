{
 "cells": [
  {
   "cell_type": "markdown",
   "metadata": {},
   "source": [
    "# Improved imreg helper"
   ]
  },
  {
   "cell_type": "markdown",
   "metadata": {},
   "source": [
    "*Based on my current code I would like to test an improved imreg helper.* \n",
    "\n",
    "With: \n",
    "* cleaner code, \n",
    "* 2x4 corner maps, \n",
    "* input of existing corner coordinates "
   ]
  },
  {
   "cell_type": "code",
   "execution_count": null,
   "metadata": {},
   "outputs": [],
   "source": [
    "%load_ext autoreload\n",
    "%autoreload 2 \n",
    "%matplotlib notebook"
   ]
  },
  {
   "cell_type": "markdown",
   "metadata": {},
   "source": [
    "## Loading source and destiny images "
   ]
  },
  {
   "cell_type": "code",
   "execution_count": null,
   "metadata": {},
   "outputs": [],
   "source": [
    "import os \n",
    "os.chdir('/home/frank/Work/Projecten/DoRe/viz/raw_nmf')"
   ]
  },
  {
   "cell_type": "code",
   "execution_count": null,
   "metadata": {},
   "outputs": [],
   "source": [
    "import numpy as np \n",
    "import matplotlib.pyplot as plt \n",
    "import skimage.exposure as ske\n",
    "\n",
    "from maxrf4u import DataStack"
   ]
  },
  {
   "cell_type": "code",
   "execution_count": null,
   "metadata": {},
   "outputs": [
    {
     "data": {
      "text/plain": [
       "60"
      ]
     },
     "execution_count": null,
     "metadata": {},
     "output_type": "execute_result"
    }
   ],
   "source": [
    "ds = DataStack('RP-T-1898-A-3689.datastack') \n",
    "\n",
    "x_keVs = ds.read('maxrf_energies')\n",
    "y_max = ds.read('maxrf_maxspectrum') \n",
    "cube = ds.read('maxrf_cube', compute=False) # don't load into memory yet (too big)\n",
    "\n",
    "is_iron_Ka_band = (x_keVs > 6.1) * (x_keVs < 6.7) \n",
    "np.sum(is_iron_Ka_band)"
   ]
  },
  {
   "cell_type": "code",
   "execution_count": null,
   "metadata": {},
   "outputs": [],
   "source": [
    "FeKa_slice = cube[:,:,is_iron_Ka_band].compute() # load only this slice into memory \n",
    "FeKa_map = FeKa_slice.sum(axis=2) / 60 # number of channels in the Fe_Ka band "
   ]
  },
  {
   "cell_type": "code",
   "execution_count": null,
   "metadata": {},
   "outputs": [],
   "source": [
    "susanna_highres_file = '/home/frank/Work/Projecten/DoRe/data/drawings/rma-web-highres/RP-T-1898-A-3689_highres.png'\n",
    "susanna_highres = plt.imread(susanna_highres_file)\n",
    "\n",
    "im_src = susanna_highres\n",
    "im_dst = np.clip(FeKa_map, a_min=0, a_max=2) "
   ]
  },
  {
   "cell_type": "markdown",
   "metadata": {},
   "source": [
    "# Ipyleaflet "
   ]
  },
  {
   "cell_type": "markdown",
   "metadata": {},
   "source": [
    "https://towardsdatascience.com/ipyleaflet-interactive-mapping-in-jupyter-notebook-994f19611e79"
   ]
  },
  {
   "cell_type": "markdown",
   "metadata": {},
   "source": [
    "    icon_url = “http://icons.iconarchive.com/icons/pelfusion/long-shadow-media/512/Maps-Pin-Place-icon.png\"\n",
    "    \n",
    "    icon = Icon(icon_url=icon_url)\n",
    "    \n",
    "    mark = Marker(location=[57.719503, 12.008843], icon=icon, rotation_angle=0, rotation_origin=’128px 128px’)"
   ]
  },
  {
   "cell_type": "markdown",
   "metadata": {},
   "source": [
    "SVG as icons: https://www.python-graph-gallery.com/312-add-markers-on-folium-map\n",
    "\n",
    "    folium.Marker(\n",
    "            location=[data.iloc[i]['lat'], data.iloc[i]['lon']],\n",
    "            popup=popup,\n",
    "            icon=folium.DivIcon(html=f\"\"\"\n",
    "                <div><svg>\n",
    "                    <circle cx=\"50\" cy=\"50\" r=\"40\" fill=\"#69b3a2\" opacity=\".4\"/>\n",
    "                    <rect x=\"35\", y=\"35\" width=\"30\" height=\"30\", fill=\"red\", opacity=\".3\" \n",
    "                </svg></div>\"\"\")"
   ]
  },
  {
   "cell_type": "code",
   "execution_count": null,
   "metadata": {},
   "outputs": [],
   "source": [
    "from ipyleaflet import (Map, ImageOverlay, FullScreenControl, projections, Marker, Rectangle, Icon, AwesomeIcon,\n",
    "                        WidgetControl, DivIcon, Popup) \n",
    "from ipywidgets import Layout, VBox, GridBox, Textarea, HTML, jslink, FloatText \n",
    "from ipywidgets.embed import embed_minimal_html \n",
    "\n",
    "from maxrf4u import img_to_url \n",
    "\n",
    "h_src, w_src = im_src.shape[0:2]\n",
    "h_dst, w_dst = im_dst.shape[0:2]\n",
    "\n",
    "url_src, shape_src = img_to_url(im_src, max_width=500)\n",
    "url_dst, shape_dst = img_to_url(im_dst/im_dst.max())"
   ]
  },
  {
   "cell_type": "code",
   "execution_count": null,
   "metadata": {},
   "outputs": [],
   "source": [
    "def extract_marker_points(markers, im_src, im_dst, roundoff=True): \n",
    "    '''Extracts current marker locations from `markers` and flips into image coordinates. \n",
    "    \n",
    "    Returns: pts_src, pts_dst '''\n",
    "    \n",
    "    h_src = im_src.shape[0]\n",
    "    h_dst = im_dst.shape[0]\n",
    "    \n",
    "    markers_src = markers[0:4] \n",
    "    markers_dst = markers[4:8]\n",
    "    \n",
    "    pts_src = []\n",
    "    for mrk in markers_src: \n",
    "        \n",
    "        y_flip, x = mrk.location\n",
    "        xy = x, h_src - y_flip \n",
    "        pts_src.append(xy)\n",
    "        \n",
    "        \n",
    "    pts_src = np.array(pts_src)\n",
    "    if roundoff: \n",
    "        pts_src = np.round(pts_src, decimals=2)\n",
    "        \n",
    "    pts_dst = []\n",
    "    for mrk in markers_dst: \n",
    "        \n",
    "        y_flip, x = mrk.location\n",
    "        xy = x, h_dst - y_flip \n",
    "        pts_dst.append(xy)\n",
    "        \n",
    "    pts_dst = np.array(pts_dst)\n",
    "    \n",
    "    if roundoff: \n",
    "        pts_dst = np.round(pts_dst, decimals=2)\n",
    "        \n",
    "    return pts_src, pts_dst "
   ]
  },
  {
   "cell_type": "code",
   "execution_count": null,
   "metadata": {},
   "outputs": [
    {
     "data": {
      "application/vnd.jupyter.widget-view+json": {
       "model_id": "962b2b4d27a44cfa8fa6536ab6252860",
       "version_major": 2,
       "version_minor": 0
      },
      "text/plain": [
       "GridBox(children=(Map(center=[2460.0, 2198.0], controls=(ZoomControl(options=['position', 'zoom_in_text', 'zoo…"
      ]
     },
     "execution_count": null,
     "metadata": {},
     "output_type": "execute_result"
    }
   ],
   "source": [
    "layout = Layout(width='90%', height='200px')\n",
    "grid_layout = Layout(grid_template_columns='repeat(4, 25%)') \n",
    "crs = projections['Simple']\n",
    "fsc = FullScreenControl() \n",
    "\n",
    "# default marker locations  \n",
    "mloc_src = [[h_src, 0], [h_src, w_src], [0, 0], [0, w_src]]\n",
    "mloc_dst = [[h_dst, 0], [h_dst, w_dst], [0, 0], [0, w_dst]]\n",
    "\n",
    "# marker colors \n",
    "colors = ['red', 'green', 'blue', 'orange']\n",
    "\n",
    "# svg \n",
    "\n",
    "#icon=DivIcon(html=f\"\"\"\n",
    "#                  <div><svg>\n",
    "#                  <circle cx=\"50\" cy=\"50\" r=\"40\" fill=\"#69b3a2\" opacity=\".4\"/>\n",
    "#                  <rect x=\"35\", y=\"35\" width=\"30\" height=\"30\", fill=\"red\", opacity=\".3\" \n",
    "#                  </svg></div>\"\"\")\n",
    "\n",
    "icon_url = 'http://icons.iconarchive.com/icons/pelfusion/long-shadow-media/512/Maps-Pin-Place-icon.png'\n",
    "\n",
    "\n",
    "\n",
    "icon = Icon(icon_url=icon_url, icon_size=[50, 50])\n",
    "\n",
    "#create map widgets \n",
    "maps = []\n",
    "markers = []\n",
    "\n",
    "# source image maps \n",
    "\n",
    "for location, color in zip(mloc_src, colors): \n",
    "    \n",
    "    m = Map(center=[0.5*h_src, 0.5*w_src], zoom=-5, crs=crs, layout=layout, \n",
    "            scroll_wheel_zoom=True, min_zoom=-10, interpolation='nearest') \n",
    "       \n",
    "    imo_src = ImageOverlay(url=url_src, bounds=[[-0.5, -0.5], [h_src+0.5, w_src+0.5]]) \n",
    "    #icon = AwesomeIcon(name='circle-o', marker_color=color)\n",
    "    \n",
    "    #mrk = Marker(location=location, icon=icon)\n",
    "    mrk = Marker(location=location, icon=icon)\n",
    "    markers.append(mrk)\n",
    "    \n",
    "    m.add(fsc) \n",
    "    m.add(imo_src)\n",
    "    m.add(mrk)\n",
    "    m.remove(m.layers[0]) # hack to remove world map \n",
    "    \n",
    "    maps.append(m)\n",
    "\n",
    "# destination image maps \n",
    "\n",
    "for location, color in zip(mloc_dst, colors): \n",
    "    \n",
    "    m = Map(center=[0.5*h_dst, 0.5*w_dst], zoom=-5, crs=crs, layout=layout, \n",
    "            scroll_wheel_zoom=True, min_zoom=-10, interpolation='nearest', attribution='xyz')\n",
    "    \n",
    "    imo_dst = ImageOverlay(attribution='abc', url=url_dst, bounds=[[-0.5, -0.5], [h_dst+0.5, w_dst+0.5]]) \n",
    "    \n",
    "    icon = AwesomeIcon(name='circle-o', marker_color=color)\n",
    "    mrk = Marker(location=location, icon=icon, title='xyz') \n",
    "    markers.append(mrk)\n",
    "    \n",
    "    m.add(fsc) \n",
    "    m.add(imo_dst)\n",
    "    m.add(mrk)\n",
    "    m.remove(m.layers[0]) # hack to remove world map \n",
    "    \n",
    "    maps.append(m)    \n",
    "\n",
    "gridbox = GridBox(maps, layout=grid_layout)\n",
    "\n",
    "gridbox"
   ]
  },
  {
   "cell_type": "code",
   "execution_count": null,
   "metadata": {},
   "outputs": [],
   "source": [
    "import ipyleaflet as leaf"
   ]
  },
  {
   "cell_type": "code",
   "execution_count": null,
   "metadata": {},
   "outputs": [],
   "source": [
    "leaf.DivIcon??"
   ]
  },
  {
   "cell_type": "code",
   "execution_count": null,
   "metadata": {},
   "outputs": [
    {
     "data": {
      "text/plain": [
       "'/mnt/datadisk/Work/Projecten/DoRe/viz/raw_nmf'"
      ]
     },
     "execution_count": null,
     "metadata": {},
     "output_type": "execute_result"
    }
   ],
   "source": [
    "import os\n",
    "os.getcwd()"
   ]
  },
  {
   "cell_type": "code",
   "execution_count": null,
   "metadata": {},
   "outputs": [],
   "source": [
    "AwesomeIcon??"
   ]
  },
  {
   "cell_type": "code",
   "execution_count": null,
   "metadata": {},
   "outputs": [],
   "source": [
    "embed_minimal_html('gridbox.html', gridbox)"
   ]
  },
  {
   "cell_type": "code",
   "execution_count": null,
   "metadata": {},
   "outputs": [],
   "source": [
    "html = '<div style=\"color: red; background-color: rgba(0, 255, 0, 0.5)\">text</div>'\n",
    "\n",
    "div_icon = DivIcon(html=html, bg_pos=location, icon_anchor=[0, 0], icon_size=[20, 20])"
   ]
  },
  {
   "cell_type": "code",
   "execution_count": null,
   "metadata": {},
   "outputs": [
    {
     "data": {
      "text/plain": [
       "<bound method HasTraits.trait_values of DivIcon(bg_pos=[0, 1592], html='<div style=\"color: red; background-color: rgba(0, 255, 0, 0.5)\">text</div>', icon_anchor=[0, 0], icon_size=[20, 20], options=['bg_pos', 'html', 'icon_anchor', 'icon_size', 'popup_anchor'], popup_anchor=[0, 0])>"
      ]
     },
     "execution_count": null,
     "metadata": {},
     "output_type": "execute_result"
    }
   ],
   "source": [
    "textbox.add_traits()"
   ]
  },
  {
   "cell_type": "code",
   "execution_count": null,
   "metadata": {},
   "outputs": [
    {
     "data": {
      "text/plain": [
       "(array([[-224.1, -232. ],\n",
       "        [4396. ,    0. ],\n",
       "        [   0. , 4920. ],\n",
       "        [4396. , 4920. ]]),\n",
       " array([[ 160.07,  156.  ],\n",
       "        [1592.  ,    0.  ],\n",
       "        [   0.  , 1692.  ],\n",
       "        [1592.  , 1692.  ]]))"
      ]
     },
     "execution_count": null,
     "metadata": {},
     "output_type": "execute_result"
    }
   ],
   "source": [
    "extract_marker_points(markers, im_src, im_dst)"
   ]
  },
  {
   "cell_type": "markdown",
   "metadata": {},
   "source": [
    "# Gridbox code "
   ]
  },
  {
   "cell_type": "code",
   "execution_count": null,
   "metadata": {},
   "outputs": [
    {
     "data": {
      "text/plain": [
       "[4919.953125, -0.015625]"
      ]
     },
     "execution_count": null,
     "metadata": {},
     "output_type": "execute_result"
    }
   ],
   "source": [
    "mr"
   ]
  },
  {
   "cell_type": "code",
   "execution_count": null,
   "metadata": {},
   "outputs": [],
   "source": [
    "import json \n",
    "import os \n",
    "\n",
    "import IPython \n",
    "\n",
    "from IPython.display import display\n",
    "\n",
    "from ipywidgets.embed import embed_minimal_html, embed_data \n",
    "from ipywidgets import Layout, HBox, VBox, GridBox, jslink, HTML \n",
    "from ipywidgets import Widget \n",
    "\n",
    "from ipyleaflet import (Map, projections, ImageOverlay, Rectangle, ZoomControl, FullScreenControl, \n",
    "                        DrawControl, WKTLayer, Popup)\n",
    "\n",
    "from maxrf4u import img_to_url \n",
    "\n",
    "\n",
    "def make_gridbox_widget(images, titles): \n",
    "    \n",
    "    # close all widgets to avoid ever growing html export file size\n",
    "    print('Closing all widgets...')\n",
    "    Widget.close_all()\n",
    "     \n",
    "    # convert numpy arrays to color compressed png/base64 url strings to be used in html output    \n",
    "    print('Compressing images...') \n",
    "    shapes = [im.shape for im in images]\n",
    "    urls = [img_to_url(im)[0] for im in images]\n",
    "    lengths = [len(u) for u in urls]\n",
    "    size = sum(lengths)\n",
    "    \n",
    "    print(f'Ready! Total string length: {size / 1e6:.02f} MB')\n",
    "     \n",
    "    layout = Layout(width='300px', height='300px')\n",
    "    grid_layout = Layout(grid_template_columns=\"repeat(5, 305px)\") \n",
    "    \n",
    "    # make map widgets  \n",
    "    \n",
    "    map_widgets = [] \n",
    "    for url in urls:\n",
    "\n",
    "        m = Map(center=[150, 150], zoom=0, crs=projections['Simple'], layout=layout, \n",
    "                    scroll_wheel_zoom=True, min_zoom=-10)#, interpolation='nearest')\n",
    "        imo = ImageOverlay(url=url, bounds=[[0, 0], [300, 300]])\n",
    "        fsc = FullScreenControl()\n",
    "        \n",
    "        m.add(imo)\n",
    "        m.add(fsc)\n",
    "        m.remove(m.layers[0]) # hack to remove world map \n",
    "        \n",
    "        map_widgets.append(m)\n",
    "        \n",
    "    # sync map widgets centers and zoom levels via browser javascript \n",
    "    first, rest = map_widgets[0], map_widgets[1:]\n",
    "    for r in rest: \n",
    "        jslink([first, 'center'],[r, 'center'])\n",
    "        jslink([first, 'zoom'],[r, 'zoom'])\n",
    "    \n",
    "    # titles \n",
    "    \n",
    "    title_widgets = []\n",
    "    for t in titles: \n",
    "        \n",
    "        tw = HTML(f'<center><bf>{t}</bf></center>') # ? \n",
    "        title_widgets.append(tw)\n",
    "    \n",
    "    # combine titles and maps \n",
    "    vboxes = []\n",
    "    for title_widget, map_widget in zip(title_widgets, map_widgets): \n",
    "        \n",
    "        vbox = VBox([title_widget, map_widget], layout=layout)\n",
    "        vboxes.append(vbox)\n",
    "    \n",
    "    gridbox = GridBox(vboxes, layout=grid_layout)\n",
    "    \n",
    "    return gridbox "
   ]
  },
  {
   "cell_type": "code",
   "execution_count": null,
   "metadata": {},
   "outputs": [],
   "source": [
    "from IPython.display import display \n",
    "import ipyleaflet as ipl \n",
    "from ipywidgets import Text, HTML, Layout, HBox, VBox \n",
    "import ipywidgets \n",
    "from ipyleaflet import Map, ImageOverlay, basemap_to_tiles, Marker, WidgetControl\n",
    "  \n",
    "import io \n",
    "import matplotlib.pyplot as plt\n",
    "import numpy as np\n",
    "import base64 \n",
    "import skimage.transform as skt \n",
    "#from skimage.io import imread\n",
    "import imageio \n",
    "\n",
    "import skimage \n",
    "\n",
    "import numpy as np\n",
    "import cv2 \n",
    "\n",
    "\n",
    "def img_to_url(img_data, max_width=None): \n",
    "    '''Filename or numpy array *img_data* is transformed into 256 bit color compressed base64 encoded url string. \n",
    "    \n",
    "    To reduce image size specify thumbnail `max_width`. \n",
    "    \n",
    "    Returns: url_string, shape'''\n",
    "        \n",
    "    try: \n",
    "        # better than matplotlib use skimage.io.imread to avoid float explosion...\n",
    "        img = imageio.imread(img_data) # if img_data is an image file path \n",
    "    except: \n",
    "        img = img_data # otherwise assume img_data is an image like numpy array  \n",
    "        \n",
    "    shape = img.shape[0:2] # height and width only \n",
    "    h, w = shape \n",
    "    \n",
    "    # rescaling image if width > max_width \n",
    "    if max_width is not None:  \n",
    "        if w > max_width:\n",
    "            scale = max_width / w  \n",
    "            img = skt.rescale(img, scale, multichannel=True) \n",
    "            \n",
    "    # reduce colors to 256 levels to keep file size minimal \n",
    "    img_ubyte = skimage.util.img_as_ubyte(img)\n",
    "    \n",
    "    # write to buffer \n",
    "    buff = io.BytesIO();\n",
    "    plt.imsave(buff, img_ubyte, format='png')\n",
    "   \n",
    "    \n",
    "    # convert to base64 string \n",
    "    base64_string = base64.b64encode(buff.getvalue()).decode(\"ascii\")\n",
    "    url_string = f'data:image/png;base64,{base64_string}' \n",
    "    \n",
    "    # let's close buffer just in case\n",
    "    buff.close()\n",
    "    \n",
    " \n",
    "    return url_string, shape \n",
    "\n",
    "\n",
    "def mark_corners(map_, img_shape): \n",
    "\n",
    "    h, w = img_shape[0:2] \n",
    "\n",
    "    corners = [[h, 0], [h, w], [0, w], [0, 0]] \n",
    "    colors = ['red', 'green', 'blue', 'orange']\n",
    "    labels = ['top left', 'top right', 'bottom right', 'bottom left']\n",
    "\n",
    "    markers = [] \n",
    "\n",
    "    for location, color, label in zip(corners, colors, labels): \n",
    "        icon = ipl.AwesomeIcon(name='circle-o', marker_color=color)\n",
    "        marker = Marker(location=location, draggable=True, title=f'Drag me to {label} landmark', icon=icon)\n",
    "        markers.append(marker)\n",
    "        map_.add(marker) \n",
    "    \n",
    "    return markers \n",
    "\n",
    "\n",
    "# callback \n",
    "def on_marker_move(change): \n",
    "    \n",
    "    textbox.value = extract_corner_points(src_markers, src_shape, dst_markers, dst_shape, return_text=True)\n",
    "\n",
    "    \n",
    "    \n",
    "def extract_corner_points(src_markers, src_shape, dst_markers, dst_shape, return_text=False): \n",
    "    '''Flip coordinates to make top of image zero. \n",
    "    \n",
    "    Returns: pts_string \n",
    "    '''\n",
    "    \n",
    "    src_pts = []\n",
    "    h, w = src_shape \n",
    "    for marker in src_markers:   \n",
    "        y, x = marker.location \n",
    "        xy_flip = [ x - 0.5, h - y - 0.5]\n",
    "        src_pts.append(xy_flip)\n",
    "             \n",
    "    dst_pts = []\n",
    "    h, w = dst_shape  \n",
    "    for marker in dst_markers:   \n",
    "        y, x = marker.location \n",
    "        xy_flip = [ x - 0.5, h - y - 0.5]\n",
    "        dst_pts.append(xy_flip)\n",
    "        \n",
    "    if return_text:     \n",
    "        # two decimal strings for textbox \n",
    "        src_pts_string = 'src_pts = ' + ', '.join([f'[{y:.02f}, {x:.02f}]' for [y, x] in src_pts])\n",
    "        dst_pts_string = 'dst_pts = ' + ', '.join([f'[{y:.02f}, {x:.02f}]' for [y, x] in dst_pts])\n",
    "\n",
    "        pts_string = f'# corner points for image registration: \\n{src_pts_string}\\n{dst_pts_string}'\n",
    "\n",
    "        return pts_string \n",
    "    \n",
    "    else: \n",
    "        return src_pts, dst_pts \n",
    "\n",
    "    \n",
    "    \n",
    "class ImageRegistrationHelper(object): \n",
    "    \n",
    "    def on_marker_move_(self, change): \n",
    "            \n",
    "            self.textbox.value = extract_corner_points(self.src_markers, self.src_shape, \n",
    "                                                       self.dst_markers, self.dst_shape, \n",
    "                                                       return_text=True) \n",
    "            \n",
    "    def get_corner_points_for_image_registration(self, verbose=True): \n",
    "        '''Get 4 source and 4 destination corner points for image registration. \n",
    "        \n",
    "        Extracts current positions from all markers. Output can be used in warp function. \n",
    "        \n",
    "        Returns: src_points, dst_points\n",
    "        '''\n",
    "        \n",
    "        src_points, dst_points = extract_corner_points(self.src_markers, self.src_shape, \n",
    "                                           self.dst_markers, self.dst_shape, \n",
    "                                           return_text=False)\n",
    "        \n",
    "        print(f'src_points = {src_points}\\ndst_points = {dst_points}')\n",
    "        \n",
    "        src_points = np.array(src_points) \n",
    "        dst_points = np.array(dst_points)\n",
    "        \n",
    "        return src_points, dst_points \n",
    "        \n",
    "    \n",
    "    def __init__(self, src_imdata, dst_imdata): \n",
    "        \n",
    "        layout = Layout(width='500px', height='500px')\n",
    "        resolutions = [256 * 2 ** (-l) for l in range(20)]\n",
    " \n",
    "        crs = dict(name='Pixelcoords', custom=True, bounds=[[0, 0], [1000, 1000]], origin=[0, 0], \n",
    "                    resolutions=resolutions, proj4def='+proj=longlat')\n",
    "    \n",
    "\n",
    "        # read images and convert to png/base64 url  \n",
    "        src_url, self.src_shape = img_to_url(src_imdata) \n",
    "        dst_url, self.dst_shape = img_to_url(dst_imdata) \n",
    "        \n",
    "        \n",
    "        src_h, src_w = self.src_shape \n",
    "        self.src_map = Map(scroll_wheel_zoom=True, crs=crs, center=[src_h/2, src_w/2], zoom=4, \n",
    "                      layout=layout, interpolation='nearest')\n",
    "\n",
    "        dst_h, dst_w = self.dst_shape\n",
    "        self.dst_map = Map(scroll_wheel_zoom=True, crs=crs, center=[dst_h/2, dst_w/2], zoom=4, \n",
    "                      layout=layout, interpolation='nearest')\n",
    "        \n",
    "        self.src_markers = mark_corners(self.src_map, self.src_shape)\n",
    "        self.dst_markers = mark_corners(self.dst_map, self.dst_shape)\n",
    "\n",
    "        src_imo = ImageOverlay(url=src_url, bounds=[[0, 0], self.src_shape]) # SW and NE corners\n",
    "        dst_imo = ImageOverlay(url=dst_url, bounds=[[0, 0], self.dst_shape]) # SW and NE corners\n",
    "\n",
    "        self.src_map.add(src_imo)\n",
    "        self.dst_map.add(dst_imo)\n",
    "\n",
    "        # this hack removes the default world map layer \n",
    "        # (seems I can do that only after creating other widgets) \n",
    "        self.src_map.remove(self.src_map.layers[0]) \n",
    "        self.dst_map.remove(self.dst_map.layers[0])\n",
    "\n",
    "        for marker in self.src_markers: \n",
    "            marker.observe(self.on_marker_move_)\n",
    "\n",
    "        for marker in self.dst_markers: \n",
    "            marker.observe(self.on_marker_move_)\n",
    "\n",
    "        # initialize textbox    \n",
    "        self.pts_string = extract_corner_points(self.src_markers, self.src_shape, \n",
    "                                           self.dst_markers, self.dst_shape, \n",
    "                                           return_text=True)\n",
    "\n",
    "        self.textbox = ipywidgets.Textarea(self.pts_string, rows=3, layout=Layout(width='100%'))\n",
    "\n",
    "        self.combi = VBox([HBox([self.src_map, self.dst_map]), self.textbox])\n",
    "        \n",
    "        display(self.combi)\n",
    "\n",
    "\n",
    "\n",
    "        \n",
    "def warp(im_src, im_dst, pts_src, pts_dst, keep_scale=True, rgba=True, alpha_color=[1, 0, 0]): \n",
    "    '''Opencv based homographic registration. Can return transparent overlay (rgba). \n",
    "    \n",
    "    Returns: *im_warped*, *extent* '''\n",
    "\n",
    "    src_h, src_w = im_src.shape[0:2]\n",
    "    dst_h, dst_w = im_dst.shape[0:2]\n",
    "    \n",
    "    if keep_scale: \n",
    "        scale = src_h / dst_h \n",
    "    else: \n",
    "        scale = 1\n",
    "\n",
    "    # calculate homography \n",
    "    hom, status = cv2.findHomography(pts_src, scale * pts_dst)\n",
    "\n",
    "    # Size is nearest integer scaled (width,height) of im_dst\n",
    "    size = round(scale * dst_w), round(scale * dst_h)\n",
    "    \n",
    "    # warp im_src onto destination \n",
    "    im_warped = cv2.warpPerspective(im_src, hom, size) \n",
    "    \n",
    "    # warp white onto destination to create mask \n",
    "    mask_src = np.ones([src_h, src_w])\n",
    "    mask_warped = cv2.warpPerspective(mask_src, hom, size) \n",
    "    \n",
    "    # calculate extent for plotting \n",
    "    h, w = im_dst.shape[0:2] \n",
    "    extent =  (0, w, h, 0) \n",
    "    \n",
    "    # convert into rgba image  \n",
    "    if rgba is True: \n",
    "        im_rgba = np.ones([h, w, 4])\n",
    "\n",
    "        # for single channel image \n",
    "        if len(im_src.shape) == 2:\n",
    "            # colorize\n",
    "            im_rgba[:,:,0:3] = alpha_color[0:3] \n",
    "            #  make alpha layer \n",
    "            im_rgba[:,:,3] = im_warped \n",
    "            \n",
    "        # otherwise assume image is rgb\n",
    "        elif len(im_warped.shape) == 3: \n",
    "            \n",
    "            # rgb channels\n",
    "            im_rgba[:,:,0:3] = im_warped[:,:,0:3]\n",
    "            # alpha channels \n",
    "            im_rgba[:,:,3] = mask_warped\n",
    "       \n",
    "        im_warped = im_rgba \n",
    "    \n",
    "    return im_warped, extent  \n",
    "\n"
   ]
  }
 ],
 "metadata": {
  "kernelspec": {
   "display_name": "Python 3",
   "language": "python",
   "name": "python3"
  }
 },
 "nbformat": 4,
 "nbformat_minor": 2
}
