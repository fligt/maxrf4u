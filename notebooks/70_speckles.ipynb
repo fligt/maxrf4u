{
 "cells": [
  {
   "cell_type": "raw",
   "metadata": {},
   "source": [
    "---\n",
    "skip_exec: true\n",
    "---"
   ]
  },
  {
   "cell_type": "code",
   "execution_count": null,
   "metadata": {},
   "outputs": [],
   "source": [
    "#|default_exp speckles"
   ]
  },
  {
   "cell_type": "markdown",
   "metadata": {},
   "source": [
    "# Speckles \n",
    "\n",
    "> Annoying and interesting paper inclusions "
   ]
  },
  {
   "cell_type": "code",
   "execution_count": null,
   "metadata": {},
   "outputs": [],
   "source": [
    "#|hide \n",
    "%load_ext autoreload\n",
    "%autoreload 2 "
   ]
  },
  {
   "cell_type": "code",
   "execution_count": null,
   "metadata": {},
   "outputs": [],
   "source": [
    "#|hide \n",
    "import os"
   ]
  },
  {
   "cell_type": "code",
   "execution_count": null,
   "metadata": {},
   "outputs": [],
   "source": [
    "#|hide\n",
    "os.chdir('/home/frank/Work/Projecten/DoRe/viz/raw_nmf')"
   ]
  },
  {
   "cell_type": "code",
   "execution_count": null,
   "metadata": {},
   "outputs": [],
   "source": [
    "#|code-fold: true \n",
    "\n",
    "import numpy as np \n",
    "import matplotlib.pyplot as plt \n",
    "import matplotlib.cm as cm\n",
    "import skimage.exposure as ske\n",
    "import skimage.measure as skm\n",
    "import skimage.morphology as smo\n",
    "\n",
    "from maxrf4u import DataStack"
   ]
  },
  {
   "cell_type": "markdown",
   "metadata": {},
   "source": [
    "Historic handmade papers can contain various types of metal inclusions. Iron and manganese can be abundantly present in groundwater and are notoriously difficult to remove. Hence, historic papers typically contain iron/manganese inclusions. Another source of metal inclusions is the wear of paper making equipment such as the brass wires of a paper making mold. "
   ]
  },
  {
   "cell_type": "markdown",
   "metadata": {},
   "source": [
    "These metal inclusions in paper lead to spikes in the elemental maps computed from MA-XRF data. If one is interested in the distribution of elements due to media like ink, such spikes are annoying and need to be filtered out of the elemental maps. We will develop code here to do so. On the other hand, the composition and distribution of metal inclusions in paper is an interesting new source of information that might reveal details of the paper making process and help to distinguish different papers.  "
   ]
  },
  {
   "cell_type": "markdown",
   "metadata": {},
   "source": [
    "Automated detection of speckles can be hard if one encounters situations where the presence of a certain element is due to multiple materials present in the drawing. For the Suzanna drawing his is for example the case with zinc, which is an element present in brass (Cu + Zn) particles and also occurs as an element in the white vitriol (ZnSO4) that seems to be used in the gelatin sizing of the paper. \n",
    "\n",
    "**A systematic approach would be a multi channel segmentation of the stack of element maps. However for now I do not have time to work on this. So let's just explore in an ad-hoc fashion the copper and iron inclusions that we encounter...**"
   ]
  },
  {
   "cell_type": "markdown",
   "metadata": {},
   "source": [
    "## Brass inclusions "
   ]
  },
  {
   "cell_type": "markdown",
   "metadata": {},
   "source": [
    "The trouble with speckles is that often they are too small to be directly noticed in an element map without zooming in. Although single pixel can be bright, it doesn't show up in a full element map plot at limited resolution. Some bright speckles can be made visible with a Gaussian blur filter. \n",
    "\n",
    "To explore the presence of brass particles we need to look at copper and zinc..."
   ]
  },
  {
   "cell_type": "markdown",
   "metadata": {},
   "source": [
    "Let's load image of the drawing as well as the element maps of copper, zinc and sulfur into memory. "
   ]
  },
  {
   "cell_type": "code",
   "execution_count": null,
   "metadata": {},
   "outputs": [],
   "source": [
    "#|code-fold: true \n",
    "\n",
    "ds = DataStack('RP-T-1898-A-3689.datastack') \n",
    "extent = ds.read('imvis_extent')\n",
    "imvis = ds.read('imvis_reg_highres')\n",
    "\n",
    "elements = ds.read('nmf_elements')\n",
    "element_maps = ds.read('nmf_elementmaps')\n",
    "element_maps_dict = dict(zip(elements, element_maps))\n",
    "\n",
    "Cu_map = element_maps_dict['Cu']\n",
    "Zn_map = element_maps_dict['Zn']\n",
    "S_map = element_maps_dict['S']\n",
    "\n",
    "Cu_map_norm = Cu_map / Cu_map.max()\n",
    "Zn_map_norm = Zn_map / Zn_map.max()\n",
    "S_map_norm = S_map / S_map.max()"
   ]
  },
  {
   "cell_type": "markdown",
   "metadata": {},
   "source": [
    "Let's plot the Gaussian blurred maps next to the high-res image. "
   ]
  },
  {
   "cell_type": "code",
   "execution_count": null,
   "metadata": {},
   "outputs": [],
   "source": [
    "#|code-fold: true \n",
    "import skimage.filters as skf"
   ]
  },
  {
   "cell_type": "code",
   "execution_count": null,
   "metadata": {},
   "outputs": [],
   "source": [
    "#|code-fold: true \n",
    "\n",
    "Cu_map_gauss = skf.gaussian(Cu_map, sigma=5)\n",
    "Zn_map_gauss = skf.gaussian(Zn_map, sigma=5)\n",
    "S_map_gauss = skf.gaussian(S_map, sigma=5)"
   ]
  },
  {
   "cell_type": "code",
   "execution_count": null,
   "metadata": {},
   "outputs": [],
   "source": [
    "%matplotlib notebook"
   ]
  },
  {
   "cell_type": "code",
   "execution_count": null,
   "metadata": {},
   "outputs": [
    {
     "data": {
      "text/html": [
       "..",
       "<img src=\"./images/70_speckles_aca73ae9b5.png\">"
      ]
     },
     "execution_count": null,
     "metadata": {},
     "output_type": "execute_result"
    }
   ],
   "source": [
    "#|code-fold: true \n",
    "\n",
    "fig, axs = plt.subplots(nrows=2, ncols=2, figsize=[8, 8], sharex=True, sharey=True)\n",
    "\n",
    "axs = axs.flatten()\n",
    "\n",
    "axs[0].imshow(imvis, extent=extent)\n",
    "axs[1].imshow(Cu_map_gauss, vmax=0.4)\n",
    "axs[2].imshow(Zn_map_gauss)\n",
    "axs[3].imshow(S_map_gauss, vmax=0.06);\n",
    "\n",
    "for i, t in enumerate(['VIS', 'Cu', 'Zn', 'S']): \n",
    "    axs[i].set_title(t)\n",
    "    \n",
    "plt.subplots_adjust()"
   ]
  },
  {
   "cell_type": "markdown",
   "metadata": {},
   "source": [
    "Several observations can me made from these Gaussian blurred and intensity clipped element maps: \n",
    "\n",
    "(1) Our best possibility to locate brass particles for this specific drawing is the copper map. Although we do find a non-zero copper signal in the paper background of this drawing, it is of lower intensity then the particles. We are lucky here. Other drawings often do contain copper as a constituent of the ink. Altogether we can locate four copper containing particles.  \n",
    "\n",
    "(2) With respect to zinc we see that the larger part of the paper background contains zinc, likely due to the gelatin sizing of the paper containing zinc-sulfate. Against this background is difficult to directly extract the zinc signal due to the brass particles. Instead we need to zoom in to the copper regions and check if they correlate with zinc. Additionally we do find a single high concentration of zinc without copper in the upper part of the zinc map at xy=(1029, 231). \n",
    "\n",
    "(3) Although one would expect sulfur to correlate with zinc sulphate present in the sizing, the sulfur map does not show this correlation. Probably the low intensity sulfur signal due to the zinc-sulfate can not be separated from the elastic scattering of the background. "
   ]
  },
  {
   "cell_type": "code",
   "execution_count": null,
   "metadata": {},
   "outputs": [
    {
     "data": {
      "text/html": [
       "..",
       "<img src=\"./images/70_speckles_83809df7f0.png\">"
      ]
     },
     "execution_count": null,
     "metadata": {},
     "output_type": "execute_result"
    }
   ],
   "source": [
    "#|code-fold: true \n",
    "\n",
    "Cu_clip = Cu_map_gauss > 0.28 \n",
    "Zn_clip = Zn_map_gauss > 0.7\n",
    "Cu_Zn_mask = Cu_clip + Zn_clip\n",
    "\n",
    "fig, axs = plt.subplots(nrows=2, ncols=2, figsize=[8, 8], sharex=True, sharey=True, constrained_layout=True)\n",
    "\n",
    "axs = axs.flatten()\n",
    "\n",
    "axs[0].imshow(imvis, extent=extent)\n",
    "axs[1].imshow(Cu_map_gauss, vmax=0.3)\n",
    "axs[2].imshow(Zn_map_gauss)\n",
    "axs[3].imshow(Cu_Zn_mask);\n",
    "\n",
    "for i, t in enumerate(['VIS', 'Cu', 'Zn', 'Cu+Zn particles']): \n",
    "    axs[i].set_title(t)\n",
    "    \n"
   ]
  },
  {
   "cell_type": "markdown",
   "metadata": {},
   "source": [
    "We can now use the copper plus zinc particles mask to mark all individual particles using the `skimage.measure.label()` function."
   ]
  },
  {
   "cell_type": "code",
   "execution_count": null,
   "metadata": {},
   "outputs": [
    {
     "data": {
      "text/plain": [
       "7"
      ]
     },
     "execution_count": null,
     "metadata": {},
     "output_type": "execute_result"
    }
   ],
   "source": [
    "#|code-fold: true \n",
    "\n",
    "labeled_image = skm.label(Cu_Zn_mask)\n",
    "n_particles = labeled_image.max()\n",
    "n_particles"
   ]
  },
  {
   "cell_type": "markdown",
   "metadata": {},
   "source": [
    "We have found 7 particles. Let's add circle markers to the plot above.  "
   ]
  },
  {
   "cell_type": "code",
   "execution_count": null,
   "metadata": {},
   "outputs": [],
   "source": [
    "#|code-fold: true \n",
    "\n",
    "colors = cm.tab20(range(n_particles))\n",
    "\n",
    "props = skm.regionprops_table(labeled_image, properties=['centroid'])\n",
    "cy = props['centroid-0']\n",
    "cx = props['centroid-1']\n",
    "\n",
    "axs[3].scatter(cx, cy, marker='s', s=80, facecolors='none', edgecolors=colors)\n",
    "for i in range(n_particles):\n",
    "    axs[3].text(cx[i]-30, cy[i]-60, i+1, color=colors[i])"
   ]
  },
  {
   "cell_type": "markdown",
   "metadata": {},
   "source": [
    "Now let's create an overview plot with all particles zoomed in. "
   ]
  },
  {
   "cell_type": "code",
   "execution_count": null,
   "metadata": {},
   "outputs": [
    {
     "data": {
      "text/html": [
       "..",
       "<img src=\"./images/70_speckles_1f188a6368.png\">"
      ]
     },
     "execution_count": null,
     "metadata": {},
     "output_type": "execute_result"
    }
   ],
   "source": [
    "#|code-fold: true \n",
    "\n",
    "h = 15 # half height \n",
    "\n",
    "xlim_list = []\n",
    "ylim_list = []\n",
    "\n",
    "for i, [xi, yi] in enumerate(zip(cx, cy)): \n",
    "    \n",
    "    xlim = [int(xi) - h, int(xi) + h]\n",
    "    xlim_list.append(xlim)\n",
    "    \n",
    "    ylim = [int(yi) + h, int(yi) - h]\n",
    "    ylim_list.append(ylim) \n",
    "\n",
    "labels = ['particle 1\\nzinc only', 'particle 2\\ncopper', 'particle 3\\nbrass', 'particle 4\\nbrass', \n",
    "          'particle 5\\nbrass', 'particle 6\\nbrass', 'particle 7\\ncopper']\n",
    "\n",
    "fig, axs = plt.subplots(nrows=n_particles, ncols=3, figsize=[8, n_particles*2.7], constrained_layout=True)\n",
    "\n",
    "    \n",
    "for i, [xlim, ylim] in enumerate(zip(xlim_list, ylim_list)): \n",
    "\n",
    "    axs[i, 0].imshow(imvis, extent=extent)\n",
    "    axs[i, 0].set_xlim(xlim)\n",
    "    axs[i, 0].set_ylim(ylim)\n",
    "    axs[i, 0].set_xticks([])\n",
    "    axs[i, 0].set_yticks([])\n",
    "    axs[i, 0].text(0.05, 0.85, labels[i], transform=axs[i, 0].transAxes)\n",
    "    #axs[i, 0].set_ylabel('hi')\n",
    "    \n",
    "    axs[i, 1].imshow(Cu_map, vmax=2)\n",
    "    axs[i, 1].set_xlim(xlim)\n",
    "    axs[i, 1].set_ylim(ylim)\n",
    "    axs[i, 1].set_xticks([])\n",
    "    axs[i, 1].set_yticks([])\n",
    "       \n",
    "    axs[i, 2].imshow(Zn_map, vmax=2)\n",
    "    axs[i, 2].set_xlim(xlim)\n",
    "    axs[i, 2].set_ylim(ylim)\n",
    "    axs[i, 2].set_ylim(ylim)\n",
    "    axs[i, 2].set_xticks([])\n",
    "    axs[i, 2].set_yticks([])\n",
    "\n",
    "axs[0,0].set_title('VIS')\n",
    "axs[0,1].set_title('Cu')\n",
    "axs[0,2].set_title('Zn');\n",
    "        "
   ]
  },
  {
   "cell_type": "markdown",
   "metadata": {},
   "source": [
    "Following the ad-hoc method described above, we find five brass particles, two copper particles and one brown fiber inclusion with zinc only. "
   ]
  },
  {
   "cell_type": "code",
   "execution_count": null,
   "metadata": {},
   "outputs": [],
   "source": [
    "#| hide \n",
    "\n",
    "class SpeckleAtlas(): \n",
    "    \n",
    "    def __init__(self, peak_map, n_heights=100): \n",
    "        \n",
    "        \n",
    "        self.peak_map = peak_map \n",
    "        \n",
    "        h, w = self.peak_map.shape\n",
    "        self.n_px =  h * w \n",
    "        \n",
    "        self.heights = np.linspace(peak_map.min(), peak_map.max(), n_heights)\n",
    "        \n",
    "        # perhaps better just iterate \n",
    "        height_maps = [self.peak_map > h for h in self.heights] \n",
    "\n",
    "        largest_area_list = [] \n",
    "        largest_label_list = []\n",
    "        n_regions_list = []\n",
    "\n",
    "        for i, hm in enumerate(height_maps): \n",
    "\n",
    "            print(f'Inspecting height slice: {i}/{n_heights}', end='\\r')\n",
    "\n",
    "            label_image = skm.label(height_maps[i].astype(int), connectivity=1)\n",
    "            props = skm.regionprops(label_image)\n",
    "            n_regions_list.append(len(props))\n",
    "            areas_labels = np.array([[p.area, p.label] for p in props])\n",
    "\n",
    "            label_image = skm.label(height_maps[i], connectivity=1)\n",
    "\n",
    "            props = skm.regionprops(label_image)\n",
    "\n",
    "            areas_labels = np.array([[p.area, p.label] for p in props])\n",
    "\n",
    "            # in case of zero regions:  \n",
    "            if len(areas_labels) == 0: \n",
    "                areas_labels = np.array([[0, 0]])\n",
    "\n",
    "            areas, labels = areas_labels.T\n",
    "\n",
    "            largest_area_i = np.argmax(areas)\n",
    "            largest_area = areas[largest_area_i]\n",
    "            largest_label = labels[largest_area_i]\n",
    "\n",
    "            largest_area_list.append(largest_area)\n",
    "            largest_label_list.append(largest_label) \n",
    "                \n",
    "        \n",
    "        self.largest_areas = largest_area_list   \n",
    "        self.largest_labels = largest_label_list \n",
    "        self.n_regions = n_regions_list \n",
    "\n",
    "        \n",
    "    def measure_speckles(self, max_area=100): \n",
    "        '''Find, sort, label and measure speckle regions.  \n",
    "        \n",
    "        Selects lowest height slice with all speckle regions smaller then *max_area*. \n",
    "        \n",
    "        Returns: *clip_height* '''\n",
    "        \n",
    "        # find largest speckle and associated clip height \n",
    "        self.max_area = max_area \n",
    "        self.clip_height_i = np.argmin((np.array(self.largest_areas) - max_area)**2) \n",
    "        self.clip_height = self.heights[self.clip_height_i] \n",
    "        self.largest_speckle_label = self.largest_labels[self.clip_height_i] \n",
    "        \n",
    "        # unsorted label image for clip level  \n",
    "        unsorted_label_image = skm.label(self.peak_map > self.clip_height)\n",
    "        uprops = skm.regionprops(unsorted_label_image) \n",
    "\n",
    "        u_areas = np.array([p.area for p in uprops])\n",
    "        u_labels = np.array([p.label for p in uprops]) # [1, 2, 3 ...]\n",
    "\n",
    "        # create area sorted labels \n",
    "        indices = np.argsort(u_areas)[::-1]\n",
    "        area_sorted_labels = u_labels[indices]\n",
    "\n",
    "        #prepend zero index for background \n",
    "        area_sorted_labels_bg = np.r_[0, area_sorted_labels]\n",
    "        \n",
    "        # make relabel lut \n",
    "        n_labels = len(area_sorted_labels_bg)\n",
    "        relabel_lut = np.zeros(n_labels, dtype=int)\n",
    "        \n",
    "        # say region with label 123 is largest speckle \n",
    "        # then lut[123] = 1 \n",
    "        relabel_lut[area_sorted_labels_bg] = np.arange(n_labels)\n",
    "        \n",
    "        # took me quite some time to debug so let's make sure next time \n",
    "        assert relabel_lut[area_sorted_labels_bg[1]] == 1, 'Relabeling of image went wrong' \n",
    "        \n",
    "        self.relabel_image = relabel_lut[unsorted_label_image] \n",
    "        \n",
    "        # determine region props \n",
    "        self.props = skm.regionprops(self.relabel_image, intensity_image=self.peak_map)\n",
    "        \n",
    "        self.centroids_y, self.centroids_x = np.array([p.centroid for p in self.props]).T\n",
    "        self.centroids_xy = np.c_[self.centroids_x, self.centroids_y]\n",
    "                                  \n",
    "        return self.clip_height \n",
    "    \n",
    "    \n",
    "    def speckle_spectrum(self, arr, speckle_i): \n",
    "        '''Get averaged speckle spectrum for region of *speckle_i*. \n",
    "        \n",
    "        Returns: *spectrum*\n",
    "        -------\n",
    "        '''\n",
    "\n",
    "        print(speckle_i, end='\\r')\n",
    "\n",
    "        p = self.props[speckle_i]\n",
    "        \n",
    "        spectrum = region_spectra(arr, mask=p.image, average=True)\n",
    "               \n",
    "        return spectrum \n",
    "    "
   ]
  }
 ],
 "metadata": {
  "kernelspec": {
   "display_name": "python3",
   "language": "python",
   "name": "python3"
  }
 },
 "nbformat": 4,
 "nbformat_minor": 2
}
