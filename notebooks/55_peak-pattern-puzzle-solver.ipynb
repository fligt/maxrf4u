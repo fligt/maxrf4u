{
 "cells": [
  {
   "cell_type": "raw",
   "metadata": {},
   "source": [
    "---\n",
    "skip_exec: true\n",
    "---"
   ]
  },
  {
   "cell_type": "code",
   "execution_count": null,
   "metadata": {},
   "outputs": [],
   "source": [
    "#|default_exp peak_pattern_puzzle_solver "
   ]
  },
  {
   "cell_type": "markdown",
   "metadata": {},
   "source": [
    "# Solving the peak pattern puzzle \n",
    "\n",
    "> Which elements are hidden in our data cube?"
   ]
  },
  {
   "cell_type": "code",
   "execution_count": null,
   "metadata": {},
   "outputs": [],
   "source": [
    "#|hide \n",
    "%load_ext autoreload\n",
    "%autoreload 2 "
   ]
  },
  {
   "cell_type": "code",
   "execution_count": null,
   "metadata": {},
   "outputs": [],
   "source": [
    "#|hide \n",
    "import os "
   ]
  },
  {
   "cell_type": "code",
   "execution_count": null,
   "metadata": {},
   "outputs": [],
   "source": [
    "#|hide \n",
    "os.chdir('/home/frank/Work/Projecten/DoRe/viz/raw_nmf')"
   ]
  },
  {
   "cell_type": "code",
   "execution_count": null,
   "metadata": {},
   "outputs": [],
   "source": [
    "#|hide \n",
    "import numpy as np \n",
    "import matplotlib.pyplot as plt \n",
    "%matplotlib notebook"
   ]
  },
  {
   "cell_type": "markdown",
   "metadata": {},
   "source": [
    "In the previous section we saw how to explain the presence of specific in the individual hotmax spectra by  comparison with the instrument and element peak patterns by hand. Tedious work, but not too difficult. Let's now try to extract the algorithm for solving the peak pattern puzzle. As an example let's walk through hotmax spectrum **#4**. In the plot we see thirteen peaks that exceed the noise threshold. We need to explain these peaks away, one by one... "
   ]
  },
  {
   "cell_type": "code",
   "execution_count": null,
   "metadata": {},
   "outputs": [],
   "source": [
    "from maxrf4u import plot_puzzle, HotmaxAtlas, DataStack "
   ]
  },
  {
   "cell_type": "code",
   "execution_count": null,
   "metadata": {},
   "outputs": [
    {
     "data": {
      "text/html": [
       "..",
       "<img src=\"./images/55_peak-pattern-puzzle-solver_31a1ea5d32.png\">"
      ]
     },
     "execution_count": null,
     "metadata": {},
     "output_type": "execute_result"
    }
   ],
   "source": [
    "fig, ax, ax1 = plot_puzzle('RP-T-1898-A-3689.datastack', 4, color_select=[])\n",
    "ax.set_title('Peak pattern atlas');"
   ]
  },
  {
   "cell_type": "markdown",
   "metadata": {},
   "source": [
    "Initially, in hotmax spectrum **#4** there are thirteen detected peaks that we need to explain. These peaks are numbered from highest to lowest. Let's see how we can explain them away one by one. To read the thirteen peak indexes, we can use the `DataStack.read_list()` method. Note that in this case we can not use the standard `DataStack.read()` method because the data in the datastack is stored as a ragged list.  "
   ]
  },
  {
   "cell_type": "markdown",
   "metadata": {},
   "source": [
    "Here are the 13 sub peak indexes of hotmax spectrum **#4**."
   ]
  },
  {
   "cell_type": "code",
   "execution_count": null,
   "metadata": {},
   "outputs": [],
   "source": [
    "ds = DataStack('RP-T-1898-A-3689.datastack')"
   ]
  },
  {
   "cell_type": "code",
   "execution_count": null,
   "metadata": {},
   "outputs": [
    {
     "data": {
      "text/plain": [
       "[95, 1981, 466, 735, 427, 329, 2108, 800, 2206, 1360, 152, 1522, 933]"
      ]
     },
     "execution_count": null,
     "metadata": {},
     "output_type": "execute_result"
    }
   ],
   "source": [
    "subpeak_idxs = ds.read_list('hotmax_subpeak_idxs_list')[4]\n",
    "subpeak_idxs"
   ]
  },
  {
   "cell_type": "markdown",
   "metadata": {},
   "source": [
    "Let's convert these channel indexes into energies first. "
   ]
  },
  {
   "cell_type": "code",
   "execution_count": null,
   "metadata": {},
   "outputs": [],
   "source": [
    "x_keVs = ds.read('maxrf_energies')\n",
    "peak_nums = np.arange(len(subpeak_idxs))\n",
    "peak_keVs = x_keVs[subpeak_idxs]"
   ]
  },
  {
   "cell_type": "code",
   "execution_count": null,
   "metadata": {},
   "outputs": [
    {
     "data": {
      "text/html": [
       "<div>\n",
       "<style scoped>\n",
       "    .dataframe tbody tr th:only-of-type {\n",
       "        vertical-align: middle;\n",
       "    }\n",
       "\n",
       "    .dataframe tbody tr th {\n",
       "        vertical-align: top;\n",
       "    }\n",
       "\n",
       "    .dataframe thead th {\n",
       "        text-align: right;\n",
       "    }\n",
       "</style>\n",
       "<table border=\"1\" class=\"dataframe\">\n",
       "  <thead>\n",
       "    <tr style=\"text-align: right;\">\n",
       "      <th></th>\n",
       "      <th>keVs</th>\n",
       "      <th>why</th>\n",
       "    </tr>\n",
       "    <tr>\n",
       "      <th>n</th>\n",
       "      <th></th>\n",
       "      <th></th>\n",
       "    </tr>\n",
       "  </thead>\n",
       "  <tbody>\n",
       "    <tr>\n",
       "      <th>0</th>\n",
       "      <td>-0.028648</td>\n",
       "      <td>?</td>\n",
       "    </tr>\n",
       "    <tr>\n",
       "      <th>1</th>\n",
       "      <td>18.895640</td>\n",
       "      <td>?</td>\n",
       "    </tr>\n",
       "    <tr>\n",
       "      <th>2</th>\n",
       "      <td>3.693998</td>\n",
       "      <td>?</td>\n",
       "    </tr>\n",
       "    <tr>\n",
       "      <th>3</th>\n",
       "      <td>6.393168</td>\n",
       "      <td>?</td>\n",
       "    </tr>\n",
       "    <tr>\n",
       "      <th>4</th>\n",
       "      <td>3.302669</td>\n",
       "      <td>?</td>\n",
       "    </tr>\n",
       "    <tr>\n",
       "      <th>5</th>\n",
       "      <td>2.319328</td>\n",
       "      <td>?</td>\n",
       "    </tr>\n",
       "    <tr>\n",
       "      <th>6</th>\n",
       "      <td>20.169969</td>\n",
       "      <td>?</td>\n",
       "    </tr>\n",
       "    <tr>\n",
       "      <th>7</th>\n",
       "      <td>7.045383</td>\n",
       "      <td>?</td>\n",
       "    </tr>\n",
       "    <tr>\n",
       "      <th>8</th>\n",
       "      <td>21.153309</td>\n",
       "      <td>?</td>\n",
       "    </tr>\n",
       "    <tr>\n",
       "      <th>9</th>\n",
       "      <td>12.664472</td>\n",
       "      <td>?</td>\n",
       "    </tr>\n",
       "    <tr>\n",
       "      <th>10</th>\n",
       "      <td>0.543295</td>\n",
       "      <td>?</td>\n",
       "    </tr>\n",
       "    <tr>\n",
       "      <th>11</th>\n",
       "      <td>14.289994</td>\n",
       "      <td>?</td>\n",
       "    </tr>\n",
       "    <tr>\n",
       "      <th>12</th>\n",
       "      <td>8.379917</td>\n",
       "      <td>?</td>\n",
       "    </tr>\n",
       "  </tbody>\n",
       "</table>\n",
       "</div>"
      ],
      "text/plain": [
       "         keVs why\n",
       "n                \n",
       "0   -0.028648   ?\n",
       "1   18.895640   ?\n",
       "2    3.693998   ?\n",
       "3    6.393168   ?\n",
       "4    3.302669   ?\n",
       "5    2.319328   ?\n",
       "6   20.169969   ?\n",
       "7    7.045383   ?\n",
       "8   21.153309   ?\n",
       "9   12.664472   ?\n",
       "10   0.543295   ?\n",
       "11  14.289994   ?\n",
       "12   8.379917   ?"
      ]
     },
     "execution_count": null,
     "metadata": {},
     "output_type": "execute_result"
    }
   ],
   "source": [
    "why_df = pd.DataFrame(data={'keVs': peak_keVs})\n",
    "why_df.index.name = 'n'\n",
    "why_df['why'] = '?'\n",
    "why_df"
   ]
  },
  {
   "cell_type": "code",
   "execution_count": null,
   "metadata": {},
   "outputs": [
    {
     "data": {
      "text/plain": [
       "array([-0.02864804, 18.89563968,  3.69399816,  6.39316751,  3.30266878,\n",
       "        2.31932827, 20.16996871,  7.04538316, 21.15330921, 12.66447177,\n",
       "        0.5432949 , 14.28999383,  8.3799167 ])"
      ]
     },
     "execution_count": null,
     "metadata": {},
     "output_type": "execute_result"
    }
   ],
   "source": []
  },
  {
   "cell_type": "code",
   "execution_count": null,
   "metadata": {},
   "outputs": [
    {
     "data": {
      "text/plain": [
       "[{'n': 0, 'keV': -0.028648044952708673, 'src': '????'},\n",
       " {'n': 1, 'keV': 18.895639680305266, 'src': '????'},\n",
       " {'n': 2, 'keV': 3.693998161871633, 'src': '????'},\n",
       " {'n': 3, 'keV': 6.393167513989552, 'src': '????'},\n",
       " {'n': 4, 'keV': 3.3026687762485896, 'src': '????'},\n",
       " {'n': 5, 'keV': 2.3193282687855556, 'src': '????'},\n",
       " {'n': 6, 'keV': 20.16996870528287, 'src': '????'},\n",
       " {'n': 7, 'keV': 7.0453831566946254, 'src': '????'},\n",
       " {'n': 8, 'keV': 21.153309212745903, 'src': '????'},\n",
       " {'n': 9, 'keV': 12.664471770769104, 'src': '????'},\n",
       " {'n': 10, 'keV': 0.5432949032655865, 'src': '????'},\n",
       " {'n': 11, 'keV': 14.289993834126363, 'src': '????'},\n",
       " {'n': 12, 'keV': 8.379916702537315, 'src': '????'}]"
      ]
     },
     "execution_count": null,
     "metadata": {},
     "output_type": "execute_result"
    }
   ],
   "source": [
    "explanation = [{'n': n, 'keV': keV, 'src': src} for n, keV, src in zip(peak_nums, peak_keVs, peak_srcs)]\n",
    "explanation"
   ]
  },
  {
   "cell_type": "markdown",
   "metadata": {},
   "source": [
    "Now, we need to consult the peak pattern atlas with all element starting with the instrument peak pattern. "
   ]
  },
  {
   "cell_type": "code",
   "execution_count": null,
   "metadata": {},
   "outputs": [],
   "source": [
    "from maxrf4u import get_patterns, get_instrument_pattern\n",
    "import numpy as np"
   ]
  },
  {
   "cell_type": "code",
   "execution_count": null,
   "metadata": {},
   "outputs": [
    {
     "data": {
      "text/plain": [
       "{'name': 'INSTRUMENT',\n",
       " 'instrument_peaks': array([-0.02864804, 18.82674463, 20.20010005, 20.99840233, 22.72136068])}"
      ]
     },
     "execution_count": null,
     "metadata": {},
     "output_type": "execute_result"
    }
   ],
   "source": [
    "instr_ptrn = get_instrument_pattern('RP-T-1898-A-3689.datastack')\n",
    "instr_ptrn"
   ]
  },
  {
   "cell_type": "markdown",
   "metadata": {},
   "source": [
    "We now need to check which peaks in the hotmax spectrum match the instrument peaks. "
   ]
  },
  {
   "cell_type": "code",
   "execution_count": null,
   "metadata": {},
   "outputs": [
    {
     "data": {
      "text/plain": [
       "array([-0.02864804, 18.82674463, 20.20010005, 20.99840233, 22.72136068])"
      ]
     },
     "execution_count": null,
     "metadata": {},
     "output_type": "execute_result"
    }
   ],
   "source": [
    "instr_keVs = instr_ptrn['instrument_peaks']\n",
    "instr_keVs"
   ]
  },
  {
   "cell_type": "markdown",
   "metadata": {},
   "source": [
    "Let's see which peaks match within a distance of 0.1 keV. "
   ]
  },
  {
   "cell_type": "code",
   "execution_count": null,
   "metadata": {},
   "outputs": [],
   "source": [
    "def match_instrument(why_df, datastack_file, delta_keV=0.1): \n",
    "    \n",
    "    # first generate instrument pattern\n",
    "    instr_ptrn = get_instrument_pattern(datastack_file) \n",
    "    instr_keVs = instr_ptrn['instrument_peaks'] \n",
    "    \n",
    "    # calculate distances and filter < delta_keV\n",
    "    distance_matrix = np.sqrt((subpeak_keVs[:, None] - instr_keVs[None, :])**2)\n",
    "    is_nearby = distance_matrix < delta_keV\n",
    "    \n",
    "    # matching peak_nums \n",
    "    peak_matches = np.argwhere(is_nearby)[:, 0] \n",
    "    \n",
    "    # insert cause \n",
    "    why_df.at[peak_matches, 'why'] = 'INSTR'\n",
    "    \n",
    "    return why_df"
   ]
  },
  {
   "cell_type": "code",
   "execution_count": null,
   "metadata": {},
   "outputs": [
    {
     "data": {
      "text/html": [
       "<div>\n",
       "<style scoped>\n",
       "    .dataframe tbody tr th:only-of-type {\n",
       "        vertical-align: middle;\n",
       "    }\n",
       "\n",
       "    .dataframe tbody tr th {\n",
       "        vertical-align: top;\n",
       "    }\n",
       "\n",
       "    .dataframe thead th {\n",
       "        text-align: right;\n",
       "    }\n",
       "</style>\n",
       "<table border=\"1\" class=\"dataframe\">\n",
       "  <thead>\n",
       "    <tr style=\"text-align: right;\">\n",
       "      <th></th>\n",
       "      <th>keVs</th>\n",
       "      <th>why</th>\n",
       "    </tr>\n",
       "    <tr>\n",
       "      <th>n</th>\n",
       "      <th></th>\n",
       "      <th></th>\n",
       "    </tr>\n",
       "  </thead>\n",
       "  <tbody>\n",
       "    <tr>\n",
       "      <th>0</th>\n",
       "      <td>-0.028648</td>\n",
       "      <td>INSTR</td>\n",
       "    </tr>\n",
       "    <tr>\n",
       "      <th>1</th>\n",
       "      <td>18.895640</td>\n",
       "      <td>INSTR</td>\n",
       "    </tr>\n",
       "    <tr>\n",
       "      <th>2</th>\n",
       "      <td>3.693998</td>\n",
       "      <td>?</td>\n",
       "    </tr>\n",
       "    <tr>\n",
       "      <th>3</th>\n",
       "      <td>6.393168</td>\n",
       "      <td>?</td>\n",
       "    </tr>\n",
       "    <tr>\n",
       "      <th>4</th>\n",
       "      <td>3.302669</td>\n",
       "      <td>?</td>\n",
       "    </tr>\n",
       "    <tr>\n",
       "      <th>5</th>\n",
       "      <td>2.319328</td>\n",
       "      <td>?</td>\n",
       "    </tr>\n",
       "    <tr>\n",
       "      <th>6</th>\n",
       "      <td>20.169969</td>\n",
       "      <td>INSTR</td>\n",
       "    </tr>\n",
       "    <tr>\n",
       "      <th>7</th>\n",
       "      <td>7.045383</td>\n",
       "      <td>?</td>\n",
       "    </tr>\n",
       "    <tr>\n",
       "      <th>8</th>\n",
       "      <td>21.153309</td>\n",
       "      <td>?</td>\n",
       "    </tr>\n",
       "    <tr>\n",
       "      <th>9</th>\n",
       "      <td>12.664472</td>\n",
       "      <td>?</td>\n",
       "    </tr>\n",
       "    <tr>\n",
       "      <th>10</th>\n",
       "      <td>0.543295</td>\n",
       "      <td>?</td>\n",
       "    </tr>\n",
       "    <tr>\n",
       "      <th>11</th>\n",
       "      <td>14.289994</td>\n",
       "      <td>?</td>\n",
       "    </tr>\n",
       "    <tr>\n",
       "      <th>12</th>\n",
       "      <td>8.379917</td>\n",
       "      <td>?</td>\n",
       "    </tr>\n",
       "  </tbody>\n",
       "</table>\n",
       "</div>"
      ],
      "text/plain": [
       "         keVs    why\n",
       "n                   \n",
       "0   -0.028648  INSTR\n",
       "1   18.895640  INSTR\n",
       "2    3.693998      ?\n",
       "3    6.393168      ?\n",
       "4    3.302669      ?\n",
       "5    2.319328      ?\n",
       "6   20.169969  INSTR\n",
       "7    7.045383      ?\n",
       "8   21.153309      ?\n",
       "9   12.664472      ?\n",
       "10   0.543295      ?\n",
       "11  14.289994      ?\n",
       "12   8.379917      ?"
      ]
     },
     "execution_count": null,
     "metadata": {},
     "output_type": "execute_result"
    }
   ],
   "source": [
    "why_df = match_instrument(why_df, 'RP-T-1898-A-3689.datastack')\n",
    "why_df"
   ]
  },
  {
   "cell_type": "markdown",
   "metadata": {},
   "source": [
    "Next phase is a comparison with the element patterns. In order to match a certain element, at least the alpha peak needs to be present... "
   ]
  },
  {
   "cell_type": "code",
   "execution_count": null,
   "metadata": {},
   "outputs": [
    {
     "data": {
      "text/plain": [
       "[{'elem': 'N',\n",
       "  'name': 'Nitrogen',\n",
       "  'peaks_xy': array([[0.3902, 1.    ]]),\n",
       "  'alpha_escape_keV': -1.3498049024512255,\n",
       "  'color': array([0.6196, 0.8549, 0.898 ])},\n",
       " {'elem': 'O',\n",
       "  'name': 'Oxygen',\n",
       "  'peaks_xy': array([[0.5253, 1.    ]]),\n",
       "  'alpha_escape_keV': -1.2147373686843421,\n",
       "  'color': array([0.0902, 0.7451, 0.8118])},\n",
       " {'elem': 'F',\n",
       "  'name': 'Fluorine',\n",
       "  'peaks_xy': array([[0.6753, 1.    ]]),\n",
       "  'alpha_escape_keV': -1.0646623311655827,\n",
       "  'color': array([0.8588, 0.8588, 0.5529])},\n",
       " {'elem': 'Ne',\n",
       "  'name': 'Neon',\n",
       "  'peaks_xy': array([[0.8554, 1.    ]]),\n",
       "  'alpha_escape_keV': -0.8845722861430715,\n",
       "  'color': array([0.7373, 0.7412, 0.1333])},\n",
       " {'elem': 'Na',\n",
       "  'name': 'Sodium',\n",
       "  'peaks_xy': array([[1.0355, 1.    ]]),\n",
       "  'alpha_escape_keV': -0.7044822411205602,\n",
       "  'color': array([0.7804, 0.7804, 0.7804])},\n",
       " {'elem': 'Mg',\n",
       "  'name': 'Magnesium',\n",
       "  'peaks_xy': array([[1.2606, 1.    ]]),\n",
       "  'alpha_escape_keV': -0.47936968484242115,\n",
       "  'color': array([0.498, 0.498, 0.498])},\n",
       " {'elem': 'Al',\n",
       "  'name': 'Aluminum',\n",
       "  'peaks_xy': array([[1.4857, 1.    ]]),\n",
       "  'alpha_escape_keV': -0.25425712856428206,\n",
       "  'color': array([0.9686, 0.7137, 0.8235])},\n",
       " {'elem': 'Si',\n",
       "  'name': 'Silicon',\n",
       "  'peaks_xy': array([[1.7409, 1.    ]]),\n",
       "  'alpha_escape_keV': 0.0008704352176087671,\n",
       "  'color': array([0.8902, 0.4667, 0.7608])},\n",
       " {'elem': 'P',\n",
       "  'name': 'Phosphorus',\n",
       "  'peaks_xy': array([[2.011, 1.   ]]),\n",
       "  'alpha_escape_keV': 0.2710055027513756,\n",
       "  'color': array([0.7686, 0.6118, 0.5804])},\n",
       " {'elem': 'S',\n",
       "  'name': 'Sulfur',\n",
       "  'peaks_xy': array([[2.3112, 1.    ]]),\n",
       "  'alpha_escape_keV': 0.5711555777888944,\n",
       "  'color': array([1. , 0.9, 0.1])},\n",
       " {'elem': 'Cl',\n",
       "  'name': 'Chlorine',\n",
       "  'peaks_xy': array([[2.6263, 1.    ]]),\n",
       "  'alpha_escape_keV': 0.8863131565782891,\n",
       "  'color': array([0.7725, 0.6902, 0.8353])},\n",
       " {'elem': 'K',\n",
       "  'name': 'Potassium',\n",
       "  'peaks_xy': array([[3.3167, 1.    ],\n",
       "         [3.5868, 0.1163]]),\n",
       "  'alpha_escape_keV': 1.5766583291645826,\n",
       "  'color': array([0.5804, 0.4039, 0.7412])},\n",
       " {'elem': 'Ca',\n",
       "  'name': 'Calcium',\n",
       "  'peaks_xy': array([[3.6918, 1.    ],\n",
       "         [4.007 , 0.1254]]),\n",
       "  'alpha_escape_keV': 1.9518459229614809,\n",
       "  'color': array([1.    , 0.5961, 0.5882])},\n",
       " {'elem': 'I',\n",
       "  'name': 'Iodine',\n",
       "  'peaks_xy': array([[3.932 , 1.    ],\n",
       "         [4.2471, 0.9089],\n",
       "         [5.0725, 0.106 ],\n",
       "         [4.8024, 0.0827],\n",
       "         [3.4817, 0.0379]]),\n",
       "  'alpha_escape_keV': 2.191965982991496,\n",
       "  'color': array([0.6978, 0.5209, 0.4799])},\n",
       " {'elem': 'Ba',\n",
       "  'name': 'Barium',\n",
       "  'peaks_xy': array([[4.4572, 1.    ],\n",
       "         [4.8474, 0.8766],\n",
       "         [5.1626, 0.1669],\n",
       "         [5.8079, 0.1019],\n",
       "         [5.5378, 0.0946],\n",
       "         [3.947 , 0.0386]]),\n",
       "  'alpha_escape_keV': 2.717228614307153,\n",
       "  'color': array([0.8566, 0.8005, 0.8976])},\n",
       " {'elem': 'Ti',\n",
       "  'name': 'Titanium',\n",
       "  'peaks_xy': array([[4.5023, 1.    ],\n",
       "         [4.9375, 0.1303],\n",
       "         [0.4352, 0.0136]]),\n",
       "  'alpha_escape_keV': 2.7622511255627815,\n",
       "  'color': array([0.8392, 0.1529, 0.1569])},\n",
       " {'elem': 'V',\n",
       "  'name': 'Vanadium',\n",
       "  'peaks_xy': array([[4.9525, 1.    ],\n",
       "         [5.4327, 0.1316],\n",
       "         [0.5103, 0.0173]]),\n",
       "  'alpha_escape_keV': 3.2124762381190592,\n",
       "  'color': array([0.5961, 0.8745, 0.5412])},\n",
       " {'elem': 'Cr',\n",
       "  'name': 'Chromium',\n",
       "  'peaks_xy': array([[5.4177, 1.    ],\n",
       "         [5.943 , 0.1292],\n",
       "         [0.5703, 0.0209]]),\n",
       "  'alpha_escape_keV': 3.6777088544272134,\n",
       "  'color': array([0.1725, 0.6275, 0.1725])},\n",
       " {'elem': 'Mn',\n",
       "  'name': 'Manganese',\n",
       "  'peaks_xy': array([[5.8979, 1.    ],\n",
       "         [6.4832, 0.1337],\n",
       "         [0.6303, 0.0231]]),\n",
       "  'alpha_escape_keV': 4.157948974487244,\n",
       "  'color': array([1.    , 0.7333, 0.4706])},\n",
       " {'elem': 'Fe',\n",
       "  'name': 'Iron',\n",
       "  'peaks_xy': array([[6.3932, 1.    ],\n",
       "         [7.0535, 0.1351],\n",
       "         [0.7054, 0.0282]]),\n",
       "  'alpha_escape_keV': 4.653196598299149,\n",
       "  'color': array([0.7, 0.5, 0.1])},\n",
       " {'elem': 'Co',\n",
       "  'name': 'Cobalt',\n",
       "  'peaks_xy': array([[6.9185, 1.    ],\n",
       "         [7.6538, 0.1361],\n",
       "         [0.7804, 0.0308]]),\n",
       "  'alpha_escape_keV': 5.178459229614807,\n",
       "  'color': array([0.6824, 0.7804, 0.9098])},\n",
       " {'elem': 'Ni',\n",
       "  'name': 'Nickel',\n",
       "  'peaks_xy': array([[7.4737, 1.    ],\n",
       "         [8.2691, 0.1363],\n",
       "         [0.8554, 0.0326]]),\n",
       "  'alpha_escape_keV': 5.733736868434217,\n",
       "  'color': array([0.1216, 0.4667, 0.7059])},\n",
       " {'elem': 'Cu',\n",
       "  'name': 'Copper',\n",
       "  'peaks_xy': array([[8.044 , 1.    ],\n",
       "         [8.8994, 0.1347],\n",
       "         [0.9305, 0.0342]]),\n",
       "  'alpha_escape_keV': 6.304022011005502,\n",
       "  'color': array([0.1, 0.9, 0.3])},\n",
       " {'elem': 'Zn',\n",
       "  'name': 'Zinc',\n",
       "  'peaks_xy': array([[8.6293, 1.    ],\n",
       "         [9.5748, 0.1385],\n",
       "         [1.0205, 0.0355]]),\n",
       "  'alpha_escape_keV': 6.889314657328665,\n",
       "  'color': array([0.2361, 0.8382, 0.8824])},\n",
       " {'elem': 'Hg',\n",
       "  'name': 'Mercury',\n",
       "  'peaks_xy': array([[ 9.98  ,  1.    ],\n",
       "         [11.8409,  0.7195],\n",
       "         [ 2.2211,  0.2312],\n",
       "         [13.8369,  0.125 ],\n",
       "         [11.5558,  0.0617],\n",
       "         [ 8.7194,  0.0541],\n",
       "         [14.2121,  0.0365],\n",
       "         [ 1.7109,  0.0263],\n",
       "         [10.6403,  0.017 ]]),\n",
       "  'alpha_escape_keV': 8.239989994997499,\n",
       "  'color': array([0.7215, 0.5805, 0.8355])},\n",
       " {'elem': 'As',\n",
       "  'name': 'Arsenic',\n",
       "  'peaks_xy': array([[10.5353,  1.    ],\n",
       "         [11.7209,  0.1511],\n",
       "         [ 1.2906,  0.0424]]),\n",
       "  'alpha_escape_keV': 8.79526763381691,\n",
       "  'color': array([0.9127, 0.9127, 0.7008])},\n",
       " {'elem': 'Pb',\n",
       "  'name': 'Lead',\n",
       "  'peaks_xy': array([[10.5503,  1.    ],\n",
       "         [12.6213,  0.8551],\n",
       "         [ 2.3712,  0.2299],\n",
       "         [14.7674,  0.1328],\n",
       "         [12.3062,  0.0575],\n",
       "         [ 9.1846,  0.0564],\n",
       "         [15.1726,  0.0373],\n",
       "         [ 1.8309,  0.0265],\n",
       "         [11.3457,  0.0177]]),\n",
       "  'alpha_escape_keV': 8.810275137568784,\n",
       "  'color': array([0.4, 0.4, 0.4])},\n",
       " {'elem': 'Br',\n",
       "  'name': 'Bromine',\n",
       "  'peaks_xy': array([[11.916 ,  1.    ],\n",
       "         [13.2966,  0.1603],\n",
       "         [ 1.5008,  0.046 ]]),\n",
       "  'alpha_escape_keV': 10.175957978989494,\n",
       "  'color': array([0.4, 0.3, 0. ])},\n",
       " {'elem': 'Sr',\n",
       "  'name': 'Strontium',\n",
       "  'peaks_xy': array([[14.1521,  1.    ],\n",
       "         [15.8329,  0.175 ],\n",
       "         [ 1.8309,  0.0553]]),\n",
       "  'alpha_escape_keV': 12.41207603801901,\n",
       "  'color': array([0.8618, 0.8618, 0.8618])},\n",
       " {'elem': 'Rh',\n",
       "  'name': 'Rhodium',\n",
       "  'peaks_xy': array([[20.2001,  1.    ],\n",
       "         [22.7214,  0.243 ],\n",
       "         [ 2.7014,  0.0815],\n",
       "         [23.1716,  0.0408]]),\n",
       "  'alpha_escape_keV': 18.460100050025016,\n",
       "  'color': array([0.6582, 0.6582, 0.6582])},\n",
       " {'elem': 'Ag',\n",
       "  'name': 'Silver',\n",
       "  'peaks_xy': array([[22.1511,  1.    ],\n",
       "         [24.9275,  0.259 ],\n",
       "         [ 2.9865,  0.0898],\n",
       "         [25.4527,  0.0452]]),\n",
       "  'alpha_escape_keV': 20.411075537768888,\n",
       "  'color': array([0.9811, 0.8168, 0.89  ])},\n",
       " {'elem': 'Cd',\n",
       "  'name': 'Cadmium',\n",
       "  'peaks_xy': array([[23.1716,  1.    ],\n",
       "         [23.0065,  0.5582],\n",
       "         [26.083 ,  0.2645],\n",
       "         [ 3.1366,  0.0922],\n",
       "         [26.6383,  0.048 ]]),\n",
       "  'alpha_escape_keV': 21.43158579289645,\n",
       "  'color': array([0.9326, 0.633 , 0.8487])},\n",
       " {'elem': 'Sn',\n",
       "  'name': 'Tin',\n",
       "  'peaks_xy': array([[25.2726,  1.    ],\n",
       "         [25.0475,  0.5393],\n",
       "         [28.4692,  0.2695],\n",
       "         [ 3.4367,  0.0961],\n",
       "         [ 3.6618,  0.0542],\n",
       "         [29.1146,  0.0533]]),\n",
       "  'alpha_escape_keV': 23.53263631815908,\n",
       "  'color': array([0.8539, 0.7446, 0.7215])}]"
      ]
     },
     "execution_count": null,
     "metadata": {},
     "output_type": "execute_result"
    }
   ],
   "source": []
  },
  {
   "cell_type": "code",
   "execution_count": null,
   "metadata": {},
   "outputs": [],
   "source": [
    "def extract_alpha_keVs(elem_ptrns=None): \n",
    "    \n",
    "    if elem_ptrns is None: \n",
    "        elem_ptrns = get_patterns()\n",
    "    \n",
    "    alpha_keVs = []\n",
    "    elements = []\n",
    "    alpha_list = []\n",
    "    \n",
    "    for i, p in enumerate(elem_ptrns):     \n",
    "        a_keV = p['peaks_xy'][0, 0] \n",
    "        alpha_keVs.append(a_keV)\n",
    "        \n",
    "        elem = p['elem']\n",
    "        elements.append(elem)\n",
    "        \n",
    "        alpha_list.append([elem, a_keV])\n",
    "         \n",
    "    return alpha_list\n",
    "        "
   ]
  },
  {
   "cell_type": "code",
   "execution_count": null,
   "metadata": {},
   "outputs": [],
   "source": [
    "alpha_list = extract_alpha_keVs()"
   ]
  },
  {
   "cell_type": "code",
   "execution_count": null,
   "metadata": {},
   "outputs": [
    {
     "data": {
      "text/plain": [
       "[0.3901950975487744,\n",
       " 0.5252626313156579,\n",
       " 0.6753376688344173,\n",
       " 0.8554277138569285,\n",
       " 1.0355177588794398,\n",
       " 1.2606303151575788,\n",
       " 1.485742871435718,\n",
       " 1.7408704352176088,\n",
       " 2.0110055027513756,\n",
       " 2.3111555777888944,\n",
       " 2.626313156578289,\n",
       " 3.3166583291645826,\n",
       " 3.691845922961481,\n",
       " 3.9319659829914957,\n",
       " 4.457228614307153,\n",
       " 4.502251125562782,\n",
       " 4.9524762381190595,\n",
       " 5.417708854427214,\n",
       " 5.897948974487244,\n",
       " 6.393196598299149,\n",
       " 6.9184592296148075,\n",
       " 7.473736868434218,\n",
       " 8.044022011005502,\n",
       " 8.629314657328665,\n",
       " 9.9799899949975,\n",
       " 10.53526763381691,\n",
       " 10.550275137568784,\n",
       " 11.915957978989494,\n",
       " 14.15207603801901,\n",
       " 20.200100050025014,\n",
       " 22.151075537768886,\n",
       " 23.171585792896447,\n",
       " 25.27263631815908]"
      ]
     },
     "execution_count": null,
     "metadata": {},
     "output_type": "execute_result"
    }
   ],
   "source": [
    "[a[1] for a in alpha_list]"
   ]
  },
  {
   "cell_type": "code",
   "execution_count": null,
   "metadata": {},
   "outputs": [
    {
     "data": {
      "text/plain": [
       "dict_items([('N', 0.3901950975487744)])"
      ]
     },
     "execution_count": null,
     "metadata": {},
     "output_type": "execute_result"
    }
   ],
   "source": [
    "d.items()"
   ]
  },
  {
   "cell_type": "code",
   "execution_count": null,
   "metadata": {},
   "outputs": [
    {
     "data": {
      "text/plain": [
       "array(['N', 'O', 'F', 'Ne', 'Na', 'Mg', 'Al', 'Si', 'P', 'S', 'Cl', 'K',\n",
       "       'Ca', 'I', 'Ba', 'Ti', 'V', 'Cr', 'Mn', 'Fe', 'Co', 'Ni', 'Cu',\n",
       "       'Zn', 'Hg', 'As', 'Pb', 'Br', 'Sr', 'Rh', 'Ag', 'Cd', 'Sn'],\n",
       "      dtype='<U8')"
      ]
     },
     "execution_count": null,
     "metadata": {},
     "output_type": "execute_result"
    }
   ],
   "source": [
    "alpha['elem']"
   ]
  },
  {
   "cell_type": "markdown",
   "metadata": {},
   "source": [
    "Let's color the markers on these matched instrument peaks red..."
   ]
  },
  {
   "cell_type": "code",
   "execution_count": null,
   "metadata": {},
   "outputs": [],
   "source": [
    "y_hot = ds.read('hotmax_spectra')[4] \n",
    "\n",
    "match_idxs = peak_matches[:, 0]\n",
    "match_x = subpeak_keVs[match_idxs]\n",
    "match_y = y_hot[np.array(subpeak_idxs)[match_idxs]]"
   ]
  },
  {
   "cell_type": "code",
   "execution_count": null,
   "metadata": {},
   "outputs": [
    {
     "data": {
      "text/plain": [
       "[95, 1981, 466, 735, 427, 329, 2108, 800, 2206, 1360, 152, 1522, 933]"
      ]
     },
     "execution_count": null,
     "metadata": {},
     "output_type": "execute_result"
    }
   ],
   "source": [
    "subpeak_idxs[]"
   ]
  },
  {
   "cell_type": "code",
   "execution_count": null,
   "metadata": {},
   "outputs": [],
   "source": [
    "from maxrf4u import HotmaxAtlas"
   ]
  },
  {
   "cell_type": "code",
   "execution_count": null,
   "metadata": {},
   "outputs": [],
   "source": [
    "hma = HotmaxAtlas('RP-T-1898-A-3689.datastack')"
   ]
  },
  {
   "cell_type": "code",
   "execution_count": null,
   "metadata": {},
   "outputs": [
    {
     "data": {
      "text/html": [
       "..",
       "<img src=\"./images/55_peak-pattern-puzzle-solver_3e63ab93a0.png\">"
      ]
     },
     "execution_count": null,
     "metadata": {},
     "output_type": "execute_result"
    }
   ],
   "source": [
    "ax, ann_list = hma.plot_spectrum(4)\n",
    "\n",
    "ax.scatter(match_x, match_y, facecolor='r', edgecolor='w', marker='X', s=100)\n",
    "ax.set_title('Matching instrument peaks');"
   ]
  },
  {
   "cell_type": "markdown",
   "metadata": {},
   "source": [
    "And note down for which peaks we now have an explanation:"
   ]
  },
  {
   "cell_type": "code",
   "execution_count": null,
   "metadata": {},
   "outputs": [],
   "source": [
    "np.set_printoptions(precision=4)"
   ]
  },
  {
   "cell_type": "code",
   "execution_count": null,
   "metadata": {},
   "outputs": [
    {
     "data": {
      "text/plain": [
       "[-0.028648044952708673,\n",
       " 18.895639680305266,\n",
       " 3.693998161871633,\n",
       " 6.393167513989552,\n",
       " 3.3026687762485896,\n",
       " 2.3193282687855556,\n",
       " 20.16996870528287,\n",
       " 7.0453831566946254,\n",
       " 21.153309212745903,\n",
       " 12.664471770769104,\n",
       " 0.5432949032655865,\n",
       " 14.289993834126363,\n",
       " 8.379916702537315]"
      ]
     },
     "execution_count": null,
     "metadata": {},
     "output_type": "execute_result"
    }
   ],
   "source": []
  },
  {
   "cell_type": "code",
   "execution_count": null,
   "metadata": {},
   "outputs": [],
   "source": [
    "for n in [0, 1, 6]: \n",
    "    explanation[n]['src'] = 'INSTR'"
   ]
  },
  {
   "cell_type": "code",
   "execution_count": null,
   "metadata": {},
   "outputs": [
    {
     "data": {
      "text/plain": [
       "[{'n': 0, 'keV': -0.028648044952708673, 'src': 'INSTR'},\n",
       " {'n': 1, 'keV': 18.895639680305266, 'src': 'INSTR'},\n",
       " {'n': 2, 'keV': 3.693998161871633, 'src': '????'},\n",
       " {'n': 3, 'keV': 6.393167513989552, 'src': '????'},\n",
       " {'n': 4, 'keV': 3.3026687762485896, 'src': '????'},\n",
       " {'n': 5, 'keV': 2.3193282687855556, 'src': '????'},\n",
       " {'n': 6, 'keV': 20.16996870528287, 'src': 'INSTR'},\n",
       " {'n': 7, 'keV': 7.0453831566946254, 'src': '????'},\n",
       " {'n': 8, 'keV': 21.153309212745903, 'src': '????'},\n",
       " {'n': 9, 'keV': 12.664471770769104, 'src': '????'},\n",
       " {'n': 10, 'keV': 0.5432949032655865, 'src': '????'},\n",
       " {'n': 11, 'keV': 14.289993834126363, 'src': '????'},\n",
       " {'n': 12, 'keV': 8.379916702537315, 'src': '????'}]"
      ]
     },
     "execution_count": null,
     "metadata": {},
     "output_type": "execute_result"
    }
   ],
   "source": [
    "explanation"
   ]
  },
  {
   "cell_type": "markdown",
   "metadata": {},
   "source": [
    "Now that we matched the instrumental peaks, we need to explain the other remaining peaks following their sorting order (from large to small). This means that next we need to explain peak **(2)**. For this, we need to consult the peak pattern atlas...  "
   ]
  },
  {
   "cell_type": "code",
   "execution_count": null,
   "metadata": {},
   "outputs": [
    {
     "data": {
      "text/plain": [
       "array([ 2,  3,  4,  5,  7,  8,  9, 10, 11, 12])"
      ]
     },
     "execution_count": null,
     "metadata": {},
     "output_type": "execute_result"
    }
   ],
   "source": [
    "np.argwhere([p['src'] == '????' for p in explanation]).flatten()"
   ]
  },
  {
   "cell_type": "code",
   "execution_count": null,
   "metadata": {},
   "outputs": [],
   "source": []
  }
 ],
 "metadata": {
  "kernelspec": {
   "display_name": "python3",
   "language": "python",
   "name": "python3"
  }
 },
 "nbformat": 4,
 "nbformat_minor": 2
}
