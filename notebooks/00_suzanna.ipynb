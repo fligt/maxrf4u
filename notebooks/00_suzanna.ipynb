{
 "cells": [
  {
   "cell_type": "markdown",
   "metadata": {},
   "source": [
    "# Meet Susanna \n",
    "\n",
    "> A beautiful drawing by Rembrandt "
   ]
  },
  {
   "cell_type": "markdown",
   "metadata": {},
   "source": [
    "Meet Susanna and the Elders. She is a very special drawing by Rembrandt in the collection of the Rijksmuseum in Amsterdam. While developing this code, I have spent an awful lot of time to reveal her secrets and those of x-ray fluorescence.  Throughout this documentation we will look at the MA-XRF spectral image made by Leila Sauvage and her colleagues working in the paper conservation studio of the Rijksmuseum.   \n",
    "\n"
   ]
  },
  {
   "cell_type": "markdown",
   "metadata": {},
   "source": [
    "<div id=\"openseadragon1_dzi\" style=\"width: 800px; height: 500px; background-color: snow\"></div>\n",
    "\n",
    "<script src=\"https://cdnjs.cloudflare.com/ajax/libs/openseadragon/2.4.2/openseadragon.min.js\" \n",
    "integrity=\"sha512-qvQYH6mPuE46uFcWLI8BdGaJpB5taX4lltbSIw5GF4iODh2xIgyz5ii1WpuzPFUknHCps0mi4mFGR44bjdZlZg==\" \n",
    "crossorigin=\"anonymous\"> \n",
    "</script>\n",
    " \n",
    "<script type=\"text/javascript\"> \n",
    "var viewer = OpenSeadragon({\n",
    "id: \"openseadragon1_dzi\",\n",
    "prefixUrl: \"https://cdnjs.cloudflare.com/ajax/libs/openseadragon/2.4.2/images/\",\n",
    "tileSources: [\n",
    " \"https://f002.backblazeb2.com/file/deepzoom-demo/deepzoom/dzp_RP-T-1898-A-3689_Recto/RP-T-1898-A-3689_Recto.dzi\",\n",
    " \"https://f002.backblazeb2.com/file/deepzoom-demo/deepzoom/dzp_RP-T-1898-A-3689_Trans-Recto/RP-T-1898-A-3689_Trans-Recto.dzi\"],\n",
    "sequenceMode: true,\n",
    "preserveViewport: true,\n",
    "showReferenceStrip: true,\n",
    "showNavigator: true\n",
    "});\n",
    "</script>\n",
    "\n",
    "*Susanna and the Elders* (c.1650-c.1655) Rembrandt van Rijn, Rijksmuseum Amsterdam [RP-T-1898-A-3689](https://www.rijksmuseum.nl/en/collection/RP-T-1898-A-3689/catalogue-entry)"
   ]
  },
  {
   "cell_type": "markdown",
   "metadata": {},
   "source": [
    "It seems to me that this drawing substantially has changed it's appearance over time. There are indications that Rembrandt used white paint to cover parts of the drawing that he did not like, and drew new lines on top of this paint. Nowadays these areas with white paint have become gray and no longer to hide the ink underneath.   "
   ]
  }
 ],
 "metadata": {
  "kernelspec": {
   "display_name": "python3",
   "language": "python",
   "name": "python3"
  }
 },
 "nbformat": 4,
 "nbformat_minor": 2
}
