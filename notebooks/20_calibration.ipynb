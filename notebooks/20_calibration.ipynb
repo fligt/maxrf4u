{
 "cells": [
  {
   "cell_type": "raw",
   "metadata": {},
   "source": [
    "---\n",
    "skip_exec: true \n",
    "---"
   ]
  },
  {
   "cell_type": "code",
   "execution_count": null,
   "metadata": {},
   "outputs": [],
   "source": [
    "#|default_exp calibration"
   ]
  },
  {
   "cell_type": "markdown",
   "metadata": {},
   "source": [
    "# Calibration  \n",
    "\n",
    "> Find the Compton peak first "
   ]
  },
  {
   "cell_type": "code",
   "execution_count": null,
   "metadata": {},
   "outputs": [],
   "source": [
    "#|hide \n",
    "%load_ext autoreload\n",
    "%autoreload 2 \n",
    "\n",
    "%matplotlib notebook"
   ]
  },
  {
   "cell_type": "code",
   "execution_count": null,
   "metadata": {},
   "outputs": [],
   "source": [
    "#|hide \n",
    "import os "
   ]
  },
  {
   "cell_type": "code",
   "execution_count": null,
   "metadata": {},
   "outputs": [],
   "source": [
    "#|hide \n",
    "os.chdir('/home/frank/Work/Projecten/DoRe/viz/raw_nmf')"
   ]
  },
  {
   "cell_type": "markdown",
   "metadata": {},
   "source": [
    "Inconveniently, MA-XRF data does not always include information about the energy calibration of the spectra. Although it is clear that the channel energies will roughly range between zero and the tube voltage, we need more precise numbers for the upcoming calculations. Thus, a very first step in the data analysis is to obtain a precise energy calibration in keV units (kilo-electron-Volt) for a given dataset. Fortunately, XRF spectra, (at least for drawings), typically have two clearly recognizable features that allow for energy calibration of the detector channels. \n",
    "\n",
    "## Two steps \n",
    "\n",
    "The automatic precise energy calibration is done in two steps.   \n",
    "\n",
    "In the first step the dominant broad Compton peak is observed in the sum spectrum. The position of this peak can not be used for the calibration directly due to an unknown (detector angle specific) Compton shift, but it serves as a landmark. Right next to the Compton peak a small peak is found. In our lab an x-ray tube with a Rhodium anode is used. This peak can now be attributed to elastic scattering of the strong Rhodium K-alpha emission peak present in the x-ray tube spectrum at 20.21 keV.   \n",
    "\n",
    "In the second step of the calibration process the iron K-alpha emission peak is located in the max spectrum. Essentially all artifacts like paper contain iron, with a known strong emission K-alpha line at 6.403 keV.  \n",
    "\n",
    "As a first requisite step in any further data analysis the function `calibrate()` is called. The user is prompted to inspect and save the result.   "
   ]
  },
  {
   "cell_type": "code",
   "execution_count": null,
   "metadata": {},
   "outputs": [],
   "source": [
    "from maxrf4u import calibrate, DataStack "
   ]
  },
  {
   "cell_type": "code",
   "execution_count": null,
   "metadata": {},
   "outputs": [
    {
     "data": {
      "text/html": [
       "..",
       "<img src=\"./images/20_calibration_58af63d66d.png\">"
      ]
     },
     "execution_count": null,
     "metadata": {},
     "output_type": "execute_result"
    }
   ],
   "source": [
    "x_keVs = calibrate('RP-T-1898-A-3689.datastack', tube_keV=40)"
   ]
  },
  {
   "cell_type": "markdown",
   "metadata": {},
   "source": [
    "In further analysis our stored energy calibration can now be accessed using the `.read('maxrf_energies')` method which returns an array with 4096 energy values. "
   ]
  },
  {
   "cell_type": "code",
   "execution_count": null,
   "metadata": {},
   "outputs": [
    {
     "name": "stdout",
     "output_type": "stream",
     "text": [
      "Energies:  [-0.98188629 -0.97185221 -0.96181812 ... 40.08763102 40.09766511\n",
      " 40.1076992 ]\n",
      "Number of energy channels: 4096\n"
     ]
    }
   ],
   "source": [
    "ds = DataStack('RP-T-1898-A-3689.datastack')\n",
    "x_keVs = ds.read('maxrf_energies')\n",
    "\n",
    "print('Energies: ', x_keVs)\n",
    "print(f'Number of energy channels: {len(x_keVs)}')"
   ]
  },
  {
   "cell_type": "markdown",
   "metadata": {},
   "source": [
    "Now that we have an energy calibration, we can move to the next step in our data analysis. "
   ]
  },
  {
   "cell_type": "markdown",
   "metadata": {},
   "source": [
    "## FUNCTIONS "
   ]
  },
  {
   "cell_type": "code",
   "execution_count": null,
   "metadata": {},
   "outputs": [],
   "source": [
    "#|export \n",
    " \n",
    "import maxrf4u \n",
    "import matplotlib.pyplot as plt \n",
    "import numpy as np \n",
    "import scipy.signal as ssg \n",
    "import matplotlib.cm as cm \n",
    "import math"
   ]
  },
  {
   "cell_type": "code",
   "execution_count": null,
   "metadata": {},
   "outputs": [],
   "source": [
    "#|export \n",
    "\n",
    "RHODIUM_Ka = 20.210105052526263 # Rh_KL3 \n",
    "IRON_Ka = 6.4032016008004 # Fe_KL3 \n",
    "\n",
    "def calibrate(datastack_file, anode='Rh', prominence=0.1, tube_keV=40): \n",
    "    '''Automatic two step energy energy calibration. \n",
    "    \n",
    "    In step 1 a preliminary calibration is done assuming that the  \n",
    "    sensor peak is located at 0 keV and the Rhodium anode Ka peak \n",
    "    is next to it's high and broad Compton scattering peak in the sum spectrum. \n",
    "    \n",
    "    This preliminary calibration the enables the identification of Fe_Ka peak in \n",
    "    the max spectrum and a second precise calibration. \n",
    "    \n",
    "    Asks user confirmation to store energy calibration in datastack file. \n",
    "    \n",
    "    Returns: x_keVs\n",
    "    '''\n",
    "    \n",
    "    assert anode == 'Rh', NotImplementedError('Sorry, still need to implement other anode materials!') \n",
    "    \n",
    "    ds = maxrf4u.DataStack(datastack_file)\n",
    "    \n",
    "    y_max = ds.read(ds.MAXRF_MAXSPECTRUM)\n",
    "    y_sum = ds.read(ds.MAXRF_SUMSPECTRUM) \n",
    "    \n",
    "    # LOCATE INSTRUMENT PEAK INDICES IN SUM SPECTRUM \n",
    "    \n",
    "    left_peak_i, compton_peak_i, right_peak_i = find_instrument_peaks(y_sum, tube_keV=tube_keV) \n",
    "    \n",
    "    # STEP 1: PRELIMINARY SENSOR + ANODE CALIBRATION TO LOCATE IRON Fe_Ka PEAK  \n",
    "    \n",
    "    left_keV = 0\n",
    "    right_keV = RHODIUM_Ka \n",
    "    \n",
    "    n_channels = len(y_sum) \n",
    "    x_indices = np.arange(n_channels)\n",
    "\n",
    "    slope = (right_keV - left_keV) / (right_peak_i - left_peak_i) \n",
    "    offset = left_keV - slope * left_peak_i  \n",
    "    keVs_precalib = slope * x_indices + offset \n",
    "\n",
    "    # STEP 2: PRECISE IRON Ka + ANODE CALIBRATION \n",
    "    \n",
    "    max_peak_indices, shapes_dict = ssg.find_peaks(y_max, prominence=prominence) \n",
    "    peak_keVs_precalib = keVs_precalib[max_peak_indices]\n",
    "\n",
    "    # now find index of peak nearest to Fe_Ka energy \n",
    "    iron_peak_i = np.argmin((peak_keVs_precalib - IRON_Ka)**2)\n",
    "    \n",
    "    # calibrate again now with iron Ka left hand peak \n",
    "    \n",
    "    left_peak_i = max_peak_indices[iron_peak_i]\n",
    "    left_keV = IRON_Ka\n",
    "\n",
    "    slope = (right_keV - left_keV) / (right_peak_i - left_peak_i) \n",
    "    offset = left_keV - slope * left_peak_i  \n",
    "    x_keVs = slope * x_indices + offset \n",
    "    \n",
    "    # Calibration peak diagnostics \n",
    "    iron_xy = x_keVs[left_peak_i], y_max[left_peak_i]\n",
    "    compton_xy = x_keVs[compton_peak_i], y_sum[compton_peak_i]\n",
    "    anode_xy = x_keVs[right_peak_i], y_sum[right_peak_i] \n",
    "    \n",
    "    theta = detector_angle(compton_xy[0], anode_xy[0])\n",
    "    \n",
    "    calib_peaks_x, calib_peaks_y = np.array([iron_xy, compton_xy, anode_xy]).T \n",
    "    \n",
    "    # Create calibration plot \n",
    "    plt.ion()\n",
    "\n",
    "    colors =  cm.tab10([0, 1, 2]) \n",
    "    fig, ax = plt.subplots(ncols=1, nrows=1, figsize=[7, 4])\n",
    "    ax2 = ax.twinx()\n",
    "    line1, = ax.plot(x_keVs, y_max, label='max spectrum', color='green')\n",
    "    line2, = ax2.plot(x_keVs, y_sum, label='sum spectrum', color='blue')\n",
    "\n",
    "\n",
    "    # annotate iron in max spectrum \n",
    "    ax.axvline(iron_xy[0], linestyle=':', color='r')\n",
    "    ax.annotate(f'Iron Ka \\n({iron_xy[0]:.3f} keV)', iron_xy, xytext=[20, -20], \n",
    "                textcoords='offset points', ha='left', \n",
    "                arrowprops=dict(arrowstyle=\"->\", facecolor='grey'))\n",
    "    ax.scatter(*iron_xy, s=40, facecolor=[1, 0.5, 0.5], edgecolor='green', zorder=10) \n",
    "\n",
    "    ax.set_title('Energy Calibration')\n",
    "    ax.set_xlabel('Energy [keV]')\n",
    "    ax.set_ylabel('Max Spectrum Intensity [counts]')\n",
    "\n",
    "\n",
    "    # annotate compton peak in sum spectrum \n",
    "    ax2.annotate('Compton Peak\\n(inelastic scattering)\\n' + \n",
    "                r'$\\theta$' + f'={int(theta)}' + r'$^{\\circ}$', \n",
    "                compton_xy, xytext=[20, 20], \n",
    "                textcoords='offset points', ha='left', \n",
    "                arrowprops=dict(arrowstyle=\"->\", facecolor='grey'))\n",
    "    ax2.scatter(*compton_xy, s=40, facecolor='white', edgecolor='blue', zorder=10)       \n",
    "\n",
    "    # annotate anode peak in sum spectrum \n",
    "    ax2.axvline(anode_xy[0], linestyle=':', color='r')\n",
    "    ax2.annotate(f'Anode\\nRhodium Ka \\n({anode_xy[0]:.2f} keV)', anode_xy, xytext=[20, 20], \n",
    "                textcoords='offset points', ha='left', \n",
    "                arrowprops=dict(arrowstyle=\"->\", facecolor='grey'))\n",
    "    ax2.scatter(*anode_xy, s=40, facecolor=[1, 0.5, 0.5], edgecolor=[0, 0, 1], zorder=10)        \n",
    "\n",
    "    ax2.set_ylabel('Sum Spectrum Intensity [counts]')\n",
    "\n",
    "    ax.legend(handles=[line1, line2], loc='upper right')\n",
    "    \n",
    "    # force updating plot \n",
    "    plt.pause(0.2)\n",
    "    fig.canvas.draw()\n",
    "        \n",
    "    # write energies \n",
    "    write = input('Write instrument energy calibration to datastack file [y/n]? ')\n",
    "\n",
    "    if write == 'y': \n",
    "        print(f'\\nWriting channel energies (keV) to: {datastack_file}')\n",
    "        maxrf4u.append(x_keVs, ds.MAXRF_ENERGIES, datastack_file) \n",
    "        \n",
    "        print(f'Also writing instrument Compton anode peak energy (keV) to: {datastack_file}')\n",
    "        compton_peak_energy = x_keVs[compton_peak_i]\n",
    "        maxrf4u.append(np.array([compton_peak_energy]), 'compton_peak_energy', datastack_file)\n",
    "            \n",
    "    return x_keVs\n",
    "\n",
    "\n",
    "def detector_angle(keV0, keV1): \n",
    "    '''Calculate detector scatter angle `theta` (degrees) \n",
    "    \n",
    "    From Compton peak energy `keV0` and anode energy `keV1`, assuming a single scattering event. \n",
    "    \n",
    "    Returns: theta (degrees)'''\n",
    "    \n",
    "    assert keV0 < keV1, 'Compton energy should be less then anode energy'\n",
    "\n",
    "    # constants \n",
    "    e = 1.602e-19 # electron charge\n",
    "    pi = math.pi\n",
    "    h = 6.62607e-34 # Planck constant \n",
    "    m0 = 9.10939e-31 # electron mass \n",
    "    c = 2.998e8 # speed of light \n",
    "    \n",
    "    \n",
    "    # convert keV to Joule \n",
    "    E0 = 1000 * keV0 * e \n",
    "    E1 = 1000 * keV1 * e \n",
    "\n",
    "    theta = (180 / pi) * np.arccos(1 - m0 * c**2 * (1/E0 - 1/E1))\n",
    "\n",
    "    return theta \n",
    "\n",
    "\n",
    "def find_instrument_peaks(y_sum, prominence=0.1, tube_keV=40):  \n",
    "    '''Locate key instrument peaks: \n",
    "    \n",
    "              1) left hand sensor peak index  \n",
    "              2) anode Compton peak index  \n",
    "              3) right hand (rhodium) anode Ka peak index  \n",
    "              \n",
    "              in sum spectrum `y_sum`. \n",
    "    \n",
    "    Assumes anode material is rhodium, and Compton peak energy is \n",
    "    first peak below (uncalibrated) 20 keV, based on tube keV.     \n",
    "    \n",
    "    Returns: [left_peak_i, compton_peak_i, right_peak_i] \n",
    "    '''\n",
    "    \n",
    "    # find all prominent peaks in sum spectrum \n",
    "    n_channels = len(y_sum) \n",
    "    x_indices = np.arange(n_channels)\n",
    "    sum_peak_indices, shapes_dict = ssg.find_peaks(y_sum, prominence=prominence)\n",
    "    \n",
    "    # Sensor peak \n",
    "    # assume sensor peak index is first peak index in list    \n",
    "    left_peak_i = sum_peak_indices[0] \n",
    "    \n",
    "    # Compton peak (new approach)\n",
    "    # assume that Compton peak is first peak below 20 keV \n",
    "    # in `tube_keV` based uncalibrated spectrum \n",
    "    # i.e. with energies ranging from 0 to `tube_keV` \n",
    "     \n",
    "    x_approx_keVs = np.linspace(0, tube_keV, n_channels)\n",
    "    peak_approx_keVs = x_approx_keVs[sum_peak_indices] # approximate peak keVs from tube keV \n",
    "    is_below20keV = peak_approx_keVs < 20 \n",
    "    \n",
    "    i = np.argmax(peak_approx_keVs[is_below20keV]) # peak number \n",
    "    compton_peak_i = sum_peak_indices[i]\n",
    "    \n",
    "    # Anode peak \n",
    "    # find anode peak channel index right next to Compton peak    \n",
    "    right_peak_i = sum_peak_indices[list(sum_peak_indices).index(compton_peak_i) + 1] \n",
    "    \n",
    "    return [left_peak_i, compton_peak_i, right_peak_i]\n",
    "      \n",
    "\n",
    "\n",
    "\n",
    "def compton_shift(keV_in, theta): \n",
    "    '''Compute Compton shift for photon energies `keV_in` and scatter angle `theta`. \n",
    "    \n",
    "    Assuming single scattering. \n",
    "    \n",
    "    Returns: keV_out'''\n",
    "    \n",
    "\n",
    "    # See: https://en.wikipedia.org/wiki/Compton_scattering \n",
    "\n",
    "    # constants \n",
    "    e = 1.602e-19 # electron charge\n",
    "    pi = math.pi\n",
    "    h = 6.62607e-34 # Planck constant \n",
    "    m0 = 9.10939e-31 # electron mass \n",
    "    c = 2.998e8 # speed of light\n",
    "\n",
    "    # convert keV to Joule \n",
    "    E_in = 1000 * keV_in * e \n",
    "    \n",
    "    # convert theta to radians \n",
    "    theta = pi * theta / 180\n",
    "    \n",
    "    E_out = E_in / (1 + (E_in / (m0 * c**2)) * (1 - np.cos(theta))) \n",
    "    \n",
    "    keV_out = E_out / (1000 * e) \n",
    "    \n",
    "    return keV_out \n",
    "    "
   ]
  }
 ],
 "metadata": {
  "kernelspec": {
   "display_name": "python3",
   "language": "python",
   "name": "python3"
  }
 },
 "nbformat": 4,
 "nbformat_minor": 2
}
