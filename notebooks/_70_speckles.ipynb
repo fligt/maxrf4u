{
 "cells": [
  {
   "cell_type": "code",
   "execution_count": null,
   "metadata": {},
   "outputs": [],
   "source": [
    "#|default_exp speckles"
   ]
  },
  {
   "cell_type": "markdown",
   "metadata": {},
   "source": [
    "# Speckles \n",
    "\n",
    "> Annoying and interesting paper inclusions "
   ]
  },
  {
   "cell_type": "code",
   "execution_count": null,
   "metadata": {},
   "outputs": [],
   "source": [
    "#|hide \n",
    "%load_ext autoreload\n",
    "%autoreload 2 \n",
    "%matplotlib notebook"
   ]
  },
  {
   "cell_type": "code",
   "execution_count": null,
   "metadata": {},
   "outputs": [],
   "source": [
    "#|hide \n",
    "import os"
   ]
  },
  {
   "cell_type": "code",
   "execution_count": null,
   "metadata": {},
   "outputs": [],
   "source": [
    "os.chdir('/home/frank/Work/Projecten/DoRe/viz/raw_nmf')"
   ]
  },
  {
   "cell_type": "code",
   "execution_count": null,
   "metadata": {},
   "outputs": [],
   "source": [
    "#|hide \n",
    "import numpy as np \n",
    "import matplotlib.pyplot as plt \n",
    "import skimage.exposure as ske\n",
    "\n",
    "from maxrf4u import DataStack"
   ]
  },
  {
   "cell_type": "code",
   "execution_count": null,
   "metadata": {},
   "outputs": [],
   "source": [
    "#|hide \n",
    "ds = DataStack('RP-T-1898-A-3689.datastack') \n",
    "extent = ds.read('imvis_extent')\n",
    "imvis = ds.read('imvis_reg_highres')\n",
    "\n",
    "x_keVs = ds.read('maxrf_energies') \n",
    "y_max = ds.read('maxrf_maxspectrum')\n",
    "y_sum = ds.read('maxrf_sumspectrum') \n",
    "\n",
    "hotmax_pixels = ds.read('hotmax_pixels')\n",
    "hotmax_spectra = ds.read('hotmax_spectra')\n",
    "hotmax_baselines = ds.read('hotmax_baselines')\n",
    "\n",
    "peak_idxs = hotmax_pixels[:,2]"
   ]
  },
  {
   "cell_type": "markdown",
   "metadata": {},
   "source": [
    "**I will continue working on this topic later...**"
   ]
  },
  {
   "cell_type": "markdown",
   "metadata": {},
   "source": [
    "Historic handmade papers can contain various types of metal inclusions. Iron and manganese are abundantly present in groundwater and notoriously difficult to remove. Hence, historic papers typically contain iron/manganese inclusions. Another source of metal inclusions is the wear of paper making equipment such as the brass wires of a paper making mold. "
   ]
  },
  {
   "cell_type": "markdown",
   "metadata": {},
   "source": [
    "Metal inclusions in paper lead to spikes in the elemental maps computed from MA-XRF data. If one is interested in the distribution of elements due to media like ink, such spikes are annoying and need to be filtered out of the elemental maps. We will develop code here to do so. On the other hand, the composition and distribution of metal inclusions in paper is an interesting new source of information that might reveal details of the paper making process and help to distinguish different papers.  "
   ]
  },
  {
   "cell_type": "markdown",
   "metadata": {},
   "source": [
    "## Brass "
   ]
  },
  {
   "cell_type": "markdown",
   "metadata": {},
   "source": [
    "When exploring the hotmax spectra in a previous section, hotmax spectra *12*, *13* and *14* showed an interesting combination of copper and zinc. Let's have a look these spectra and their pixel locations in combination with their corresponding elemental maps. "
   ]
  },
  {
   "cell_type": "code",
   "execution_count": null,
   "metadata": {},
   "outputs": [
    {
     "data": {
      "text/plain": [
       "array([[489, 122, 900],\n",
       "       [489, 122, 960],\n",
       "       [489, 122, 984]])"
      ]
     },
     "execution_count": null,
     "metadata": {},
     "output_type": "execute_result"
    }
   ],
   "source": [
    "hotmax_pixels[[12, 13, 14]]"
   ]
  },
  {
   "cell_type": "markdown",
   "metadata": {},
   "source": [
    "Ah, these three hotmax pixels in our data cube are located at the same spatial location $(x,y)$ = (112, 489). Their spectra are identical and so we only need to look at hotmax spectrum *12*. "
   ]
  },
  {
   "cell_type": "code",
   "execution_count": null,
   "metadata": {},
   "outputs": [],
   "source": [
    "%matplotlib notebook"
   ]
  },
  {
   "cell_type": "code",
   "execution_count": null,
   "metadata": {},
   "outputs": [
    {
     "data": {
      "text/html": [
       "..",
       "<img src=\"./images/_70_speckles_3fb01adc8c.png\">"
      ]
     },
     "execution_count": null,
     "metadata": {},
     "output_type": "execute_result"
    }
   ],
   "source": [
    "#|code-fold: true \n",
    "\n",
    "from maxrf4u.peakmaps import _add_hotlines_ticklabels\n",
    "y_hot = hotmax_spectra[12]\n",
    "\n",
    "fig, ax = plt.subplots(figsize=[8, 4])\n",
    "ax.plot(x_keVs, y_hot)\n",
    "ax.set_xlim([-1, 24]);\n"
   ]
  },
  {
   "cell_type": "code",
   "execution_count": null,
   "metadata": {},
   "outputs": [],
   "source": [
    "y, x, z = hotmax_pixels[12]"
   ]
  },
  {
   "cell_type": "code",
   "execution_count": null,
   "metadata": {},
   "outputs": [],
   "source": [
    "elements = ds.read('nmf_elements')\n",
    "element_maps = ds.read('nmf_elementmaps')\n",
    "element_maps_dict = dict(zip(elements, element_maps))\n",
    "\n",
    "Cu_map = element_maps_dict['Cu']\n",
    "Zn_map = element_maps_dict['Zn']"
   ]
  },
  {
   "cell_type": "code",
   "execution_count": null,
   "metadata": {},
   "outputs": [
    {
     "data": {
      "text/html": [
       "..",
       "<img src=\"./images/_70_speckles_142b7225b1.png\">"
      ]
     },
     "execution_count": null,
     "metadata": {},
     "output_type": "execute_result"
    }
   ],
   "source": [
    "fig, [ax0, ax1, ax2] = plt.subplots(sharex=True, sharey=True, ncols=3, figsize=[9, 4])\n",
    "\n",
    "ax0.imshow(Cu_map)\n",
    "ax0.scatter(x, y, color='r', marker='+')\n",
    "ax0.set_title('Cu')\n",
    "\n",
    "ax1.imshow(imvis, extent=extent)\n",
    "ax1.scatter(x, y, color='r', marker='+')\n",
    "ax1.set_title('Vis')\n",
    "\n",
    "\n",
    "ax2.imshow(Zn_map)\n",
    "ax2.scatter(x, y, color='r', marker='+')\n",
    "ax2.set_title('Zn')\n",
    "\n",
    "fig.tight_layout()\n",
    "\n",
    "fig.show()\n"
   ]
  },
  {
   "cell_type": "markdown",
   "metadata": {},
   "source": [
    "The trouble with speckles is, that they are too small to be noticed in the element maps. A simple way to make them visible is to apply a Gaussian blur filter.  "
   ]
  },
  {
   "cell_type": "code",
   "execution_count": null,
   "metadata": {},
   "outputs": [],
   "source": [
    "import skimage.filters as skf"
   ]
  },
  {
   "cell_type": "code",
   "execution_count": null,
   "metadata": {},
   "outputs": [],
   "source": [
    "Cu_map_gauss = skf.gaussian(Cu_map, sigma=5)\n",
    "Zn_map_gauss = skf.gaussian(Zn_map, sigma=5)"
   ]
  },
  {
   "cell_type": "code",
   "execution_count": null,
   "metadata": {},
   "outputs": [
    {
     "data": {
      "text/html": [
       "..",
       "<img src=\"./images/_70_speckles_caba2ff992.png\">"
      ]
     },
     "execution_count": null,
     "metadata": {},
     "output_type": "execute_result"
    }
   ],
   "source": [
    "fig, ax = plt.subplots(figsize=[8, 8])\n",
    "ax.imshow(Cu_map_gauss);"
   ]
  },
  {
   "cell_type": "code",
   "execution_count": null,
   "metadata": {},
   "outputs": [
    {
     "data": {
      "text/html": [
       "..",
       "<img src=\"./images/_70_speckles_b1b4ca9595.png\">"
      ]
     },
     "execution_count": null,
     "metadata": {},
     "output_type": "execute_result"
    }
   ],
   "source": [
    "Cu_clip = 0.2 \n",
    "Cu_contours = skm.find_contours(Cu_map_gauss, Cu_clip*Cu_map_gauss.max())\n",
    "\n",
    "Zn_clip = 0.4\n",
    "Zn_contours = skm.find_contours(Zn_map_gauss, Zn_clip*Zn_map_gauss.max())\n",
    "\n",
    "\n",
    "# Display the image and plot all contours found\n",
    "fig, [ax, ax1] = plt.subplots(ncols=2, sharex=True, sharey=True, figsize=[9, 4])\n",
    "ax.imshow(Cu_map>Cu_clip, cmap=plt.cm.gray)\n",
    "\n",
    "for contour in Cu_contours:\n",
    "    ax.plot(contour[:, 1], contour[:, 0], linewidth=2, color='r')\n",
    "\n",
    "ax.axis('image')\n",
    "#ax.set_xticks([])\n",
    "#ax.set_yticks([])\n",
    "ax.set_title(f'Cu speckles clip={Cu_clip}')\n",
    "\n",
    "ax1.imshow(Zn_map, cmap=plt.cm.gray)\n",
    "\n",
    "for contour in Zn_contours:\n",
    "    ax1.plot(contour[:, 1], contour[:, 0], linewidth=2, color='lightgreen')\n",
    "\n",
    "ax1.axis('image')\n",
    "#ax.set_xticks([])\n",
    "#ax.set_yticks([])\n",
    "ax1.set_title(f'Zn speckles clip={Zn_clip}')\n",
    "\n",
    "\n",
    "plt.show()"
   ]
  },
  {
   "cell_type": "markdown",
   "metadata": {},
   "source": [
    "Mm, it is not so straightforward to locate zinc at the copper speckle locations. Do we have only one tiny brass particle???"
   ]
  },
  {
   "cell_type": "code",
   "execution_count": null,
   "metadata": {},
   "outputs": [],
   "source": [
    "import skimage.measure as skm \n",
    "import numpy as np "
   ]
  },
  {
   "cell_type": "code",
   "execution_count": null,
   "metadata": {},
   "outputs": [],
   "source": [
    "class SpeckleAtlas(): \n",
    "    \n",
    "    def __init__(self, peak_map, n_heights=100): \n",
    "        \n",
    "        \n",
    "        self.peak_map = peak_map \n",
    "        \n",
    "        h, w = self.peak_map.shape\n",
    "        self.n_px =  h * w \n",
    "        \n",
    "        self.heights = np.linspace(peak_map.min(), peak_map.max(), n_heights)\n",
    "        \n",
    "        # perhaps better just iterate \n",
    "        height_maps = [self.peak_map > h for h in self.heights] \n",
    "\n",
    "        largest_area_list = [] \n",
    "        largest_label_list = []\n",
    "        n_regions_list = []\n",
    "\n",
    "        for i, hm in enumerate(height_maps): \n",
    "\n",
    "            print(f'Inspecting height slice: {i}/{n_heights}', end='\\r')\n",
    "\n",
    "            label_image = skm.label(height_maps[i].astype(int), connectivity=1)\n",
    "            props = skm.regionprops(label_image)\n",
    "            n_regions_list.append(len(props))\n",
    "            areas_labels = np.array([[p.area, p.label] for p in props])\n",
    "\n",
    "            label_image = skm.label(height_maps[i], connectivity=1)\n",
    "\n",
    "            props = skm.regionprops(label_image)\n",
    "\n",
    "            areas_labels = np.array([[p.area, p.label] for p in props])\n",
    "\n",
    "            # in case of zero regions:  \n",
    "            if len(areas_labels) == 0: \n",
    "                areas_labels = np.array([[0, 0]])\n",
    "\n",
    "            areas, labels = areas_labels.T\n",
    "\n",
    "            largest_area_i = np.argmax(areas)\n",
    "            largest_area = areas[largest_area_i]\n",
    "            largest_label = labels[largest_area_i]\n",
    "\n",
    "            largest_area_list.append(largest_area)\n",
    "            largest_label_list.append(largest_label) \n",
    "                \n",
    "        \n",
    "        self.largest_areas = largest_area_list   \n",
    "        self.largest_labels = largest_label_list \n",
    "        self.n_regions = n_regions_list \n",
    "\n",
    "        \n",
    "    def measure_speckles(self, max_area=100): \n",
    "        '''Find, sort, label and measure speckle regions.  \n",
    "        \n",
    "        Selects lowest height slice with all speckle regions smaller then *max_area*. \n",
    "        \n",
    "        Returns: *clip_height* '''\n",
    "        \n",
    "        # find largest speckle and associated clip height \n",
    "        self.max_area = max_area \n",
    "        self.clip_height_i = np.argmin((np.array(self.largest_areas) - max_area)**2) \n",
    "        self.clip_height = self.heights[self.clip_height_i] \n",
    "        self.largest_speckle_label = self.largest_labels[self.clip_height_i] \n",
    "        \n",
    "        # unsorted label image for clip level  \n",
    "        unsorted_label_image = skm.label(self.peak_map > self.clip_height)\n",
    "        uprops = skm.regionprops(unsorted_label_image) \n",
    "\n",
    "        u_areas = np.array([p.area for p in uprops])\n",
    "        u_labels = np.array([p.label for p in uprops]) # [1, 2, 3 ...]\n",
    "\n",
    "        # create area sorted labels \n",
    "        indices = np.argsort(u_areas)[::-1]\n",
    "        area_sorted_labels = u_labels[indices]\n",
    "\n",
    "        #prepend zero index for background \n",
    "        area_sorted_labels_bg = np.r_[0, area_sorted_labels]\n",
    "        \n",
    "        # make relabel lut \n",
    "        n_labels = len(area_sorted_labels_bg)\n",
    "        relabel_lut = np.zeros(n_labels, dtype=int)\n",
    "        \n",
    "        # say region with label 123 is largest speckle \n",
    "        # then lut[123] = 1 \n",
    "        relabel_lut[area_sorted_labels_bg] = np.arange(n_labels)\n",
    "        \n",
    "        # took me quite some time to debug so let's make sure next time \n",
    "        assert relabel_lut[area_sorted_labels_bg[1]] == 1, 'Relabeling of image went wrong' \n",
    "        \n",
    "        self.relabel_image = relabel_lut[unsorted_label_image] \n",
    "        \n",
    "        # determine region props \n",
    "        self.props = skm.regionprops(self.relabel_image, intensity_image=self.peak_map)\n",
    "        \n",
    "        self.centroids_y, self.centroids_x = np.array([p.centroid for p in self.props]).T\n",
    "        self.centroids_xy = np.c_[self.centroids_x, self.centroids_y]\n",
    "                                  \n",
    "        return self.clip_height \n",
    "    \n",
    "    \n",
    "    def speckle_spectrum(self, arr, speckle_i): \n",
    "        '''Get averaged speckle spectrum for region of *speckle_i*. \n",
    "        \n",
    "        Returns: *spectrum*\n",
    "        -------\n",
    "        '''\n",
    "\n",
    "        print(speckle_i, end='\\r')\n",
    "\n",
    "        p = self.props[speckle_i]\n",
    "        \n",
    "        spectrum = region_spectra(arr, mask=p.image, average=True)\n",
    "               \n",
    "        return spectrum \n",
    "    "
   ]
  }
 ],
 "metadata": {
  "kernelspec": {
   "display_name": "python3",
   "language": "python",
   "name": "python3"
  }
 },
 "nbformat": 4,
 "nbformat_minor": 2
}
