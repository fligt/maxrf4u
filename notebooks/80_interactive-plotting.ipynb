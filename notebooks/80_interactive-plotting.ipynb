{
 "cells": [
  {
   "cell_type": "raw",
   "metadata": {},
   "source": [
    "---\n",
    "skip_exec: true\n",
    "---"
   ]
  },
  {
   "cell_type": "code",
   "execution_count": null,
   "metadata": {},
   "outputs": [],
   "source": [
    "#|default_exp interactive_visualization"
   ]
  },
  {
   "cell_type": "markdown",
   "metadata": {},
   "source": [
    "# About interactive visualization using cloud storage\n",
    "\n",
    "> The amazing possibilities of Jupyter ipywidgets and cloud storage \n"
   ]
  },
  {
   "cell_type": "markdown",
   "metadata": {},
   "source": [
    "The whole point of doing all this is of course to be able to communicate the results of data processing in as rich a manner as possible.  We have saved the calculated element maps in our datastack file. With the `multi_plot()` function one can create an overview plot with just a few lines of of code. "
   ]
  },
  {
   "cell_type": "code",
   "execution_count": null,
   "metadata": {},
   "outputs": [],
   "source": [
    "#|hide  \n",
    "\n",
    "%load_ext autoreload\n",
    "%autoreload 2 "
   ]
  },
  {
   "cell_type": "code",
   "execution_count": null,
   "metadata": {},
   "outputs": [],
   "source": [
    "#|code-fold: true \n",
    "import os \n",
    "import numpy as np \n",
    "import matplotlib.pyplot as plt \n",
    "\n",
    "from maxrf4u import DataStack, multi_plot \n",
    "import skimage.exposure as ske "
   ]
  },
  {
   "cell_type": "code",
   "execution_count": null,
   "metadata": {},
   "outputs": [
    {
     "data": {
      "text/html": [
       "..<img src=\"./images/80_interactive-plotting_0b3c1d6337.png\">"
      ]
     },
     "execution_count": null,
     "metadata": {},
     "output_type": "execute_result"
    }
   ],
   "source": [
    "#|code-fold: true  \n",
    "os.chdir('/home/frank/Work/Projecten/DoRe/viz/raw_nmf')\n",
    "datastack_file = 'RP-T-1898-A-3689.datastack' \n",
    "ds = DataStack(datastack_file)\n",
    "\n",
    "elements = ds.read('nmf_elements')\n",
    "element_maps = ds.read('nmf_elementmaps')\n",
    "element_maps_histeq = [ske.equalize_hist(m) for m in element_maps]\n",
    "\n",
    "fig, axs = multi_plot(*element_maps_histeq, titles=elements)\n",
    "fig.suptitle('histogram equalized element maps')\n",
    "plt.tight_layout()"
   ]
  },
  {
   "cell_type": "markdown",
   "metadata": {},
   "source": [
    "Now I would like to share and explore this result with my colleagues and the rest of the world. Of course, one could save this plot in a low resolution overview image and share by email, or perhaps create a zip folder with high resolution images and send by Wetransfer. Rather unsatisfactory, clumsy, inefficient. In my experience, when exploring data each new thought requires yet another view of the same data. In some cases this is just a matter of zooming in to a specific location on the map, in other cases one might need to adjust contrast, mark locations etcetera. All of this is easy when one knows how to use Python and is sitting behind the same computer. However, I am aware that most of my colleagues can not program Python, and have other problems in life that they would like to solve first. \n",
    "\n",
    "> **For effective data exploration within interdisciplinary teams, being able to easily create interactive web based visualizations is paramount.**   "
   ]
  },
  {
   "cell_type": "markdown",
   "metadata": {},
   "source": [
    "In the scientific Python community the need for interactive web based data visualization has since long been well understood. In these last years a rich ecosystem of open source web visualization tools has been developed. Two important Python packages that allow easy creation of interactive web *dashboards* are [ipywidgets](https://ipywidgets.readthedocs.io/en/stable/) and [ipyleaflet](https://ipyleaflet.readthedocs.io/en/latest/map_and_basemaps/map.html). My code here is makes use of these packages. \n",
    "\n",
    "Of course, one can only create web visualizations if one has the possibility to directly publish content on the web. Github offers free webhosting for nerds. These documentation pages you are reading are published via github. However, github is a version control system for code and not suitable to publish large amounts of image data. Better suited is cloud storage. In my case I acquired cloud storage from [backblaze.com](https://www.backblaze.com/). The price for storing files is very cheap: \\$0.005 GB/Month. Cloud storage is organized in so-called buckets. Files within those buckets can be loaded into web pages. A convenient way to upload files to a web bucket is to mount the bucket into the computer's file system using a command line tool called `rclone`. "
   ]
  },
  {
   "cell_type": "markdown",
   "metadata": {},
   "source": [
    "Enough talk for now. Below I will show you how to create an interactive visualization. Starting point is the histogram equalized element maps for the eleven elements.   "
   ]
  },
  {
   "cell_type": "code",
   "execution_count": null,
   "metadata": {},
   "outputs": [],
   "source": [
    "#|code-fold: true \n",
    "from maxrf4u import DataStack, multi_plot \n",
    "import skimage.exposure as ske "
   ]
  },
  {
   "cell_type": "code",
   "execution_count": null,
   "metadata": {},
   "outputs": [],
   "source": [
    "#|code-fold: true \n",
    "datastack_file = 'RP-T-1898-A-3689.datastack' \n",
    "ds = DataStack(datastack_file)\n",
    "\n",
    "elements = ds.read('nmf_elements')\n",
    "element_maps = ds.read('nmf_elementmaps')\n",
    "element_maps_histeq = [ske.equalize_hist(m) for m in element_maps] # improve contrast "
   ]
  },
  {
   "cell_type": "markdown",
   "metadata": {},
   "source": [
    "Let's start by preparing standard filenames for the jpeg images that will be used in the visualization using the `make_filenames()` function.  "
   ]
  },
  {
   "cell_type": "code",
   "execution_count": null,
   "metadata": {},
   "outputs": [],
   "source": [
    "from maxrf4u import make_filenames "
   ]
  },
  {
   "cell_type": "code",
   "execution_count": null,
   "metadata": {},
   "outputs": [
    {
     "data": {
      "text/plain": [
       "['RP-T-1898-A-3689_histeq_elementmap_S.jpg',\n",
       " 'RP-T-1898-A-3689_histeq_elementmap_Cl.jpg',\n",
       " 'RP-T-1898-A-3689_histeq_elementmap_K.jpg',\n",
       " 'RP-T-1898-A-3689_histeq_elementmap_Ca.jpg',\n",
       " 'RP-T-1898-A-3689_histeq_elementmap_Ba.jpg',\n",
       " 'RP-T-1898-A-3689_histeq_elementmap_Ti.jpg',\n",
       " 'RP-T-1898-A-3689_histeq_elementmap_Mn.jpg',\n",
       " 'RP-T-1898-A-3689_histeq_elementmap_Fe.jpg',\n",
       " 'RP-T-1898-A-3689_histeq_elementmap_Cu.jpg',\n",
       " 'RP-T-1898-A-3689_histeq_elementmap_Zn.jpg',\n",
       " 'RP-T-1898-A-3689_histeq_elementmap_Pb.jpg']"
      ]
     },
     "execution_count": null,
     "metadata": {},
     "output_type": "execute_result"
    }
   ],
   "source": [
    "objnr = 'RP-T-1898-A-3689' \n",
    "viztype = 'histeq_elementmap' \n",
    "ext = 'jpg'\n",
    "\n",
    "filenames = make_filenames(objnr, viztype, elements, ext)\n",
    "filenames "
   ]
  },
  {
   "cell_type": "markdown",
   "metadata": {},
   "source": [
    "A next step is to create an standard image upload directory object and upload the images to the cloud storage. This is done with the `UploadDir()` function and `.imsave()` method.  "
   ]
  },
  {
   "cell_type": "code",
   "execution_count": null,
   "metadata": {},
   "outputs": [],
   "source": [
    "from maxrf4u import UploadDir "
   ]
  },
  {
   "cell_type": "code",
   "execution_count": null,
   "metadata": {},
   "outputs": [
    {
     "name": "stdout",
     "output_type": "stream",
     "text": [
      "Created online images folder: https://f002.backblazeb2.com/file/dore-viz/RP-T-1898-A-3689/images\n"
     ]
    }
   ],
   "source": [
    "bucket_url = 'https://f002.backblazeb2.com/file/dore-viz' \n",
    "mount_dir = '/media/frank/b2/dore-viz/' \n",
    "\n",
    "uplink = UploadDir(mount_dir, objnr, bucket_url, subdir='images')"
   ]
  },
  {
   "cell_type": "code",
   "execution_count": null,
   "metadata": {},
   "outputs": [
    {
     "name": "stdout",
     "output_type": "stream",
     "text": [
      "Saving 11 images to folder: https://f002.backblazeb2.com/file/dore-viz/RP-T-1898-A-3689/images\n",
      "\n",
      "\n",
      "https://f002.backblazeb2.com/file/dore-viz/RP-T-1898-A-3689/images/RP-T-1898-A-3689_histeq_elementmap_S.jpg\n",
      "https://f002.backblazeb2.com/file/dore-viz/RP-T-1898-A-3689/images/RP-T-1898-A-3689_histeq_elementmap_Cl.jpg\n",
      "https://f002.backblazeb2.com/file/dore-viz/RP-T-1898-A-3689/images/RP-T-1898-A-3689_histeq_elementmap_K.jpg\n",
      "https://f002.backblazeb2.com/file/dore-viz/RP-T-1898-A-3689/images/RP-T-1898-A-3689_histeq_elementmap_Ca.jpg\n",
      "https://f002.backblazeb2.com/file/dore-viz/RP-T-1898-A-3689/images/RP-T-1898-A-3689_histeq_elementmap_Ba.jpg\n",
      "https://f002.backblazeb2.com/file/dore-viz/RP-T-1898-A-3689/images/RP-T-1898-A-3689_histeq_elementmap_Ti.jpg\n",
      "https://f002.backblazeb2.com/file/dore-viz/RP-T-1898-A-3689/images/RP-T-1898-A-3689_histeq_elementmap_Mn.jpg\n",
      "https://f002.backblazeb2.com/file/dore-viz/RP-T-1898-A-3689/images/RP-T-1898-A-3689_histeq_elementmap_Fe.jpg\n",
      "https://f002.backblazeb2.com/file/dore-viz/RP-T-1898-A-3689/images/RP-T-1898-A-3689_histeq_elementmap_Cu.jpg\n",
      "https://f002.backblazeb2.com/file/dore-viz/RP-T-1898-A-3689/images/RP-T-1898-A-3689_histeq_elementmap_Zn.jpg\n",
      "https://f002.backblazeb2.com/file/dore-viz/RP-T-1898-A-3689/images/RP-T-1898-A-3689_histeq_elementmap_Pb.jpg\n"
     ]
    }
   ],
   "source": [
    "img_urls = uplink.imsave(element_maps_histeq, filenames) "
   ]
  },
  {
   "cell_type": "markdown",
   "metadata": {},
   "source": [
    "Now that we have these images available online, we can build the interactive 'gridbox' visualization with the `make_gridbox_widget()` function, and save the the result as an html webpage with the `.export_interactive_html()` method. "
   ]
  },
  {
   "cell_type": "code",
   "execution_count": null,
   "metadata": {},
   "outputs": [],
   "source": [
    "from maxrf4u import make_gridbox_widget "
   ]
  },
  {
   "cell_type": "code",
   "execution_count": null,
   "metadata": {},
   "outputs": [],
   "source": [
    "gridbox = make_gridbox_widget(img_urls, titles=elements)"
   ]
  },
  {
   "cell_type": "code",
   "execution_count": null,
   "metadata": {},
   "outputs": [
    {
     "name": "stdout",
     "output_type": "stream",
     "text": [
      "Saving interactive html to cloud storage...\n",
      "Click link to load the interactive visualization (opens a separate page).\n",
      "\n",
      "https://f002.backblazeb2.com/file/dore-viz/RP-T-1898-A-3689/html/RP-T-1898-A-3689_histeq_elementmap.html\n"
     ]
    }
   ],
   "source": [
    "uplink.export_interactive_html(gridbox, viztype='histeq_elementmap');"
   ]
  },
  {
   "cell_type": "markdown",
   "metadata": {},
   "source": [
    "<iframe src=\"https://f002.backblazeb2.com/file/dore-viz/RP-T-1898-A-3689/html/RP-T-1898-A-3689_histeq_elementmap.html\" height=\"500\" width=\"800\"></iframe> \n",
    "\n",
    "<a href=\"https://f002.backblazeb2.com/file/dore-viz/RP-T-1898-A-3689/html/RP-T-1898-A-3689_histeq_elementmap.html\">Click link to load the interactive visualization (opens a separate page).</a>"
   ]
  },
  {
   "cell_type": "markdown",
   "metadata": {},
   "source": [
    "## FUNCTIONS "
   ]
  },
  {
   "cell_type": "code",
   "execution_count": null,
   "metadata": {},
   "outputs": [],
   "source": [
    "#|export \n",
    "\n",
    "import maxrf4u as mx\n",
    "\n",
    "import skimage.exposure as ske\n",
    "\n",
    "import json \n",
    "import os \n",
    "\n",
    "import IPython \n",
    "\n",
    "from IPython.display import display\n",
    "from IPython.display import Image\n",
    "from IPython.display import HTML\n",
    "\n",
    "\n",
    "from ipywidgets.embed import embed_minimal_html, embed_data \n",
    "from ipywidgets import Layout, HBox, VBox, GridBox, jslink, HTML \n",
    "from ipywidgets import Widget \n",
    "\n",
    "from ipyleaflet import (Map, projections, ImageOverlay, Rectangle, ZoomControl, FullScreenControl, \n",
    "                        DrawControl, WKTLayer, Popup)\n",
    "import os \n",
    "\n",
    "import PIL\n",
    "import urllib \n",
    "import numpy as np \n",
    "import matplotlib.pyplot as plt"
   ]
  },
  {
   "cell_type": "code",
   "execution_count": null,
   "metadata": {},
   "outputs": [
    {
     "ename": "SyntaxError",
     "evalue": "expected ':' (2663053082.py, line 171)",
     "output_type": "error",
     "traceback": [
      "\u001b[0;36m  Cell \u001b[0;32mIn[1], line 171\u001b[0;36m\u001b[0m\n\u001b[0;31m    def export_element_maps()\u001b[0m\n\u001b[0m                                                 ^\u001b[0m\n\u001b[0;31mSyntaxError\u001b[0m\u001b[0;31m:\u001b[0m expected ':'\n"
     ]
    }
   ],
   "source": [
    "#|export \n",
    "\n",
    "class UploadDir(): \n",
    "    \n",
    "    def __init__(self, mount_dir, objnr, bucket_url, subdir='images'):\n",
    "        '''Creates a standard upload (image) directory object. '''\n",
    "        \n",
    "        self._mount_dir = mount_dir\n",
    "        self._objnr = objnr \n",
    "        self._subdir = subdir \n",
    "        self._bucket_url = bucket_url \n",
    "        \n",
    "        # check mount \n",
    "        assert os.path.isdir(mount_dir), f'Directory {mount_dir} was not found. Forgot to mount?' \n",
    "\n",
    "        # create subdirectory if needed  \n",
    "        self._img_dir = os.path.join(mount_dir, objnr, subdir) \n",
    "        os.makedirs(self._img_dir, exist_ok=True)\n",
    "        \n",
    "        self._images_url = os.path.join(bucket_url, objnr, subdir)\n",
    "        \n",
    "        print(f'Created online images folder: {self._images_url}')\n",
    "\n",
    "        \n",
    "    def imsave(self, img_list, filename_list, verbose=True): \n",
    "        '''Save image arrays `img_list` as `filename_list` in cloud storage.  \n",
    "\n",
    "        Returns: img_url_list \n",
    "        ''' \n",
    "        \n",
    "        print(f'Saving {len(img_list)} images to folder: {self._images_url}')\n",
    "        \n",
    "        img_url_list = []\n",
    "        for img, filename in zip(img_list, filename_list):   \n",
    "            filepath = os.path.join(self._img_dir, filename) \n",
    "            \n",
    "            # save to rclone mounted image folder \n",
    "            plt.imsave(filepath, img) \n",
    "            \n",
    "            img_url = os.path.join(self._bucket_url, self._objnr, self._subdir, filename)\n",
    "            img_url_list.append(img_url)\n",
    "            \n",
    "        if verbose: \n",
    "            print('\\n')\n",
    "            for img_url in img_url_list: \n",
    "                print(img_url)\n",
    "\n",
    "        return img_url_list \n",
    "    \n",
    "    \n",
    "    def listdir(self, filepath=True): \n",
    "        '''List local (mounted) file paths for images subfolder. '''\n",
    "        \n",
    "        filenames = os.listdir(self._img_dir)\n",
    "        \n",
    "        # prefix filepath \n",
    "        if filepath:  \n",
    "            filenames = [os.path.join(self._img_dir, fn) for fn in filenames] \n",
    "            \n",
    "        return filenames \n",
    "    \n",
    "    def listurls(self): \n",
    "        '''Construct image urls'''\n",
    "        \n",
    "        filename_list = os.listdir(self._img_dir)\n",
    "        \n",
    "        img_url_list = []\n",
    "        for filenames in filename_list: \n",
    "            img_url = os.path.join(self._bucket_url, self._objnr, self._subdir, filename)\n",
    "            img_url_list.append(img_url)\n",
    "            \n",
    "        return img_url_list \n",
    "    \n",
    "    def export_interactive_html(self, widget, viztype): \n",
    "        '''Save `widget` as interactive html page in cloud storage.\n",
    "        \n",
    "        Returns: html_url'''\n",
    "        \n",
    "        # create html subdirectory if needed  \n",
    "        html_dir = os.path.join(self._mount_dir, self._objnr, 'html') \n",
    "        os.makedirs(html_dir, exist_ok=True)\n",
    "        \n",
    "        html_filename = f'{self._objnr}_{viztype}.html' \n",
    "        html_filepath = os.path.join(html_dir, html_filename)\n",
    "        html_url = os.path.join(self._bucket_url, self._objnr, 'html', html_filename)\n",
    "\n",
    "        print(f'Saving interactive html to cloud storage...')\n",
    "        embed_minimal_html(html_filepath, widget)\n",
    "        print('Click link to load the interactive visualization (opens a separate page).\\n')\n",
    "\n",
    "        print(html_url)\n",
    "        \n",
    "        return html_url \n",
    "        \n",
    "    \n",
    "    \n",
    "def make_filenames(objnr, viztype, titles, ext): \n",
    "    '''Creates standard filenames. \n",
    "    \n",
    "    Returns: filenames\n",
    "    '''\n",
    "    \n",
    "    filenames = []\n",
    "    for t in titles: \n",
    "        fname = f'{objnr}_{viztype}_{t}.{ext}'\n",
    "        filenames.append(fname)\n",
    "    \n",
    "    return filenames\n",
    "\n",
    "\n",
    "\n",
    "\n",
    "def make_gridbox_widget(img_urls, titles, shape=None): \n",
    "    '''Creates multi-image interactive synchronized viewer. '''\n",
    "    \n",
    "    # close all widgets to avoid ever growing html export file size  \n",
    "    Widget.close_all()\n",
    "    \n",
    "    # if shape is not specified \n",
    "    # assume all images map onto shape of first image \n",
    "    if shape is None: \n",
    "        shape = np.array(PIL.Image.open(urllib.request.urlopen(img_urls[0]))).shape[0:2] # height, width \n",
    "        h, w = shape  \n",
    "\n",
    "    map_layout = Layout(width='20vw', height='20vw')\n",
    "    vbox_layout = Layout(width='20.5vw', height='20vw')\n",
    "    grid_layout = Layout(grid_template_columns=\"repeat(5, 20.2vw)\") \n",
    "    \n",
    "    # make map widgets  \n",
    "    \n",
    "    map_widgets = [] \n",
    "    for url in img_urls:\n",
    "\n",
    "        m = Map(center=[h/2, w/2], zoom=-4, crs=projections['Simple'], layout=map_layout, \n",
    "                    scroll_wheel_zoom=True, min_zoom=-5)#, interpolation='nearest')\n",
    "        \n",
    "        imo = ImageOverlay(url=url, bounds=[[0, 0], [h, w]]) # bounds= SW NE corners\n",
    "        fsc = FullScreenControl()\n",
    "        \n",
    "        m.add(imo)\n",
    "        m.add(fsc)\n",
    "        m.remove(m.layers[0]) # hack to remove world map \n",
    "        \n",
    "        map_widgets.append(m)\n",
    "        \n",
    "    # sync map widgets centers and zoom levels via browser javascript \n",
    "    first, rest = map_widgets[0], map_widgets[1:]\n",
    "    for r in rest: \n",
    "        jslink([first, 'center'],[r, 'center'])\n",
    "        jslink([first, 'zoom'],[r, 'zoom'])\n",
    "    \n",
    "    # titles \n",
    "    \n",
    "    title_widgets = []\n",
    "    for t in titles: \n",
    "        \n",
    "        tw = HTML(f'<center><bf>{t}</bf></center>') # ? \n",
    "        title_widgets.append(tw)\n",
    "    \n",
    "    # combine titles and maps \n",
    "    vboxes = []\n",
    "    for title_widget, map_widget in zip(title_widgets, map_widgets): \n",
    "        \n",
    "        vbox = VBox([title_widget, map_widget], layout=vbox_layout)\n",
    "        vboxes.append(vbox)\n",
    "    \n",
    "    gridbox = GridBox(vboxes, layout=grid_layout)\n",
    "    \n",
    "    return gridbox \n",
    "\n",
    "def export_element_maps(datastack_file, output_dir=None, histeq=True):\n",
    "    ds = mx.DataStack(datastack_file)\n",
    "\n",
    "    if not output_dir:\n",
    "        output_dir = \"\"\n",
    "        \n",
    "    if not os.path.isdir(output_dir):\n",
    "        os.makedirs(output_dir)\n",
    "        \n",
    "    file_name = os.path.basename(datastack_file).removesuffix(mx.DATASTACK_EXT)\n",
    "    \n",
    "    element_maps = ds.read('nmf_elementmaps')\n",
    "    element_nums = ds.read('nmf_atomnums')\n",
    "    elements = mx.elems_from_atomnums(element_nums)\n",
    "    \n",
    "    if histeq:   \n",
    "        element_maps = [ske.equalize_hist(m) for m in element_maps]\n",
    "        \n",
    "    for im, elem in zip(element_maps, elements):\n",
    "        plt.imsave(f'{output_dir}{file_name}_{elem}.png', im)\n",
    "        print(f'{output_dir}{file_name}_{elem}.png saved')"
   ]
  },
  {
   "cell_type": "code",
   "execution_count": null,
   "metadata": {},
   "outputs": [],
   "source": []
  }
 ],
 "metadata": {
  "kernelspec": {
   "display_name": "python3",
   "language": "python",
   "name": "python3"
  },
  "widgets": {
   "application/vnd.jupyter.widget-state+json": {
    "state": {},
    "version_major": 2,
    "version_minor": 0
   }
  }
 },
 "nbformat": 4,
 "nbformat_minor": 4
}
