{
 "cells": [
  {
   "cell_type": "raw",
   "metadata": {},
   "source": [
    "---\n",
    "skip_exec: true\n",
    "---"
   ]
  },
  {
   "cell_type": "code",
   "execution_count": null,
   "metadata": {},
   "outputs": [],
   "source": [
    "#|default_exp hotmax"
   ]
  },
  {
   "cell_type": "markdown",
   "metadata": {},
   "source": [
    "# Hotmax spectra \n",
    "\n",
    "> Cherry picking the best spectra"
   ]
  },
  {
   "cell_type": "code",
   "execution_count": null,
   "metadata": {},
   "outputs": [],
   "source": [
    "#|hide \n",
    "from maxrf4u import tree"
   ]
  },
  {
   "cell_type": "code",
   "execution_count": null,
   "metadata": {},
   "outputs": [],
   "source": [
    "#|hide \n",
    "import os"
   ]
  },
  {
   "cell_type": "code",
   "execution_count": null,
   "metadata": {},
   "outputs": [
    {
     "data": {
      "text/plain": [
       "['RP-T-1898-A-3689.raw',\n",
       " 'RP-T-1898-A-3689.rpl',\n",
       " 'RP-T-1898-A-3689.datastack_backup',\n",
       " 'RP-T-1898-A-3689_FeKa-map-clipped.png',\n",
       " 'RP-T-1898-A-3689.datastack',\n",
       " 'RP-T-1898-A-3689_highres.png']"
      ]
     },
     "execution_count": null,
     "metadata": {},
     "output_type": "execute_result"
    }
   ],
   "source": [
    "#|hide \n",
    "os.chdir('/home/frank/Work/DATA/maxrf4u-data/')\n",
    "os.listdir()"
   ]
  },
  {
   "cell_type": "code",
   "execution_count": null,
   "metadata": {},
   "outputs": [
    {
     "name": "stdout",
     "output_type": "stream",
     "text": [
      "RP-T-1898-A-3689.datastack:\n",
      "\n",
      "/\n",
      " ├── compton_peak_energy (1,) float64\n",
      " ├── imvis_extent (4,) int64\n",
      " ├── imvis_reg (1692, 1592, 4) float32\n",
      " ├── imvis_reg_highres (4920, 4629, 4) float32\n",
      " ├── maxrf_cube (1692, 1592, 4096) float32\n",
      " ├── maxrf_energies (4096,) float64\n",
      " ├── maxrf_maxspectrum (4096,) float32\n",
      " ├── maxrf_sumspectrum (4096,) float64\n",
      " └── test_list (3, 3) int64\n"
     ]
    }
   ],
   "source": [
    "#|hide \n",
    "tree('RP-T-1898-A-3689.datastack')"
   ]
  },
  {
   "cell_type": "markdown",
   "metadata": {},
   "source": [
    "A MA-XRF spectral image data cube contains typically a million spectra or so. Far too many to analyze them individually! Furthermore, most of these spectra have low signals and are rather noisy. An approach to overcome these computational problems is to base a further data analysis solely on the max spectrum. Such an approach is used e.g. by [DataMuncher](https://sourceforge.net/p/datamuncher/wiki/Home/) developed by Matthias Alfeld. As discussed above, the max spectrum essentially is an envelope function that provides a highly informative summary of all spectra. Different peaks in the max spectrum envelope can originate from from different spatial positions in the spectral image. Although this mathematical combination of spectral signals reduces computational analysis time, down the road it complicates our task of unmixing spectra and attribution of specific peak patterns to different chemical elements.  "
   ]
  },
  {
   "cell_type": "markdown",
   "metadata": {},
   "source": [
    "### Locating the hotmax pixels and spectra "
   ]
  },
  {
   "cell_type": "markdown",
   "metadata": {},
   "source": [
    "A more sophisticated approach is to locate for each peak in the max spectrum envelope which specific pixel spectrum is responsible for that specific peak. Loosely speaking, which pixels in the spectral image data cube are 'hotmax'? Another way to explain this is to find the specific 'hotmax' spectra that touches the corresponding max spectrum peaks.     \n",
    "\n",
    "A requisite step in the data analysis now is to find the hotmax pixels and spectra. Locating them takes a few minutes, and should be done once using the `get_hotmax_spectra()` function. The user is prompted to inspect and save the result in the datastack file.   "
   ]
  },
  {
   "cell_type": "code",
   "execution_count": null,
   "metadata": {},
   "outputs": [],
   "source": [
    "#|hide \n",
    "%matplotlib widget"
   ]
  },
  {
   "cell_type": "code",
   "execution_count": null,
   "metadata": {},
   "outputs": [],
   "source": [
    "from maxrf4u import compute_hotmax_spectra "
   ]
  },
  {
   "cell_type": "code",
   "execution_count": null,
   "metadata": {},
   "outputs": [
    {
     "data": {
      "image/png": "[encoded data removed]",
      "text/plain": [
       "<Figure size 900x400 with 1 Axes>"
      ]
     },
     "metadata": {},
     "output_type": "display_data"
    },
    {
     "name": "stdout",
     "output_type": "stream",
     "text": [
      "Step 1/3: Reading hot max channel maps...\n",
      "[########################################] | 100% Completed | 107.78 s\n",
      "Step 2/3: Locating hot max pixels...\n",
      "Step 3/3: Ready with reading hot max spectra. \n"
     ]
    },
    {
     "name": "stdin",
     "output_type": "stream",
     "text": [
      "Write hotmax spectra, spots and peak indices to datastack file [y/n]?  n\n"
     ]
    }
   ],
   "source": [
    "compute_hotmax_spectra('RP-T-1898-A-3689.datastack')"
   ]
  },
  {
   "cell_type": "markdown",
   "metadata": {},
   "source": [
    "In further analysis our stored hotmax spectra, spots and peak indexes can now be accessed from file using the `DataStack.read(<datapath>)` and `DataStack.read_list(<datapath>)` methods. "
   ]
  },
  {
   "cell_type": "code",
   "execution_count": null,
   "metadata": {},
   "outputs": [],
   "source": [
    "#|hide\n",
    "%matplotlib inline"
   ]
  },
  {
   "cell_type": "code",
   "execution_count": null,
   "metadata": {},
   "outputs": [],
   "source": [
    "from maxrf4u import DataStack "
   ]
  },
  {
   "cell_type": "code",
   "execution_count": null,
   "metadata": {},
   "outputs": [],
   "source": [
    "ds = DataStack('RP-T-1898-A-3689.datastack')\n",
    "\n",
    "x_keVs = ds.read('maxrf_energies')\n",
    "hotmax_spectra = ds.read('hotmax_spectra')\n",
    "hotmax_spots = ds.read('hotmax_spots')\n",
    "hotmax_peak_idxs_list = ds.read_list('hotmax_peak_idxs_list')"
   ]
  },
  {
   "cell_type": "markdown",
   "metadata": {},
   "source": [
    "To get an idea, let's plot both the spatial (x, y) locations of the hotmax spots on the image of the drawing, and their corresponding hotmax spectra. "
   ]
  },
  {
   "cell_type": "code",
   "execution_count": null,
   "metadata": {},
   "outputs": [],
   "source": [
    "#|code-fold: true \n",
    "import matplotlib.pyplot as plt \n",
    "from maxrf4u.peakmaps import _add_hotlines_ticklabels "
   ]
  },
  {
   "cell_type": "code",
   "execution_count": null,
   "metadata": {},
   "outputs": [
    {
     "data": {
      "text/html": [
       "..<img src=\"./images/40_hotmax_13c709b175.png\">"
      ]
     },
     "execution_count": null,
     "metadata": {},
     "output_type": "execute_result"
    }
   ],
   "source": [
    "#|code-fold: true \n",
    " \n",
    "y, x = hotmax_spots.T\n",
    "\n",
    "im = ds.read('imvis_reg_highres')\n",
    "extent = ds.read('imvis_extent')\n",
    "\n",
    "fig = plt.figure(figsize=[7, 8], constrained_layout=True)\n",
    "grid = plt.GridSpec(22, 2, figure=fig)\n",
    "\n",
    "ax = fig.add_subplot(grid[0:22, 0])\n",
    "ax.imshow(im, extent=extent)\n",
    "ax.scatter(x, y, alpha=0.4, color='r', marker='s');\n",
    "\n",
    "ax.set_title('Hotmax spots')\n",
    "\n",
    "axs = []\n",
    "for n, spectrum in enumerate(hotmax_spectra): \n",
    "    \n",
    "    ax1 = fig.add_subplot(grid[n, 1])\n",
    "    axs.append(ax1)\n",
    "    \n",
    "    ax1.plot(x_keVs, spectrum)\n",
    "    \n",
    "    peak_idxs = hotmax_peak_idxs_list[n]\n",
    "    ax1.scatter(x_keVs[peak_idxs], spectrum[peak_idxs], alpha=0.4, color='r', marker='s')\n",
    "    \n",
    "    ax1.set_xlim([-1, 25])\n",
    "    ax1.set_yticks([])\n",
    "    # label \n",
    "    ax1.text(-0.015, 0.5, f'{n}', c='C0', ha='right', va='center', transform=ax1.transAxes)\n",
    "    \n",
    "axs[0].get_shared_x_axes().join(*axs)\n",
    "\n",
    "# hack to suppress ticklabels in upper plot \n",
    "# https://stackoverflow.com/questions/4209467 \n",
    "# matplotlib-share-x-axis-but-dont-show-x-axis-tick-labels-for-both-just-one\n",
    "for ax1 in axs[0:-1]: \n",
    "    plt.setp(ax1.get_xticklabels(), visible=False) \n",
    "    \n",
    "axs[0].set_title('Hotmax spectra')\n",
    "axs[-1].set_xlabel('energy (keV)')\n",
    "\n",
    "\n",
    "for i, xy in enumerate(zip(x, y)): \n",
    "    # hack to avoid overlapping labels \n",
    "    xytext = [0, 6]\n",
    "    if i == 6: \n",
    "        xytext = [0, -12]\n",
    "    if i == 16: \n",
    "        xytext = [0, -12]\n",
    "    ax.annotate(f'[{i}]', xy, xytext=xytext, color='C0', textcoords='offset points', ha='center')\n",
    "    \n"
   ]
  },
  {
   "cell_type": "markdown",
   "metadata": {},
   "source": [
    "Now let's pick one of the 22 hotmax spectra and take a closer look. Each hotmax spectrum has one or more peaks (square red marker) that correspond to specific peaks in the the max spectrum envelope. "
   ]
  },
  {
   "cell_type": "code",
   "execution_count": null,
   "metadata": {},
   "outputs": [
    {
     "data": {
      "text/html": [
       "..<img src=\"./images/40_hotmax_5b400e8292.png\">"
      ]
     },
     "execution_count": null,
     "metadata": {},
     "output_type": "execute_result"
    }
   ],
   "source": [
    "#|code-fold: true \n",
    "\n",
    "ds = DataStack('RP-T-1898-A-3689.datastack')\n",
    "\n",
    "hotmax_spectra = ds.read('hotmax_spectra')\n",
    "\n",
    "hotmax_peak_idxs_list = ds.read('hotmax_peak_idxs_list')\n",
    "x_keVs = ds.read('maxrf_energies')\n",
    "y_max = ds.read('maxrf_maxspectrum') \n",
    "\n",
    "n = 12 \n",
    "\n",
    "spectrum = hotmax_spectra[n]\n",
    "idxs = hotmax_peak_idxs_list[n] \n",
    "peaks_x = x_keVs[idxs]\n",
    "peaks_y = spectrum[idxs]\n",
    "\n",
    "fig, ax = plt.subplots(figsize=[7, 3])\n",
    "\n",
    "ax.plot(x_keVs, spectrum, label=f'hotmax spectrum #{n}')\n",
    "ax.scatter(peaks_x, peaks_y, edgecolor='r', \n",
    "           marker='s', facecolor='w', label=f'hotmax peak(s)')\n",
    "ax.fill_between(x_keVs, y_max, color='r', alpha=0.2, label='max spectrum')\n",
    "ax.set_xlabel('energy [keV]')\n",
    "ax.set_ylabel('Intensity [#counts]')\n",
    "ax.set_ylim(-1, 1.1*spectrum.max())\n",
    "ax.set_xlim(-1, 25)\n",
    "ax.grid()\n",
    "ax.legend();\n",
    "plt.tight_layout()"
   ]
  },
  {
   "cell_type": "markdown",
   "metadata": {},
   "source": [
    "The measured spectrum consists of a a slowly varying baseline, the so-called the continuum ridge, with peaks added on top. Some of these peaks are caused by x-ray fluorescence of specific chemical elements or Other peaks are just noise. The difficulty with these kind of spectra is that the noise level varies with the signal according to Poisson statistics. The variance of noise is linearly proportional to the signal level. For this reason, we observe more noise on top of the continuum ridge. \n",
    "\n",
    "In order to distinguish significant peaks from noise it is possible to estimate a baseline with a noise envelope for the hotmax spectra with the `compute_hotmax_noise()`function. The algorithm used in estimating the baseline function is the rolling ball filter. In accordance with Poisson statistics, the noise level is estimated as a square root function of the baseline level. "
   ]
  },
  {
   "cell_type": "code",
   "execution_count": null,
   "metadata": {},
   "outputs": [],
   "source": [
    "from maxrf4u import compute_hotmax_noise"
   ]
  },
  {
   "cell_type": "code",
   "execution_count": null,
   "metadata": {},
   "outputs": [
    {
     "name": "stdout",
     "output_type": "stream",
     "text": [
      "Ready computing 22 noise envelopes.                           \n",
      "\n",
      "Write hotmax baselines and noiselines to datastack file [y/n]? n\n"
     ]
    }
   ],
   "source": [
    "compute_hotmax_noise('RP-T-1898-A-3689.datastack')"
   ]
  },
  {
   "cell_type": "markdown",
   "metadata": {},
   "source": [
    "Given the computed noise envelope for each spectrum we are now ready to locate potentially significant peaks with the `compute_subpeaks()` function and save their locations to the datastack file. "
   ]
  },
  {
   "cell_type": "code",
   "execution_count": null,
   "metadata": {},
   "outputs": [],
   "source": [
    "from maxrf4u import compute_subpeaks"
   ]
  },
  {
   "cell_type": "code",
   "execution_count": null,
   "metadata": {},
   "outputs": [
    {
     "name": "stdout",
     "output_type": "stream",
     "text": [
      "Write hotmax baselines and noiselines to datastack file [y/n]? n\n"
     ]
    }
   ],
   "source": [
    "compute_subpeaks('RP-T-1898-A-3689.datastack');"
   ]
  },
  {
   "cell_type": "markdown",
   "metadata": {},
   "source": [
    "We can now create a `HotmaxAtlas` object to plot all spectra with their noise envelopes and sub peaks with the `HotmaxAtlas.plot_spectra()` method. "
   ]
  },
  {
   "cell_type": "code",
   "execution_count": null,
   "metadata": {},
   "outputs": [],
   "source": [
    "from maxrf4u import HotmaxAtlas "
   ]
  },
  {
   "cell_type": "code",
   "execution_count": null,
   "metadata": {},
   "outputs": [],
   "source": [
    "hma = HotmaxAtlas('RP-T-1898-A-3689.datastack')\n",
    "\n",
    "#hma.plot_spectra()"
   ]
  },
  {
   "cell_type": "markdown",
   "metadata": {},
   "source": [
    "Or we can plot a single spectrum with `HotmaxAtlas.plot_spectrum(<nr>)` to inspect a specific hotmax spectrum. "
   ]
  },
  {
   "cell_type": "code",
   "execution_count": null,
   "metadata": {},
   "outputs": [
    {
     "data": {
      "text/html": [
       "..<img src=\"./images/40_hotmax_59b91d8949.png\">"
      ]
     },
     "execution_count": null,
     "metadata": {},
     "output_type": "execute_result"
    }
   ],
   "source": [
    "hma.plot_spectrum(12);"
   ]
  },
  {
   "cell_type": "markdown",
   "metadata": {},
   "source": [
    "Each specific chemical element present is known to cause a specific peak pattern. Now we need to solve the inverse problem, which I call 'the peak pattern puzzle'. Given a spectrum, which combination of elements is likely to have caused the combination of peaks we find in the spectrum? This is the topic of the next section... "
   ]
  },
  {
   "cell_type": "markdown",
   "metadata": {},
   "source": [
    "# FUNCTIONS  "
   ]
  },
  {
   "cell_type": "code",
   "execution_count": null,
   "metadata": {},
   "outputs": [],
   "source": [
    "#|export \n",
    "\n",
    "import maxrf4u \n",
    "import scipy.signal as ssg \n",
    "import numpy as np \n",
    "import time \n",
    "import matplotlib.pyplot as plt \n",
    "from dask.diagnostics import ProgressBar \n",
    "import scipy.ndimage.morphology as morph \n",
    "import scipy.interpolate as sip \n",
    "from IPython.display import SVG "
   ]
  },
  {
   "cell_type": "code",
   "execution_count": null,
   "metadata": {},
   "outputs": [],
   "source": [
    "#|export \n",
    "\n",
    "class HotmaxAtlas(): \n",
    "    \n",
    "    def __init__(self, datastack_file, prominence=0.2): \n",
    "        \n",
    "        # read from datastack file (arrays)\n",
    "        \n",
    "        ds = maxrf4u.DataStack(datastack_file)\n",
    "        \n",
    "        self.x_keVs = ds.read('maxrf_energies') \n",
    "        self.y_max = ds.read('maxrf_maxspectrum') \n",
    "        self.hotmax_pixels = ds.read('hotmax_pixels')\n",
    "        self.hotmax_spectra = ds.read('hotmax_spectra')\n",
    "        self.baselines = ds.read('hotmax_baselines')\n",
    "        self.noiselines = ds.read('hotmax_noiselines') \n",
    "        \n",
    "        self.n_spectra = len(self.hotmax_spectra) \n",
    "        self.submax_spectrum = np.max(self.hotmax_spectra, axis=0) # core max spectrum\n",
    "        \n",
    "        # read from datastack file (ragged lists) \n",
    "        \n",
    "        self.peak_idxs_list = ds.read_list('hotmax_peak_idxs_list')\n",
    "        self.subpeak_idxs_list = ds.read_list('hotmax_subpeak_idxs_list')  \n",
    "        \n",
    "         \n",
    "    def plot_spectrum(self, n, ax=None, legend=False, headspace=1, footspace=0.1, \n",
    "                      hotlines_ticklabels=True, tight_layout=False): \n",
    "        \n",
    "        if ax is None: \n",
    "\n",
    "            fig, ax = plt.subplots(figsize=[9, 3])\n",
    "            \n",
    "        # NO LONGER \n",
    "        #hmp_i = self.hotmax_pixels[n, 2] \n",
    "        \n",
    "        # the hotmax spectrum \n",
    "        ax.plot(self.x_keVs, self.hotmax_spectra[n], \n",
    "                zorder=-1, label=f'hotmax spectrum #{n}')\n",
    "        \n",
    "        # maxspectrum \n",
    "        ax.fill_between(self.x_keVs, self.y_max, color='r', alpha=0.15, zorder=8-30, label='max spectrum')\n",
    "        ax.fill_between(self.x_keVs, self.submax_spectrum, color='r', alpha=0.1)\n",
    "        \n",
    "        # noise envelope \n",
    "        ax.fill_between(self.x_keVs, self.baselines[n], self.noiselines[n], \n",
    "                        color=[0.5, 0.5, 0.9], zorder=10-30, alpha=0.4, label='noise envelope')\n",
    "        \n",
    "        # fill subpeaks \n",
    "        ax.fill_between(self.x_keVs, self.noiselines[n], self.hotmax_spectra[n], \n",
    "                        where=self.hotmax_spectra[n] > self.noiselines[n],\n",
    "                        color='b', alpha=0.5, zorder=8-30, label='max spectrum')\n",
    "   \n",
    "        # NEED DIFFERENT CODE \n",
    "        # the hotmax pixel peak (square marker)\n",
    "        #hmp_x = self.x_keVs[hmp_i]\n",
    "        #hmp_y = self.hotmax_spectra[n, hmp_i]\n",
    "        #ax.scatter(hmp_x, hmp_y, marker='s', zorder=1, edgecolor='r', \n",
    "        #           facecolor='w', label=f'hotmax peak #{n}')\n",
    "        \n",
    "        hmp_x = self.x_keVs[self.peak_idxs_list[n]]\n",
    "        hmp_y = self.hotmax_spectra[n][self.peak_idxs_list[n]]\n",
    "        ax.scatter(hmp_x, hmp_y, marker='s', zorder=1, edgecolor='r', \n",
    "                   facecolor='w', label=f'hotmax peak #{n}') \n",
    "\n",
    "        # submax peaks (round markers)\n",
    "        peaks_x = self.x_keVs[self.subpeak_idxs_list[n]]\n",
    "        peaks_y = self.hotmax_spectra[n, self.subpeak_idxs_list[n]]\n",
    "        ax.scatter(peaks_x, peaks_y, edgecolor='b', alpha=1, zorder=0, facecolor='w')\n",
    "        \n",
    "        # annotate submax peaks \n",
    "        peak_labels = [f'({i})' for i, _ in enumerate(self.subpeak_idxs_list[n])]\n",
    "        ann_list = []\n",
    "        for i, plabel in enumerate(peak_labels):  \n",
    "            peak_xy = peaks_x[i], peaks_y[i] \n",
    "            ann = ax.annotate(plabel, peak_xy, xytext=[0, 10], color='b', \n",
    "                              textcoords='offset points', ha='center')\n",
    "            ann_list.append(ann)\n",
    " \n",
    "\n",
    "        # plot limits \n",
    "        ymax = 1.15 * self.hotmax_spectra[n].max() # add space for peak labels \n",
    "        ymin = -ymax / 5 \n",
    "        ax.set_ylim(footspace * ymin, headspace * ymax)\n",
    "        xlim = self.x_keVs[max(self.hotmax_pixels[:, 2])] + 2\n",
    "        ax.set_xlim(-1, xlim)\n",
    "        \n",
    "        # remove negative yticks from footspace  \n",
    "        yticks = ax.get_yticks()\n",
    "        is_positive = yticks >= 0\n",
    "        ax.set_yticks(yticks[is_positive])\n",
    "        # again why ?? \n",
    "        ax.set_ylim(footspace * ymin, headspace * ymax)\n",
    "        \n",
    "        # label \n",
    "        ax.text(0.995, 0.98, f'#{n}', c='grey', ha='right', va='top', transform=ax.transAxes)\n",
    "        \n",
    "        \n",
    "        # plot lines in pattern overview for all hotmax peaks  \n",
    "        lines_x = self.x_keVs[self.hotmax_pixels[:, 2]]\n",
    "        ax.vlines(lines_x, ymin=0, ymax=2*ymax*headspace, color='r', alpha=0.2, zorder=9-30)\n",
    "        \n",
    "        \n",
    "        # add legend and labels etcetera if standalone \n",
    "        if legend:    \n",
    "            ax.set_xlabel('energy [keV]')\n",
    "            ax.set_ylabel('Intensity [#counts]')\n",
    "            ax.legend() \n",
    "        \n",
    "        \n",
    "        # add hotlines ticklabels \n",
    "        if hotlines_ticklabels: \n",
    "            x_keVs = self.x_keVs\n",
    "            hotmax_z = self.hotmax_pixels[:, 2]\n",
    "\n",
    "            #ax, _ = hma.plot_spectrum(10)\n",
    "            twax = ax.twiny()\n",
    "            twax.set_xlim(ax.get_xlim())\n",
    "            twax.set_xticks(x_keVs[hotmax_z])\n",
    "            twax.set_xticklabels(range(len(hotmax_z)), fontsize=6, color='r')\n",
    "\n",
    "            twax.tick_params(color=[1, 0.5, 0.5], pad=0)\n",
    "        \n",
    "        if tight_layout: \n",
    "            plt.tight_layout()\n",
    "        \n",
    "        return ax, ann_list \n",
    "    \n",
    "        \n",
    "    def plot_spectra(self, svg=True): \n",
    "        \n",
    "        if svg: \n",
    "            plt.ioff()\n",
    "        \n",
    "        fig, axs = plt.subplots(nrows=self.n_spectra, figsize=[9, self.n_spectra], sharex=True)\n",
    "        \n",
    "        axs[0].set_title('hotmax spectra')\n",
    "        \n",
    "        xlim = self.x_keVs[max(self.hotmax_pixels[:, 2])] + 2\n",
    "        \n",
    "        for n, ax in enumerate(axs): \n",
    "            self.plot_spectrum(n, ax=ax, hotlines_ticklabels=False)\n",
    "            \n",
    "            # limits \n",
    "            ylim = 1.3 * self.hotmax_spectra[n].max()\n",
    "            ax.set_ylim(-1, ylim)\n",
    "            ax.set_xlim(-1, xlim)\n",
    "            #ax.text(0.95, 0.95, f'{n}', ha='right', va='top', transform=ax.transAxes)\n",
    "        \n",
    "        ax.set_xlabel('Energy [keV]')\n",
    "        \n",
    "        plt.tight_layout() \n",
    "        plt.subplots_adjust(hspace=0.1)\n",
    "        \n",
    "        \n",
    "        if svg: \n",
    "            plt.savefig('plot.svg') \n",
    "            fig.clear()\n",
    "            plt.ion()\n",
    "            return SVG('plot.svg')\n",
    "\n",
    "        \n",
    "        \n",
    "def compute_hotmax_spectra(datastack_file, prominence=0.35): \n",
    "    '''Collect hotmax pixels and corresponding spectra from *datastack_file*. \n",
    "    \n",
    "    Ask user confirmation for saving result to datastack file. \n",
    "    '''\n",
    "   \n",
    "    # read max spectrum \n",
    "    ds = maxrf4u.DataStack(datastack_file)\n",
    "    x_keVs = ds.read(ds.MAXRF_ENERGIES)\n",
    "    y_max = ds.read(ds.MAXRF_MAXSPECTRUM)\n",
    "\n",
    "    # locate max spectrum peaks in max spectrum \n",
    "    peak_indices, _ = ssg.find_peaks(y_max, prominence=prominence)\n",
    "    peaks_x = x_keVs[peak_indices]\n",
    "    peaks_y = y_max[peak_indices]\n",
    "    \n",
    "    # plot max spectrum with peaks \n",
    "    \n",
    "    plt.close('all')\n",
    "    plt.ion() # important for updating plots with fig.canvas.draw() \n",
    "    \n",
    "    fig, ax = plt.subplots(figsize=[9, 4])\n",
    "\n",
    "    fig.canvas.draw()   \n",
    "    ax.fill_between(x_keVs, y_max, color='r', alpha=0.3)\n",
    "    ax.scatter(peaks_x, peaks_y, facecolor='w', edgecolor='r')  \n",
    "    ax.set_xlim(peaks_x[0] - 0.5, peaks_x[-1] + 5) \n",
    "    ax.set_ylim(-5, 1.15 * np.max(peaks_y))\n",
    "    \n",
    "    plt.pause(0.3) \n",
    "    fig.canvas.draw() \n",
    "    fig.canvas.flush_events()\n",
    "    \n",
    "\n",
    "    for i, peak_xy in enumerate(zip(peaks_x, peaks_y)): \n",
    "        ax.annotate(f'[{i}]', peak_xy, xytext=[0, 10], color='r', \n",
    "                        textcoords='offset points', ha='center')\n",
    "    ax.set_xlabel('Energy [keV]')\n",
    "    ax.set_ylabel('Max spectrum intensity [counts]')\n",
    "    ax.set_title(f'Found {len(peak_indices)} peaks with prominence > {prominence}')\n",
    "    ax.grid()\n",
    "\n",
    "    plt.pause(0.3) \n",
    "    fig.canvas.draw() \n",
    "    fig.canvas.flush_events()\n",
    " \n",
    "    \n",
    "    # read corresponding channel maps for all max peak indices \n",
    "    print('Step 1/3: Reading hot max channel maps...')\n",
    "    with ProgressBar(): \n",
    "        channel_maps = ds.maxrf_cube[:,:,peak_indices].compute() \n",
    "\n",
    "    channel_maps = channel_maps.transpose([2, 0, 1])\n",
    "\n",
    "    # locate hot max pixels in channel maps \n",
    "    print('Step 2/3: Locating hot max pixels...')\n",
    "    hot_pixels = []\n",
    "    for k, c_map in enumerate(channel_maps): \n",
    "        hot_i, hot_j = np.argwhere(c_map == peaks_y[k]).flatten()\n",
    "        hot_pixels.append([hot_i, hot_j, peak_indices[k]]) # xy\n",
    "\n",
    "    hot_pixels = np.array(hot_pixels)  \n",
    "    \n",
    "    # need to deduplicate identical spectra (i.e. superimposed hotmax pixels)\n",
    "    \n",
    "    hotmax_spots, hotmax_peak_idxs_list = _group_superimposed(hot_pixels)\n",
    "    \n",
    "\n",
    "    # read spectrum for each hot max pixel  \n",
    "    hotmax_spectra = [] \n",
    "    for n, [i, j] in enumerate(hotmax_spots):\n",
    "        print(f'Step 3/3: Reading hot max spectrum {n}/{len(hotmax_spots) - 1}...', end='\\r')\n",
    "        spectrum = ds.maxrf_cube[i,j,:].compute()\n",
    "        hotmax_spectra.append(spectrum)\n",
    "        \n",
    "        ax.plot(x_keVs, spectrum, color='b', linewidth=0.5, alpha=0.5) \n",
    "        ax.fill_between(x_keVs, spectrum, color='b', linewidth=0.5, alpha=0.3) \n",
    "        \n",
    "        # DEPRECIATING MASK, INSTEAD USING RAGGED LIST  \n",
    "        \n",
    "        #x = x_keVs[hotmax_mask[n]]\n",
    "        #y = spectrum[hotmax_mask[n]] \n",
    "        \n",
    "        x = x_keVs[hotmax_peak_idxs_list[n]]\n",
    "        y = spectrum[hotmax_peak_idxs_list[n]]\n",
    "        ax.scatter(x, y, facecolor='b', edgecolor='r') \n",
    "\n",
    "        # force updating plot \n",
    "        plt.pause(0.2) \n",
    "        fig.canvas.draw()\n",
    "        fig.canvas.flush_events()\n",
    "        \n",
    "    print(f'Step 3/3: Ready with reading hot max spectra. ')\n",
    "\n",
    "    hotmax_spectra = np.array(hotmax_spectra)   \n",
    "    \n",
    "    # user input           \n",
    "    write = input('Write hotmax spectra, spots and peak indices to datastack file [y/n]? ')\n",
    "         \n",
    "    if write == 'y': \n",
    "        maxrf4u.append(hotmax_spectra, ds.HOTMAX_SPECTRA, ds.datastack_file)\n",
    "        maxrf4u.append(hotmax_spots, 'hotmax_spots', ds.datastack_file) \n",
    "        maxrf4u.append_list(hotmax_peak_idxs_list, 'hotmax_peak_idxs_list', ds.datastack_file) \n",
    "\n",
    "        print(f'\\nSaved hotmax data to: {ds.datastack_file}')\n",
    "        \n",
    "    # force updating plot \n",
    "    plt.pause(0.3) \n",
    "    fig.canvas.draw()\n",
    "    fig.canvas.flush_events()\n",
    "    \n",
    "    return  \n",
    "\n",
    "\n",
    "\n",
    "def compute_hotmax_noise(datastack_file, radius=200, alpha=0.6, beta=0.1): \n",
    "    '''Utility function to get baselines and noiselines from hotmax spectra in *datastack_file*.  \n",
    "    \n",
    "    Use once to compute base noise envelopes. Ask user confirmation for saving result to datastack file. '''\n",
    "    \n",
    "    ds = maxrf4u.DataStack(datastack_file)\n",
    "    \n",
    "    x_keVs = ds.read(ds.MAXRF_ENERGIES)\n",
    "    hotmax_spectra = ds.read(ds.HOTMAX_SPECTRA)\n",
    "        \n",
    "    baseline_spectra = []  \n",
    "    noiseline_spectra = []\n",
    "    \n",
    "    for i, spectrum in enumerate(hotmax_spectra): \n",
    "        \n",
    "        print(f'Computing noise envelope for hotmax spectrum {i+1}/{len(hotmax_spectra)}...', end='\\r')\n",
    "        \n",
    "        baseline, lowest_indices = _baseline(x_keVs, spectrum, radius=radius, return_indices=True)\n",
    "        baseline_spectra.append(baseline)\n",
    "        \n",
    "        noiseline = _noiseline(baseline, alpha=alpha, beta=beta) \n",
    "        noiseline_spectra.append(noiseline) \n",
    "        \n",
    "    print(f'Ready computing {len(hotmax_spectra)} noise envelopes.                           \\n')\n",
    "    \n",
    "    # user input           \n",
    "    write = input('Write hotmax baselines and noiselines to datastack file [y/n]? ')\n",
    "         \n",
    "    if write == 'y': \n",
    "        maxrf4u.append(baseline_spectra, ds.HOTMAX_BASELINES, ds.datastack_file)\n",
    "        maxrf4u.append(noiseline_spectra, ds.HOTMAX_NOISELINES, ds.datastack_file) \n",
    "\n",
    "        print(f'\\nSaved hotmax noise data to: {ds.datastack_file}')\n",
    "    \n",
    "    return \n",
    "\n",
    "def compute_subpeaks(datastack_file, prominence=0.2): \n",
    "    '''Find subpeaks in hotmax spectrum that exceed the noise envelope.\n",
    "    \n",
    "    Writes result to datas\n",
    "    \n",
    "    Returns: list of hotmax sub peak indices'''\n",
    "    \n",
    "    subpeak_idxs_list = []\n",
    "    \n",
    "    ds = maxrf4u.DataStack(datastack_file)\n",
    "    hotmax_spectra = ds.read('hotmax_spectra')\n",
    "    noiselines = ds.read('hotmax_noiselines')\n",
    "    \n",
    "    for y_hot, noiseline in zip(hotmax_spectra, noiselines): \n",
    "    \n",
    "        # clip \n",
    "        above_noise = y_hot - noiseline \n",
    "        above_noise[above_noise < 0] = 0 \n",
    "\n",
    "        peak_idxs, _ = ssg.find_peaks(above_noise, prominence=prominence) \n",
    "\n",
    "        # sort by peak height \n",
    "        peak_heights = above_noise[peak_idxs]\n",
    "        peak_order = np.argsort(peak_heights)[::-1] \n",
    "        peak_idxs = peak_idxs[peak_order] \n",
    "\n",
    "        # hack to correct peak positions due to baseline tilting \n",
    "        peak_idxs = _untilt(peak_idxs, y_hot, delta=5) \n",
    "        \n",
    "        # append \n",
    "        subpeak_idxs_list.append(peak_idxs)\n",
    "         \n",
    "    # user input           \n",
    "    write = input('Write hotmax baselines and noiselines to datastack file [y/n]? ')    \n",
    "    \n",
    "    if write == 'y': \n",
    "         \n",
    "        datapath = 'hotmax_subpeak_idxs_list'\n",
    "        maxrf4u.append_list(subpeak_idxs_list, datapath, datastack_file)       \n",
    "        print(f'\\nSaved hotmax subpeak indexes list to: {datastack_file}')\n",
    "        \n",
    "    \n",
    "    return subpeak_idxs_list \n",
    "\n",
    "\n",
    "\n",
    "def _baseline(x_keVs, spectrum, radius=200, return_indices=False): \n",
    "    '''Calculate rolling ball baseline for *spectrum*.  \n",
    "    \n",
    "    Uses Euclidian distance map to select only the lowest surges that touch the rolling ball.'''\n",
    "\n",
    "    spectrum_norm = spectrum / spectrum.max()\n",
    "    \n",
    "    w = len(spectrum) \n",
    "    h = w // 2\n",
    "\n",
    "    # initialize ramp with normalized spectrum in top half  \n",
    "    ramp = np.ones([h, w]) * np.linspace(1, -1, h)[:, None]\n",
    "    \n",
    "    # create boolean mask from spectrum \n",
    "    spectrum_mask = ramp < spectrum_norm \n",
    "    \n",
    "    # create distance map for spectrum mask. \n",
    "    dist_map, index_images = morph.distance_transform_edt(spectrum_mask, return_indices=True)\n",
    "\n",
    "    # we only need the second (x-axis) channel index image\n",
    "    _, index_img = index_images \n",
    "\n",
    "    # roll the ball \n",
    "    ball_mask = dist_map < radius \n",
    "    ball_profile = ball_mask.sum(axis=0) \n",
    "\n",
    "    # get touching surges indices \n",
    "    lowest_indices = list(set(index_img[ball_profile, range(w)]))\n",
    "    \n",
    "    # create linear interpolation between the selected lowest surges (valleys)\n",
    "    # added fill_value=0 to avoid Nan's if extrapolating loose ends to avoid Nan's in baseline \n",
    "    interpolation = sip.interp1d(x_keVs[lowest_indices], spectrum[lowest_indices], bounds_error=False, fill_value=0)\n",
    "    baseline = interpolation(x_keVs) \n",
    "    \n",
    "    # valley indices \n",
    "    if return_indices: \n",
    "        return baseline, lowest_indices \n",
    "    \n",
    "    return baseline \n",
    "\n",
    "def _noiseline(baseline, alpha=0.6, beta=0.1): \n",
    "    '''Estimate Poisson noise line from *baseline*. '''\n",
    "    \n",
    "    noiseline = baseline + alpha * np.sqrt(baseline + beta**2)\n",
    "    \n",
    "    return noiseline \n",
    "\n",
    "\n",
    "\n",
    "def _untilt(peak_idxs, y_hot, delta=5): \n",
    "    '''Adjust peak index positions to nearest true maxima.'''\n",
    "    \n",
    "    local_maxima = ssg.argrelextrema(y_hot, np.greater)[0] \n",
    "    \n",
    "    new_peak_idxs = []\n",
    "\n",
    "    for i in peak_idxs: \n",
    "    \n",
    "        if i in list(local_maxima): \n",
    "            new_peak_idxs.append(i)\n",
    "\n",
    "        else: \n",
    "            nearest = np.argmin((local_maxima - i)**2)\n",
    "            i_new = local_maxima[nearest] \n",
    "            new_peak_idxs.append(i_new) \n",
    "            \n",
    "    # check  \n",
    "    for i in new_peak_idxs: \n",
    "        assert i in list(local_maxima), 'Peak adjustment error'\n",
    "            \n",
    "    return new_peak_idxs \n",
    "\n",
    "\n",
    "def _group_superimposed(hotmax_pixels): \n",
    "    '''Group superimposed `hotmax_pixels`. \n",
    "    \n",
    "    Returns: hotmax_spots, hotmax_peak_idxs_list '''\n",
    "    \n",
    "    hotspots = hotmax_pixels[:,:2] \n",
    "    unique_hotspots = np.unique(hotspots, axis=0)\n",
    "    \n",
    "    # create ragged sorted list of indices \n",
    "    indices_list = [] \n",
    "\n",
    "    for u in unique_hotspots: \n",
    "        is_spot = np.all(hotspots == u, axis=1)\n",
    "        indices = np.arange(len(hotspots))[is_spot].tolist()\n",
    "        indices_list.append(indices)\n",
    "        \n",
    "    first_indices = [idxs[0] for idxs in indices_list]\n",
    "\n",
    "    # sort spectrum indices according to lowest energy hotmax peak \n",
    "    sorting = np.argsort(first_indices)\n",
    "    ragged_idxs = [indices_list[s] for s in sorting] \n",
    "    \n",
    "    # create corresponding ragged list of peak channel indices \n",
    "    hotmax_peak_idxs_list = [list(hotmax_pixels[:,2][idxs]) for idxs in ragged_idxs] \n",
    "    \n",
    "    # create corresponding list hotspots \n",
    "    hotmax_spots = np.array([hotmax_pixels[idxs[0]][0:2] for idxs in ragged_idxs])\n",
    "    \n",
    "    # DEPRECIATING BOOLEAN MASK: WILL USE append_list() INSTEAD  \n",
    "    ## creat mask\n",
    "    #n_hotspots = len(hotmax_spots)\n",
    "    #shape = [n_hotspots, n_channels]\n",
    "    #hotmax_mask = np.zeros(shape, dtype=bool)\n",
    "    #\n",
    "    #for i, idxs in enumerate(ragged_indices): \n",
    "    #    peak_idxs = hotmax_pixels[idxs][:, 2]\n",
    "    #    hotmax_mask[i][peak_idxs] = True               \n",
    "    #\n",
    "    #return hotmax_spots, hotmax_mask \n",
    "    \n",
    "    return hotmax_spots, hotmax_peak_idxs_list \n",
    "    "
   ]
  }
 ],
 "metadata": {
  "kernelspec": {
   "display_name": "python3",
   "language": "python",
   "name": "python3"
  }
 },
 "nbformat": 4,
 "nbformat_minor": 4
}
