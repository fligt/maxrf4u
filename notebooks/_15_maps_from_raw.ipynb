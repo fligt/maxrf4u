{
 "cells": [
  {
   "cell_type": "code",
   "execution_count": 1,
   "id": "92bb263b-27c2-4e47-a3db-a1bc96c8d29f",
   "metadata": {
    "execution": {
     "iopub.execute_input": "2025-03-13T10:38:55.976690Z",
     "iopub.status.busy": "2025-03-13T10:38:55.976401Z",
     "iopub.status.idle": "2025-03-13T10:38:59.115340Z",
     "shell.execute_reply": "2025-03-13T10:38:59.114578Z",
     "shell.execute_reply.started": "2025-03-13T10:38:55.976662Z"
    }
   },
   "outputs": [
    {
     "name": "stdout",
     "output_type": "stream",
     "text": [
      "/home/koen-van-tilburg/Documents\n",
      "0.1.32\n"
     ]
    }
   ],
   "source": [
    "import maxrf4u as mx\n",
    "#from glob import glob\n",
    "import re \n",
    "import os\n",
    "from IPython.display import clear_output\n",
    "#import numpy as np\n",
    "#import matplotlib.pyplot as plt\n",
    "#import sklearn.decomposition as skd \n",
    "#import skimage.exposure as ske \n",
    "#from pathlib import Path\n",
    "#import zarr\n",
    "#import dask\n",
    "#import dask.array as da\n",
    "#import cv2\n",
    "\n",
    "os.chdir('..') \n",
    "print(os.getcwd())\n",
    "print(mx.__version__)"
   ]
  },
  {
   "cell_type": "markdown",
   "id": "24444b03-e708-4a62-83f7-923e8abc0a66",
   "metadata": {
    "execution": {
     "iopub.execute_input": "2025-03-12T13:35:38.441977Z",
     "iopub.status.busy": "2025-03-12T13:35:38.441703Z",
     "iopub.status.idle": "2025-03-12T13:35:38.444603Z",
     "shell.execute_reply": "2025-03-12T13:35:38.444136Z",
     "shell.execute_reply.started": "2025-03-12T13:35:38.441925Z"
    }
   },
   "source": [
    "# Parameters"
   ]
  },
  {
   "cell_type": "code",
   "execution_count": 5,
   "id": "a7649ea8-41d9-40e3-b732-8614380320b4",
   "metadata": {
    "execution": {
     "iopub.execute_input": "2025-03-13T10:39:53.395428Z",
     "iopub.status.busy": "2025-03-13T10:39:53.394808Z",
     "iopub.status.idle": "2025-03-13T10:39:53.402813Z",
     "shell.execute_reply": "2025-03-13T10:39:53.401519Z",
     "shell.execute_reply.started": "2025-03-13T10:39:53.395371Z"
    }
   },
   "outputs": [],
   "source": [
    "raw_file = \"./maxrf4u/data/raw/WM-71803-1_400_600_50.raw\"\n",
    "rpl_file = \"./maxrf4u/data/raw/WM-71803-1_400_600_50.rpl\"\n",
    "output_loc = \"./maxrf4u/data/datastacks/\"\n",
    "chunk_size = \"10 MiB\"\n",
    "ELEMENTS_UNSORTED = ['S', 'K', 'Ca', 'Ba', 'Ti', 'Cr', 'Mn', 'Fe', 'Ni', 'Cu', 'Zn', 'Au', 'Ag', 'Hg', 'As', 'Pb', 'Sr', 'Zr'] "
   ]
  },
  {
   "cell_type": "code",
   "execution_count": 6,
   "id": "775d35d5-1ae7-47a5-bccc-5db4262854ca",
   "metadata": {
    "execution": {
     "iopub.execute_input": "2025-03-13T10:39:53.885068Z",
     "iopub.status.busy": "2025-03-13T10:39:53.884441Z",
     "iopub.status.idle": "2025-03-13T10:39:53.899797Z",
     "shell.execute_reply": "2025-03-13T10:39:53.898249Z",
     "shell.execute_reply.started": "2025-03-13T10:39:53.885011Z"
    }
   },
   "outputs": [],
   "source": [
    "# CONSTANTS\n",
    "STEPS = 7\n",
    "\n",
    "def raw_to_wow(elements_unsorted, raw_file, rpl_file, output_dir=None, chunks='auto', auto_write=True):\n",
    "    '''Pipeline function to go from raw + rpl files to a fully completed datastack file with element maps'''\n",
    "    _print_and_clear(\"Generating datastack\", 1)\n",
    "    mx.raw_to_datastack(raw_file, rpl_file, output_dir=output_dir, chunks=chunks)\n",
    "    _print_and_clear(\"Calibrating energies\", 2)\n",
    "    mx.calibrate(datastack_file, auto_write=auto_write)\n",
    "    _print_and_clear(\"Computing hotmax spectra\", 3)\n",
    "    mx.compute_hotmax_spectra(datastack_file, auto_write=auto_write)\n",
    "    _print_and_clear(\"Computing hotmax noise\", 4)\n",
    "    mx.compute_hotmax_noise(datastack_file, auto_write=auto_write)\n",
    "    _print_and_clear(\"Computing subpeaks\", 5)\n",
    "    mx.compute_subpeaks(datastack_file, auto_write=auto_write)\n",
    "    _print_and_clear(\"Computing peak maps\", 6)\n",
    "    mx.compute_nmf_peakmaps(datastack_file, auto_write=auto_write)\n",
    "    _print_and_clear(\"Computing element maps\", 7)\n",
    "    mx.compute_nmf_element_maps(datastack_file, auto_write=auto_write, elements_unsorted=elements_unsorted)\n",
    "    clear_output()\n",
    "    print(\"Datastack finished\")\n",
    "    print(f\"Stored at {datastack_file}\")\n",
    "    mx.tree(datastack_file)\n",
    "\n",
    "def _print_and_clear(message, step):\n",
    "    clear_output(wait=True)\n",
    "    print(f\"{message} ~{step}/{STEPS}\")"
   ]
  },
  {
   "cell_type": "code",
   "execution_count": 7,
   "id": "0440bb51-6592-415d-a731-5a305f74c5c0",
   "metadata": {
    "execution": {
     "iopub.execute_input": "2025-03-13T10:39:54.821223Z",
     "iopub.status.busy": "2025-03-13T10:39:54.820088Z",
     "iopub.status.idle": "2025-03-13T10:39:54.891671Z",
     "shell.execute_reply": "2025-03-13T10:39:54.890710Z",
     "shell.execute_reply.started": "2025-03-13T10:39:54.821165Z"
    }
   },
   "outputs": [
    {
     "name": "stdout",
     "output_type": "stream",
     "text": [
      "Generating datastack ~1/7\n",
      "Please wait while preparing data conversion...\n"
     ]
    },
    {
     "ename": "AssertionError",
     "evalue": "Can not save to non-existing directory.",
     "output_type": "error",
     "traceback": [
      "\u001b[0;31m---------------------------------------------------------------------------\u001b[0m",
      "\u001b[0;31mAssertionError\u001b[0m                            Traceback (most recent call last)",
      "Cell \u001b[0;32mIn[7], line 1\u001b[0m\n\u001b[0;32m----> 1\u001b[0m \u001b[43mraw_to_wow\u001b[49m\u001b[43m(\u001b[49m\u001b[43mELEMENTS_UNSORTED\u001b[49m\u001b[43m,\u001b[49m\u001b[43m \u001b[49m\u001b[43mraw_file\u001b[49m\u001b[43m,\u001b[49m\u001b[43m \u001b[49m\u001b[43mrpl_file\u001b[49m\u001b[43m \u001b[49m\u001b[43m,\u001b[49m\u001b[43mchunk_size\u001b[49m\u001b[43m)\u001b[49m\n",
      "Cell \u001b[0;32mIn[6], line 10\u001b[0m, in \u001b[0;36mraw_to_wow\u001b[0;34m(elements_unsorted, raw_file, rpl_file, output_dir, chunks, auto_write)\u001b[0m\n\u001b[1;32m      8\u001b[0m \u001b[38;5;250m\u001b[39m\u001b[38;5;124;03m'''Pipeline function to go from raw + rpl files to a fully completed datastack file with element maps'''\u001b[39;00m\n\u001b[1;32m      9\u001b[0m _print_and_clear(\u001b[38;5;124m\"\u001b[39m\u001b[38;5;124mGenerating datastack\u001b[39m\u001b[38;5;124m\"\u001b[39m, \u001b[38;5;241m1\u001b[39m)\n\u001b[0;32m---> 10\u001b[0m \u001b[43mmx\u001b[49m\u001b[38;5;241;43m.\u001b[39;49m\u001b[43mraw_to_datastack\u001b[49m\u001b[43m(\u001b[49m\u001b[43mraw_file\u001b[49m\u001b[43m,\u001b[49m\u001b[43m \u001b[49m\u001b[43mrpl_file\u001b[49m\u001b[43m,\u001b[49m\u001b[43m \u001b[49m\u001b[43moutput_dir\u001b[49m\u001b[38;5;241;43m=\u001b[39;49m\u001b[43moutput_dir\u001b[49m\u001b[43m,\u001b[49m\u001b[43m \u001b[49m\u001b[43mchunks\u001b[49m\u001b[38;5;241;43m=\u001b[39;49m\u001b[43mchunks\u001b[49m\u001b[43m)\u001b[49m\n\u001b[1;32m     11\u001b[0m _print_and_clear(\u001b[38;5;124m\"\u001b[39m\u001b[38;5;124mCalibrating energies\u001b[39m\u001b[38;5;124m\"\u001b[39m, \u001b[38;5;241m2\u001b[39m)\n\u001b[1;32m     12\u001b[0m mx\u001b[38;5;241m.\u001b[39mcalibrate(stack, auto_write\u001b[38;5;241m=\u001b[39mauto_write)\n",
      "File \u001b[0;32m~/Documents/maxrf4u/maxrf4u/maxrf4u/storage.py:77\u001b[0m, in \u001b[0;36mraw_to_datastack\u001b[0;34m(raw_file, rpl_file, output_dir, datapath, verbose, flip_horizontal, flip_vertical, chunks, rechunk)\u001b[0m\n\u001b[1;32m     73\u001b[0m     datastack_file \u001b[38;5;241m=\u001b[39m re\u001b[38;5;241m.\u001b[39msub(\u001b[38;5;124m'\u001b[39m\u001b[38;5;130;01m\\\\\u001b[39;00m\u001b[38;5;124m.raw$\u001b[39m\u001b[38;5;124m'\u001b[39m, \u001b[38;5;124m'\u001b[39m\u001b[38;5;124m'\u001b[39m, raw_file) \u001b[38;5;241m+\u001b[39m DATASTACK_EXT \n\u001b[1;32m     75\u001b[0m \u001b[38;5;28;01melse\u001b[39;00m: \n\u001b[1;32m     76\u001b[0m     \u001b[38;5;66;03m# save in output folder \u001b[39;00m\n\u001b[0;32m---> 77\u001b[0m     \u001b[38;5;28;01massert\u001b[39;00m os\u001b[38;5;241m.\u001b[39mpath\u001b[38;5;241m.\u001b[39mexists(output_dir),  \u001b[38;5;124m'\u001b[39m\u001b[38;5;124mCan not save to non-existing directory.\u001b[39m\u001b[38;5;124m'\u001b[39m     \n\u001b[1;32m     78\u001b[0m     basename \u001b[38;5;241m=\u001b[39m os\u001b[38;5;241m.\u001b[39mpath\u001b[38;5;241m.\u001b[39mbasename(raw_file) \n\u001b[1;32m     79\u001b[0m     basename \u001b[38;5;241m=\u001b[39m re\u001b[38;5;241m.\u001b[39msub(\u001b[38;5;124m'\u001b[39m\u001b[38;5;130;01m\\\\\u001b[39;00m\u001b[38;5;124m.raw$\u001b[39m\u001b[38;5;124m'\u001b[39m, \u001b[38;5;124m'\u001b[39m\u001b[38;5;124m'\u001b[39m, basename) \u001b[38;5;241m+\u001b[39m DATASTACK_EXT\n",
      "\u001b[0;31mAssertionError\u001b[0m: Can not save to non-existing directory."
     ]
    }
   ],
   "source": [
    "raw_to_wow(ELEMENTS_UNSORTED, raw_file, rpl_file ,chunk_size)"
   ]
  },
  {
   "cell_type": "code",
   "execution_count": null,
   "id": "45800829-1dfb-4542-a6bc-31fa08a7bfbb",
   "metadata": {},
   "outputs": [],
   "source": []
  }
 ],
 "metadata": {
  "kernelspec": {
   "display_name": "Python 3 (ipykernel)",
   "language": "python",
   "name": "python3"
  },
  "language_info": {
   "codemirror_mode": {
    "name": "ipython",
    "version": 3
   },
   "file_extension": ".py",
   "mimetype": "text/x-python",
   "name": "python",
   "nbconvert_exporter": "python",
   "pygments_lexer": "ipython3",
   "version": "3.12.5"
  },
  "widgets": {
   "application/vnd.jupyter.widget-state+json": {
    "state": {},
    "version_major": 2,
    "version_minor": 0
   }
  }
 },
 "nbformat": 4,
 "nbformat_minor": 5
}
