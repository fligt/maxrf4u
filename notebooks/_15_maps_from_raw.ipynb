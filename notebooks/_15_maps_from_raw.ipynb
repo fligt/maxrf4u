{
 "cells": [
  {
   "cell_type": "code",
   "execution_count": null,
   "id": "92bb263b-27c2-4e47-a3db-a1bc96c8d29f",
   "metadata": {},
   "outputs": [
    {
     "name": "stdout",
     "output_type": "stream",
     "text": [
      "/home/koen-van-tilburg/Documents\n",
      "0.1.32\n"
     ]
    }
   ],
   "source": [
    "import maxrf4u as mx\n",
    "#from glob import glob\n",
    "import re \n",
    "import os\n",
    "from IPython.display import clear_output\n",
    "#import numpy as np\n",
    "#import matplotlib.pyplot as plt\n",
    "#import sklearn.decomposition as skd \n",
    "#import skimage.exposure as ske \n",
    "#from pathlib import Path\n",
    "#import zarr\n",
    "#import dask\n",
    "#import dask.array as da\n",
    "#import cv2\n",
    "\n",
    "os.chdir('..') \n",
    "print(os.getcwd())\n",
    "print(mx.__version__)"
   ]
  },
  {
   "cell_type": "markdown",
   "id": "24444b03-e708-4a62-83f7-923e8abc0a66",
   "metadata": {},
   "source": [
    "# Parameters"
   ]
  },
  {
   "cell_type": "code",
   "execution_count": null,
   "id": "775d35d5-1ae7-47a5-bccc-5db4262854ca",
   "metadata": {},
   "outputs": [],
   "source": [
    "# CONSTANTS\n",
    "STEPS = 7\n",
    "\n",
    "def raw_to_element_maps(elements_unsorted, raw_file, rpl_file, output_dir=None, chunks='auto', auto_write=True):\n",
    "    '''Convert Bruker Macro XRF (.raw) data file `raw_filename` and (.rpl) shape file `rpl_filename`\n",
    "    \n",
    "    into element maps based on the list `elements_unsorted`.\n",
    "    \n",
    "    Running into memory errors? see: dask.array.core.normalize_chunks for chunk options.'''\n",
    "    \n",
    "    _print_and_clear(\"Generating datastack\", 1)\n",
    "    datastack_file = mx.raw_to_datastack(raw_file, rpl_file, output_dir=output_dir, chunks=chunks)\n",
    "    \n",
    "    _print_and_clear(\"Calibrating energies\", 2)\n",
    "    mx.calibrate(datastack_file, auto_write=auto_write)\n",
    "    \n",
    "    _print_and_clear(\"Computing hotmax spectra\", 3)\n",
    "    mx.compute_hotmax_spectra(datastack_file, auto_write=auto_write)\n",
    "    \n",
    "    _print_and_clear(\"Computing hotmax noise\", 4)\n",
    "    mx.compute_hotmax_noise(datastack_file, auto_write=auto_write)\n",
    "    \n",
    "    _print_and_clear(\"Computing subpeaks\", 5)\n",
    "    mx.compute_subpeaks(datastack_file, auto_write=auto_write)\n",
    "    \n",
    "    _print_and_clear(\"Computing peak maps\", 6)\n",
    "    mx.compute_nmf_peakmaps(datastack_file, auto_write=auto_write)\n",
    "    \n",
    "    _print_and_clear(\"Computing element maps\", 7)\n",
    "    mx.compute_nmf_element_maps(datastack_file, auto_write=auto_write, elements_unsorted=elements_unsorted)\n",
    "    \n",
    "    clear_output()\n",
    "    print(\"Datastack finished\")\n",
    "    print(f\"Stored at {datastack_file}\")\n",
    "    mx.tree(datastack_file)\n",
    "\n",
    "def _print_and_clear(message, step):\n",
    "    '''Clears the cell output and prints the next step with progress number.'''\n",
    "    clear_output(wait=True)\n",
    "    print(f\"{message} ~{step}/{STEPS}\")"
   ]
  },
  {
   "cell_type": "code",
   "execution_count": null,
   "id": "a7649ea8-41d9-40e3-b732-8614380320b4",
   "metadata": {},
   "outputs": [],
   "source": [
    "raw_file = \"./maxrf4u/data/raw/WM-71803-1_400_600_50.raw\"\n",
    "rpl_file = \"./maxrf4u/data/raw/WM-71803-1_400_600_50.rpl\"\n",
    "output_loc = \"./maxrf4u/data/datastacks/\"\n",
    "chunk_size = \"10 MiB\"\n",
    "elements_unsorted = ['S', 'K', 'Ca', 'Ba', 'Ti', 'Cr', 'Mn', 'Fe', 'Ni', 'Cu', 'Zn', 'Au', 'Ag', 'Hg', 'As', 'Pb', 'Sr', 'Zr'] "
   ]
  },
  {
   "cell_type": "code",
   "execution_count": null,
   "id": "0440bb51-6592-415d-a731-5a305f74c5c0",
   "metadata": {},
   "outputs": [
    {
     "name": "stdout",
     "output_type": "stream",
     "text": [
      "Datastack finished\n",
      "Stored at ./maxrf4u/data/datastacks/WM-71803-1_400_600_50.datastack\n"
     ]
    },
    {
     "data": {
      "text/html": [
       "<pre style=\"white-space:pre;overflow-x:auto;line-height:normal;font-family:Menlo,'DejaVu Sans Mono',consolas,'Courier New',monospace\"><span style=\"font-weight: bold\">/</span>\n",
       "├── <span style=\"font-weight: bold\">compton_peak_energy</span> (1,) float64\n",
       "├── <span style=\"font-weight: bold\">hotmax_baselines</span> (32, 4096) float64\n",
       "├── <span style=\"font-weight: bold\">hotmax_noiselines</span> (32, 4096) float64\n",
       "├── <span style=\"font-weight: bold\">hotmax_peak_idxs_flat</span> (33,) int64\n",
       "├── <span style=\"font-weight: bold\">hotmax_peak_idxs_list</span> (32, 2) int64\n",
       "├── <span style=\"font-weight: bold\">hotmax_spectra</span> (32, 4096) float32\n",
       "├── <span style=\"font-weight: bold\">hotmax_spots</span> (32, 2) int64\n",
       "├── <span style=\"font-weight: bold\">hotmax_subpeak_idxs_list</span> (32, 19) int64\n",
       "├── <span style=\"font-weight: bold\">maxrf_cube</span> (583, 355, 4096) float32\n",
       "├── <span style=\"font-weight: bold\">maxrf_energies</span> (4096,) float64\n",
       "├── <span style=\"font-weight: bold\">maxrf_maxspectrum</span> (4096,) float32\n",
       "├── <span style=\"font-weight: bold\">maxrf_sumspectrum</span> (4096,) float32\n",
       "├── <span style=\"font-weight: bold\">nmf_atomnums</span> (18,) int64\n",
       "├── <span style=\"font-weight: bold\">nmf_elementmaps</span> (18, 583, 355) float32\n",
       "├── <span style=\"font-weight: bold\">nmf_gausscomponents</span> (34, 4096) float32\n",
       "├── <span style=\"font-weight: bold\">nmf_peakmaps</span> (34, 583, 355) float32\n",
       "└── <span style=\"font-weight: bold\">nmf_peaks2elements_matrix</span> (18, 33) float32\n",
       "</pre>\n"
      ],
      "text/plain": [
       "\u001b[1m/\u001b[0m\n",
       "├── \u001b[1mcompton_peak_energy\u001b[0m (1,) float64\n",
       "├── \u001b[1mhotmax_baselines\u001b[0m (32, 4096) float64\n",
       "├── \u001b[1mhotmax_noiselines\u001b[0m (32, 4096) float64\n",
       "├── \u001b[1mhotmax_peak_idxs_flat\u001b[0m (33,) int64\n",
       "├── \u001b[1mhotmax_peak_idxs_list\u001b[0m (32, 2) int64\n",
       "├── \u001b[1mhotmax_spectra\u001b[0m (32, 4096) float32\n",
       "├── \u001b[1mhotmax_spots\u001b[0m (32, 2) int64\n",
       "├── \u001b[1mhotmax_subpeak_idxs_list\u001b[0m (32, 19) int64\n",
       "├── \u001b[1mmaxrf_cube\u001b[0m (583, 355, 4096) float32\n",
       "├── \u001b[1mmaxrf_energies\u001b[0m (4096,) float64\n",
       "├── \u001b[1mmaxrf_maxspectrum\u001b[0m (4096,) float32\n",
       "├── \u001b[1mmaxrf_sumspectrum\u001b[0m (4096,) float32\n",
       "├── \u001b[1mnmf_atomnums\u001b[0m (18,) int64\n",
       "├── \u001b[1mnmf_elementmaps\u001b[0m (18, 583, 355) float32\n",
       "├── \u001b[1mnmf_gausscomponents\u001b[0m (34, 4096) float32\n",
       "├── \u001b[1mnmf_peakmaps\u001b[0m (34, 583, 355) float32\n",
       "└── \u001b[1mnmf_peaks2elements_matrix\u001b[0m (18, 33) float32\n"
      ]
     },
     "metadata": {},
     "output_type": "display_data"
    },
    {
     "name": "stdout",
     "output_type": "stream",
     "text": [
      "./maxrf4u/data/datastacks/WM-71803-1_400_600_50.datastack:\n",
      "\n",
      "\n"
     ]
    }
   ],
   "source": [
    "raw_to_element_maps(elements_unsorted, raw_file, rpl_file, output_loc,chunk_size)"
   ]
  },
  {
   "cell_type": "code",
   "execution_count": null,
   "id": "45800829-1dfb-4542-a6bc-31fa08a7bfbb",
   "metadata": {},
   "outputs": [],
   "source": []
  }
 ],
 "metadata": {
  "kernelspec": {
   "display_name": "python3",
   "language": "python",
   "name": "python3"
  },
  "widgets": {
   "application/vnd.jupyter.widget-state+json": {
    "state": {},
    "version_major": 2,
    "version_minor": 0
   }
  }
 },
 "nbformat": 4,
 "nbformat_minor": 5
}
